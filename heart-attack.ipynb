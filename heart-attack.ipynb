{
 "cells": [
  {
   "cell_type": "code",
   "execution_count": 1,
   "id": "eaee9a3f-ac41-451c-8fda-b690356a4045",
   "metadata": {},
   "outputs": [
    {
     "name": "stderr",
     "output_type": "stream",
     "text": [
      "/Users/ozerozdal/anaconda3/envs/heart-attack/lib/python3.10/site-packages/tqdm/auto.py:21: TqdmWarning: IProgress not found. Please update jupyter and ipywidgets. See https://ipywidgets.readthedocs.io/en/stable/user_install.html\n",
      "  from .autonotebook import tqdm as notebook_tqdm\n"
     ]
    }
   ],
   "source": [
    "import pandas as pd\n",
    "import numpy as np\n",
    "from sklearn.model_selection import train_test_split\n",
    "from sklearn.metrics import classification_report\n",
    "from sklearn.metrics import accuracy_score\n",
    "from sklearn.metrics import confusion_matrix\n",
    "from sklearn.metrics import roc_auc_score, f1_score\n",
    "from sklearn.preprocessing import LabelEncoder\n",
    "from sklearn.compose import ColumnTransformer\n",
    "from sklearn.preprocessing import OneHotEncoder\n",
    "from imblearn.over_sampling import ADASYN\n",
    "import matplotlib.pyplot as plt\n",
    "from sklearn.preprocessing import StandardScaler\n",
    "from sklearn.ensemble import StackingClassifier\n",
    "from sklearn.linear_model import LogisticRegression\n",
    "from sklearn.ensemble import VotingClassifier\n",
    "from sklearn.cluster import AgglomerativeClustering\n",
    "import scipy.cluster.hierarchy as sch\n",
    "import shap, plotly\n",
    "import warnings\n",
    "warnings.filterwarnings('ignore')\n",
    "plotly.io.renderers.default = \"browser\""
   ]
  },
  {
   "cell_type": "code",
   "execution_count": 2,
   "id": "18875ef8",
   "metadata": {},
   "outputs": [
    {
     "data": {
      "text/html": [
       "        <script type=\"text/javascript\">\n",
       "        window.PlotlyConfig = {MathJaxConfig: 'local'};\n",
       "        if (window.MathJax && window.MathJax.Hub && window.MathJax.Hub.Config) {window.MathJax.Hub.Config({SVG: {font: \"STIX-Web\"}});}\n",
       "        if (typeof require !== 'undefined') {\n",
       "        require.undef(\"plotly\");\n",
       "        requirejs.config({\n",
       "            paths: {\n",
       "                'plotly': ['https://cdn.plot.ly/plotly-2.31.1.min']\n",
       "            }\n",
       "        });\n",
       "        require(['plotly'], function(Plotly) {\n",
       "            window._Plotly = Plotly;\n",
       "        });\n",
       "        }\n",
       "        </script>\n",
       "        "
      ]
     },
     "metadata": {},
     "output_type": "display_data"
    },
    {
     "data": {
      "text/html": [
       "        <script type=\"text/javascript\">\n",
       "        window.PlotlyConfig = {MathJaxConfig: 'local'};\n",
       "        if (window.MathJax && window.MathJax.Hub && window.MathJax.Hub.Config) {window.MathJax.Hub.Config({SVG: {font: \"STIX-Web\"}});}\n",
       "        if (typeof require !== 'undefined') {\n",
       "        require.undef(\"plotly\");\n",
       "        requirejs.config({\n",
       "            paths: {\n",
       "                'plotly': ['https://cdn.plot.ly/plotly-2.31.1.min']\n",
       "            }\n",
       "        });\n",
       "        require(['plotly'], function(Plotly) {\n",
       "            window._Plotly = Plotly;\n",
       "        });\n",
       "        }\n",
       "        </script>\n",
       "        "
      ]
     },
     "metadata": {},
     "output_type": "display_data"
    }
   ],
   "source": [
    "# Importing my own functions\n",
    "\n",
    "from decision_tree import decision_tree\n",
    "from adaboost import adaboost_classifier\n",
    "from knn import knn_classifier\n",
    "from naive_bayes import naive_bayes\n",
    "from svm import support_vector_machines\n",
    "from random_forest import random_forest\n",
    "from logistic_regression import logistic_regression\n",
    "from xgboost_classifier import xgboost_classifier\n",
    "\n",
    "from confusion_matrix import confusion_matrix_plot as cm_plot\n",
    "from plotly.offline import init_notebook_mode\n",
    "init_notebook_mode(connected=True) # initiate notebook for offline plot"
   ]
  },
  {
   "cell_type": "code",
   "execution_count": 3,
   "id": "40a38152-9200-49d2-9e18-3fa35037ba36",
   "metadata": {},
   "outputs": [],
   "source": [
    "# Path to data file\n",
    "data = \"data/echocardiogram.data\""
   ]
  },
  {
   "cell_type": "code",
   "execution_count": 4,
   "id": "5f220110-3233-4eac-bb2d-77183af9f429",
   "metadata": {},
   "outputs": [
    {
     "data": {
      "text/html": [
       "<div>\n",
       "<style scoped>\n",
       "    .dataframe tbody tr th:only-of-type {\n",
       "        vertical-align: middle;\n",
       "    }\n",
       "\n",
       "    .dataframe tbody tr th {\n",
       "        vertical-align: top;\n",
       "    }\n",
       "\n",
       "    .dataframe thead th {\n",
       "        text-align: right;\n",
       "    }\n",
       "</style>\n",
       "<table border=\"1\" class=\"dataframe\">\n",
       "  <thead>\n",
       "    <tr style=\"text-align: right;\">\n",
       "      <th></th>\n",
       "      <th>0</th>\n",
       "      <th>1</th>\n",
       "      <th>2</th>\n",
       "      <th>3</th>\n",
       "      <th>4</th>\n",
       "      <th>5</th>\n",
       "      <th>6</th>\n",
       "      <th>7</th>\n",
       "      <th>8</th>\n",
       "      <th>9</th>\n",
       "      <th>10</th>\n",
       "      <th>11</th>\n",
       "      <th>12</th>\n",
       "    </tr>\n",
       "  </thead>\n",
       "  <tbody>\n",
       "    <tr>\n",
       "      <th>0</th>\n",
       "      <td>11.0</td>\n",
       "      <td>0</td>\n",
       "      <td>71</td>\n",
       "      <td>0</td>\n",
       "      <td>0.260</td>\n",
       "      <td>9</td>\n",
       "      <td>4.600</td>\n",
       "      <td>14</td>\n",
       "      <td>1</td>\n",
       "      <td>1</td>\n",
       "      <td>name</td>\n",
       "      <td>1</td>\n",
       "      <td>0</td>\n",
       "    </tr>\n",
       "    <tr>\n",
       "      <th>1</th>\n",
       "      <td>19.0</td>\n",
       "      <td>0</td>\n",
       "      <td>72</td>\n",
       "      <td>0</td>\n",
       "      <td>0.380</td>\n",
       "      <td>6</td>\n",
       "      <td>4.100</td>\n",
       "      <td>14</td>\n",
       "      <td>1.700</td>\n",
       "      <td>0.588</td>\n",
       "      <td>name</td>\n",
       "      <td>1</td>\n",
       "      <td>0</td>\n",
       "    </tr>\n",
       "    <tr>\n",
       "      <th>2</th>\n",
       "      <td>16.0</td>\n",
       "      <td>0</td>\n",
       "      <td>55</td>\n",
       "      <td>0</td>\n",
       "      <td>0.260</td>\n",
       "      <td>4</td>\n",
       "      <td>3.420</td>\n",
       "      <td>14</td>\n",
       "      <td>1</td>\n",
       "      <td>1</td>\n",
       "      <td>name</td>\n",
       "      <td>1</td>\n",
       "      <td>0</td>\n",
       "    </tr>\n",
       "    <tr>\n",
       "      <th>3</th>\n",
       "      <td>57.0</td>\n",
       "      <td>0</td>\n",
       "      <td>60</td>\n",
       "      <td>0</td>\n",
       "      <td>0.253</td>\n",
       "      <td>12.062</td>\n",
       "      <td>4.603</td>\n",
       "      <td>16</td>\n",
       "      <td>1.450</td>\n",
       "      <td>0.788</td>\n",
       "      <td>name</td>\n",
       "      <td>1</td>\n",
       "      <td>0</td>\n",
       "    </tr>\n",
       "    <tr>\n",
       "      <th>4</th>\n",
       "      <td>19.0</td>\n",
       "      <td>1</td>\n",
       "      <td>57</td>\n",
       "      <td>0</td>\n",
       "      <td>0.160</td>\n",
       "      <td>22</td>\n",
       "      <td>5.750</td>\n",
       "      <td>18</td>\n",
       "      <td>2.250</td>\n",
       "      <td>0.571</td>\n",
       "      <td>name</td>\n",
       "      <td>1</td>\n",
       "      <td>0</td>\n",
       "    </tr>\n",
       "  </tbody>\n",
       "</table>\n",
       "</div>"
      ],
      "text/plain": [
       "     0   1   2   3      4       5      6   7      8      9     10 11 12\n",
       "0  11.0   0  71   0  0.260       9  4.600  14      1      1  name  1  0\n",
       "1  19.0   0  72   0  0.380       6  4.100  14  1.700  0.588  name  1  0\n",
       "2  16.0   0  55   0  0.260       4  3.420  14      1      1  name  1  0\n",
       "3  57.0   0  60   0  0.253  12.062  4.603  16  1.450  0.788  name  1  0\n",
       "4  19.0   1  57   0  0.160      22  5.750  18  2.250  0.571  name  1  0"
      ]
     },
     "execution_count": 4,
     "metadata": {},
     "output_type": "execute_result"
    }
   ],
   "source": [
    "# Read the .data file into a DataFrame\n",
    "df = pd.read_csv(data, header=None) # Assuming there's no header in the file\n",
    "df.head() # Display the first few rows of the DataFrame"
   ]
  },
  {
   "cell_type": "code",
   "execution_count": 5,
   "id": "e7c89248-239a-4c0b-a068-2a6a2e5d7d34",
   "metadata": {},
   "outputs": [
    {
     "data": {
      "text/html": [
       "<div>\n",
       "<style scoped>\n",
       "    .dataframe tbody tr th:only-of-type {\n",
       "        vertical-align: middle;\n",
       "    }\n",
       "\n",
       "    .dataframe tbody tr th {\n",
       "        vertical-align: top;\n",
       "    }\n",
       "\n",
       "    .dataframe thead th {\n",
       "        text-align: right;\n",
       "    }\n",
       "</style>\n",
       "<table border=\"1\" class=\"dataframe\">\n",
       "  <thead>\n",
       "    <tr style=\"text-align: right;\">\n",
       "      <th></th>\n",
       "      <th>survival</th>\n",
       "      <th>still-alive</th>\n",
       "      <th>age-at-heart-attack</th>\n",
       "      <th>pericardial-effusion</th>\n",
       "      <th>fractional-shortening</th>\n",
       "      <th>epss</th>\n",
       "      <th>lvdd</th>\n",
       "      <th>wall-motion-score</th>\n",
       "      <th>wall-motion-index</th>\n",
       "      <th>mult</th>\n",
       "      <th>name</th>\n",
       "      <th>group</th>\n",
       "      <th>alive-at-1</th>\n",
       "    </tr>\n",
       "  </thead>\n",
       "  <tbody>\n",
       "    <tr>\n",
       "      <th>0</th>\n",
       "      <td>11.0</td>\n",
       "      <td>0</td>\n",
       "      <td>71</td>\n",
       "      <td>0</td>\n",
       "      <td>0.260</td>\n",
       "      <td>9</td>\n",
       "      <td>4.600</td>\n",
       "      <td>14</td>\n",
       "      <td>1</td>\n",
       "      <td>1</td>\n",
       "      <td>name</td>\n",
       "      <td>1</td>\n",
       "      <td>0</td>\n",
       "    </tr>\n",
       "    <tr>\n",
       "      <th>1</th>\n",
       "      <td>19.0</td>\n",
       "      <td>0</td>\n",
       "      <td>72</td>\n",
       "      <td>0</td>\n",
       "      <td>0.380</td>\n",
       "      <td>6</td>\n",
       "      <td>4.100</td>\n",
       "      <td>14</td>\n",
       "      <td>1.700</td>\n",
       "      <td>0.588</td>\n",
       "      <td>name</td>\n",
       "      <td>1</td>\n",
       "      <td>0</td>\n",
       "    </tr>\n",
       "    <tr>\n",
       "      <th>2</th>\n",
       "      <td>16.0</td>\n",
       "      <td>0</td>\n",
       "      <td>55</td>\n",
       "      <td>0</td>\n",
       "      <td>0.260</td>\n",
       "      <td>4</td>\n",
       "      <td>3.420</td>\n",
       "      <td>14</td>\n",
       "      <td>1</td>\n",
       "      <td>1</td>\n",
       "      <td>name</td>\n",
       "      <td>1</td>\n",
       "      <td>0</td>\n",
       "    </tr>\n",
       "    <tr>\n",
       "      <th>3</th>\n",
       "      <td>57.0</td>\n",
       "      <td>0</td>\n",
       "      <td>60</td>\n",
       "      <td>0</td>\n",
       "      <td>0.253</td>\n",
       "      <td>12.062</td>\n",
       "      <td>4.603</td>\n",
       "      <td>16</td>\n",
       "      <td>1.450</td>\n",
       "      <td>0.788</td>\n",
       "      <td>name</td>\n",
       "      <td>1</td>\n",
       "      <td>0</td>\n",
       "    </tr>\n",
       "    <tr>\n",
       "      <th>4</th>\n",
       "      <td>19.0</td>\n",
       "      <td>1</td>\n",
       "      <td>57</td>\n",
       "      <td>0</td>\n",
       "      <td>0.160</td>\n",
       "      <td>22</td>\n",
       "      <td>5.750</td>\n",
       "      <td>18</td>\n",
       "      <td>2.250</td>\n",
       "      <td>0.571</td>\n",
       "      <td>name</td>\n",
       "      <td>1</td>\n",
       "      <td>0</td>\n",
       "    </tr>\n",
       "  </tbody>\n",
       "</table>\n",
       "</div>"
      ],
      "text/plain": [
       "   survival  still-alive age-at-heart-attack  pericardial-effusion  \\\n",
       "0      11.0            0                  71                     0   \n",
       "1      19.0            0                  72                     0   \n",
       "2      16.0            0                  55                     0   \n",
       "3      57.0            0                  60                     0   \n",
       "4      19.0            1                  57                     0   \n",
       "\n",
       "  fractional-shortening    epss   lvdd wall-motion-score wall-motion-index  \\\n",
       "0                 0.260       9  4.600                14                 1   \n",
       "1                 0.380       6  4.100                14             1.700   \n",
       "2                 0.260       4  3.420                14                 1   \n",
       "3                 0.253  12.062  4.603                16             1.450   \n",
       "4                 0.160      22  5.750                18             2.250   \n",
       "\n",
       "    mult  name group alive-at-1  \n",
       "0      1  name     1          0  \n",
       "1  0.588  name     1          0  \n",
       "2      1  name     1          0  \n",
       "3  0.788  name     1          0  \n",
       "4  0.571  name     1          0  "
      ]
     },
     "execution_count": 5,
     "metadata": {},
     "output_type": "execute_result"
    }
   ],
   "source": [
    "# Define column names\n",
    "column_names = [\"survival\", \"still-alive\", \"age-at-heart-attack\", \"pericardial-effusion\", \"fractional-shortening\",\n",
    "               \"epss\", \"lvdd\", \"wall-motion-score\", \"wall-motion-index\", \"mult\", \"name\", \"group\", \"alive-at-1\"] # Add all column names here\n",
    "\n",
    "# Assign column names to the DataFrame\n",
    "df.columns = column_names\n",
    "\n",
    "# Now you can use your DataFrame with column names assigned\n",
    "df.head() # Display the first few rows of the DataFrame"
   ]
  },
  {
   "cell_type": "code",
   "execution_count": 6,
   "id": "53bdb49a-e669-46c8-9bfa-d1421679a09c",
   "metadata": {},
   "outputs": [],
   "source": [
    "# Drop irrelevant columns\n",
    "df.drop([\"name\", \"group\", \"mult\"], axis=1, inplace=True)"
   ]
  },
  {
   "cell_type": "code",
   "execution_count": 7,
   "id": "5b5d525e-80bd-45b6-8d43-4f0d35bb3345",
   "metadata": {},
   "outputs": [
    {
     "data": {
      "text/plain": [
       "survival                 float64\n",
       "still-alive                int64\n",
       "age-at-heart-attack       object\n",
       "pericardial-effusion       int64\n",
       "fractional-shortening     object\n",
       "epss                      object\n",
       "lvdd                      object\n",
       "wall-motion-score         object\n",
       "wall-motion-index         object\n",
       "alive-at-1                object\n",
       "dtype: object"
      ]
     },
     "execution_count": 7,
     "metadata": {},
     "output_type": "execute_result"
    }
   ],
   "source": [
    "# Check dtypes for all columns in a dataframe\n",
    "df.dtypes"
   ]
  },
  {
   "cell_type": "code",
   "execution_count": 8,
   "id": "7bc9c5c9-45e3-4dad-93bd-49af6e4666e8",
   "metadata": {},
   "outputs": [
    {
     "name": "stdout",
     "output_type": "stream",
     "text": [
      "survival                 float64\n",
      "still-alive                int64\n",
      "age-at-heart-attack      float64\n",
      "pericardial-effusion       int64\n",
      "fractional-shortening    float64\n",
      "epss                     float64\n",
      "lvdd                     float64\n",
      "wall-motion-score        float64\n",
      "wall-motion-index        float64\n",
      "alive-at-1               float64\n",
      "dtype: object\n"
     ]
    }
   ],
   "source": [
    "# Convert object columns to float\n",
    "df = df.apply(pd.to_numeric, errors='coerce')\n",
    "\n",
    "# Check the data types after conversion\n",
    "print(df.dtypes)"
   ]
  },
  {
   "cell_type": "code",
   "execution_count": 9,
   "id": "1ef41003-8aee-4c7c-aaed-7470685e57d6",
   "metadata": {},
   "outputs": [
    {
     "name": "stdout",
     "output_type": "stream",
     "text": [
      "<class 'pandas.core.frame.DataFrame'>\n",
      "RangeIndex: 110 entries, 0 to 109\n",
      "Data columns (total 10 columns):\n",
      " #   Column                 Non-Null Count  Dtype  \n",
      "---  ------                 --------------  -----  \n",
      " 0   survival               110 non-null    float64\n",
      " 1   still-alive            110 non-null    int64  \n",
      " 2   age-at-heart-attack    108 non-null    float64\n",
      " 3   pericardial-effusion   110 non-null    int64  \n",
      " 4   fractional-shortening  103 non-null    float64\n",
      " 5   epss                   96 non-null     float64\n",
      " 6   lvdd                   100 non-null    float64\n",
      " 7   wall-motion-score      107 non-null    float64\n",
      " 8   wall-motion-index      109 non-null    float64\n",
      " 9   alive-at-1             73 non-null     float64\n",
      "dtypes: float64(8), int64(2)\n",
      "memory usage: 8.7 KB\n",
      "None\n"
     ]
    }
   ],
   "source": [
    "# use info() to get summary of the dataframe\n",
    "summary = df.info()\n",
    "print(summary)"
   ]
  },
  {
   "cell_type": "code",
   "execution_count": 10,
   "id": "c8f2329e-d703-4d0e-aed1-c13f43ad64d4",
   "metadata": {},
   "outputs": [
    {
     "data": {
      "text/plain": [
       "survival                  0.000000\n",
       "still-alive               0.000000\n",
       "age-at-heart-attack       1.818182\n",
       "pericardial-effusion      0.000000\n",
       "fractional-shortening     6.363636\n",
       "epss                     12.727273\n",
       "lvdd                      9.090909\n",
       "wall-motion-score         2.727273\n",
       "wall-motion-index         0.909091\n",
       "alive-at-1               33.636364\n",
       "dtype: float64"
      ]
     },
     "execution_count": 10,
     "metadata": {},
     "output_type": "execute_result"
    }
   ],
   "source": [
    "# Find out the percentage of missing values in each column in the given dataset\n",
    "df.isnull().sum() * 100 / len(df)"
   ]
  },
  {
   "cell_type": "markdown",
   "id": "c2594312",
   "metadata": {},
   "source": [
    "# Feature Engineering"
   ]
  },
  {
   "cell_type": "code",
   "execution_count": 11,
   "id": "81e6c128",
   "metadata": {},
   "outputs": [
    {
     "data": {
      "image/png": "[encoded data removed]",
      "text/plain": [
       "<Figure size 640x480 with 1 Axes>"
      ]
     },
     "metadata": {},
     "output_type": "display_data"
    }
   ],
   "source": [
    "# Distribution of age at heart attack\n",
    "ax = df['age-at-heart-attack'].plot(kind='hist',subplots=True,sharex=True,sharey=True,title='Histogram of age at heart attack', xlabel=\"Age at heart attack\")"
   ]
  },
  {
   "cell_type": "code",
   "execution_count": 12,
   "id": "988dd46a",
   "metadata": {},
   "outputs": [
    {
     "data": {
      "text/html": [
       "<div>\n",
       "<style scoped>\n",
       "    .dataframe tbody tr th:only-of-type {\n",
       "        vertical-align: middle;\n",
       "    }\n",
       "\n",
       "    .dataframe tbody tr th {\n",
       "        vertical-align: top;\n",
       "    }\n",
       "\n",
       "    .dataframe thead th {\n",
       "        text-align: right;\n",
       "    }\n",
       "</style>\n",
       "<table border=\"1\" class=\"dataframe\">\n",
       "  <thead>\n",
       "    <tr style=\"text-align: right;\">\n",
       "      <th></th>\n",
       "      <th>age-at-heart-attack</th>\n",
       "      <th>age_group</th>\n",
       "    </tr>\n",
       "  </thead>\n",
       "  <tbody>\n",
       "    <tr>\n",
       "      <th>0</th>\n",
       "      <td>71.0</td>\n",
       "      <td>65-100</td>\n",
       "    </tr>\n",
       "    <tr>\n",
       "      <th>1</th>\n",
       "      <td>72.0</td>\n",
       "      <td>65-100</td>\n",
       "    </tr>\n",
       "    <tr>\n",
       "      <th>2</th>\n",
       "      <td>55.0</td>\n",
       "      <td>55-65</td>\n",
       "    </tr>\n",
       "    <tr>\n",
       "      <th>3</th>\n",
       "      <td>60.0</td>\n",
       "      <td>55-65</td>\n",
       "    </tr>\n",
       "    <tr>\n",
       "      <th>4</th>\n",
       "      <td>57.0</td>\n",
       "      <td>55-65</td>\n",
       "    </tr>\n",
       "  </tbody>\n",
       "</table>\n",
       "</div>"
      ],
      "text/plain": [
       "   age-at-heart-attack age_group\n",
       "0                 71.0    65-100\n",
       "1                 72.0    65-100\n",
       "2                 55.0     55-65\n",
       "3                 60.0     55-65\n",
       "4                 57.0     55-65"
      ]
     },
     "execution_count": 12,
     "metadata": {},
     "output_type": "execute_result"
    }
   ],
   "source": [
    "# Define age groups\n",
    "bins = [0, 55, 65, 100]  # Define the age boundaries for each group\n",
    "labels = ['0-55', '55-65', '65-100']  # Define labels for each group\n",
    "\n",
    "# Create a new column for age groups\n",
    "df['age_group'] = pd.cut(df['age-at-heart-attack'], bins=bins, labels=labels, right=False)\n",
    "\n",
    "# Display the first few rows to verify\n",
    "df[['age-at-heart-attack', 'age_group']].head()"
   ]
  },
  {
   "cell_type": "code",
   "execution_count": 13,
   "id": "3a825d53",
   "metadata": {},
   "outputs": [
    {
     "data": {
      "text/plain": [
       "<Axes: title={'center': 'Distribution of Age Groups'}, xlabel='Age Group', ylabel='# Count'>"
      ]
     },
     "execution_count": 13,
     "metadata": {},
     "output_type": "execute_result"
    },
    {
     "data": {
      "image/png": "[encoded data removed]",
      "text/plain": [
       "<Figure size 640x480 with 1 Axes>"
      ]
     },
     "metadata": {},
     "output_type": "display_data"
    }
   ],
   "source": [
    "# Distribution of age groups\n",
    "df[\"age_group\"].value_counts().plot(kind='bar', xlabel=\"Age Group\", ylabel=\"# Count\", title='Distribution of Age Groups')"
   ]
  },
  {
   "cell_type": "code",
   "execution_count": 14,
   "id": "6ed6f571",
   "metadata": {},
   "outputs": [
    {
     "data": {
      "image/png": "[encoded data removed]",
      "text/plain": [
       "<Figure size 640x480 with 1 Axes>"
      ]
     },
     "metadata": {},
     "output_type": "display_data"
    }
   ],
   "source": [
    "# Histogram of left ventricular end-diastolic dimension\n",
    "ax = (df['lvdd']).plot(kind='hist',subplots=True,sharex=True,sharey=True,title='Histogram of left ventricular end-diastolic dimension', xlabel=\"left ventricular end-diastolic dimension\")"
   ]
  },
  {
   "cell_type": "code",
   "execution_count": 15,
   "id": "f505c13c",
   "metadata": {},
   "outputs": [
    {
     "data": {
      "image/png": "[encoded data removed]",
      "text/plain": [
       "<Figure size 640x480 with 1 Axes>"
      ]
     },
     "metadata": {},
     "output_type": "display_data"
    }
   ],
   "source": [
    "# Let's add age at heart attack and lvdd interaction term\n",
    "df['age_lvdd_interaction'] = df['age-at-heart-attack'] * df['lvdd']\n",
    "ax = (df['age_lvdd_interaction']).plot(kind='hist',subplots=True,sharex=True,sharey=True,title='Histogram of age lvdd interactions', xlabel=\"age lvdd interactions\")"
   ]
  },
  {
   "cell_type": "code",
   "execution_count": 16,
   "id": "7b496b06",
   "metadata": {},
   "outputs": [
    {
     "data": {
      "image/png": "[encoded data removed]",
      "text/plain": [
       "<Figure size 640x480 with 1 Axes>"
      ]
     },
     "metadata": {},
     "output_type": "display_data"
    }
   ],
   "source": [
    "# Histogram of wall-motion-index\n",
    "ax = (df['wall-motion-index']).plot(kind='hist',subplots=True,sharex=True,sharey=True,title='Histogram of Wall motion Index', xlabel=\"Wall Motion Index\")"
   ]
  },
  {
   "cell_type": "code",
   "execution_count": 17,
   "id": "8a7a6475",
   "metadata": {},
   "outputs": [
    {
     "data": {
      "image/png": "[encoded data removed]",
      "text/plain": [
       "<Figure size 640x480 with 1 Axes>"
      ]
     },
     "metadata": {},
     "output_type": "display_data"
    }
   ],
   "source": [
    "# Histogram of E-point septal separation\n",
    "ax = (df['epss']).plot(kind='hist',subplots=True,sharex=True,sharey=True,title='Histogram of E-point septal separation', xlabel=\"E-point septal separation\")"
   ]
  },
  {
   "cell_type": "code",
   "execution_count": 18,
   "id": "90b69ba8",
   "metadata": {},
   "outputs": [
    {
     "data": {
      "image/png": "[encoded data removed]",
      "text/plain": [
       "<Figure size 640x480 with 1 Axes>"
      ]
     },
     "metadata": {},
     "output_type": "display_data"
    }
   ],
   "source": [
    "# Let's add wall-motion-index and lvdd interaction term\n",
    "df['wall-motion-index_lvdd_interaction'] = df['wall-motion-index'] * df['lvdd']\n",
    "ax = (df['wall-motion-index_lvdd_interaction']).plot(kind='hist',subplots=True,sharex=True,sharey=True,title='Histogram of Wall motion Index and lvdd Interactions', xlabel=\"Wall Motion Index - lvdd Interactions\")"
   ]
  },
  {
   "cell_type": "code",
   "execution_count": 19,
   "id": "cc0bce5c",
   "metadata": {},
   "outputs": [
    {
     "data": {
      "text/plain": [
       "<Axes: title={'center': 'Distribution of Pericardial effusion'}, xlabel='Pericardial effusion', ylabel='# Count'>"
      ]
     },
     "execution_count": 19,
     "metadata": {},
     "output_type": "execute_result"
    },
    {
     "data": {
      "image/png": "[encoded data removed]",
      "text/plain": [
       "<Figure size 640x480 with 1 Axes>"
      ]
     },
     "metadata": {},
     "output_type": "display_data"
    }
   ],
   "source": [
    "# Distribution of Pericardial effusion\n",
    "df[\"pericardial-effusion\"].value_counts().plot(kind='bar', xlabel=\"Pericardial effusion\", ylabel=\"# Count\", title='Distribution of Pericardial effusion')"
   ]
  },
  {
   "cell_type": "code",
   "execution_count": 20,
   "id": "7284e292",
   "metadata": {},
   "outputs": [
    {
     "data": {
      "text/plain": [
       "array([<Axes: xlabel='fractional-shortening', ylabel='Frequency'>],\n",
       "      dtype=object)"
      ]
     },
     "execution_count": 20,
     "metadata": {},
     "output_type": "execute_result"
    },
    {
     "data": {
      "image/png": "[encoded data removed]",
      "text/plain": [
       "<Figure size 640x480 with 1 Axes>"
      ]
     },
     "metadata": {},
     "output_type": "display_data"
    }
   ],
   "source": [
    "# Distribution of fractional-shortening\n",
    "df[\"fractional-shortening\"].plot(kind='hist',subplots=True,sharex=True,sharey=True,title='Histogram of fractional-shortening', xlabel=\"fractional-shortening\")"
   ]
  },
  {
   "cell_type": "markdown",
   "id": "309b1ac4",
   "metadata": {},
   "source": [
    "# Preparation of Labelled Data"
   ]
  },
  {
   "cell_type": "code",
   "execution_count": 21,
   "id": "7cbe09b5",
   "metadata": {},
   "outputs": [
    {
     "data": {
      "text/html": [
       "<div>\n",
       "<style scoped>\n",
       "    .dataframe tbody tr th:only-of-type {\n",
       "        vertical-align: middle;\n",
       "    }\n",
       "\n",
       "    .dataframe tbody tr th {\n",
       "        vertical-align: top;\n",
       "    }\n",
       "\n",
       "    .dataframe thead th {\n",
       "        text-align: right;\n",
       "    }\n",
       "</style>\n",
       "<table border=\"1\" class=\"dataframe\">\n",
       "  <thead>\n",
       "    <tr style=\"text-align: right;\">\n",
       "      <th></th>\n",
       "      <th>survival</th>\n",
       "      <th>still-alive</th>\n",
       "      <th>age-at-heart-attack</th>\n",
       "      <th>pericardial-effusion</th>\n",
       "      <th>fractional-shortening</th>\n",
       "      <th>epss</th>\n",
       "      <th>lvdd</th>\n",
       "      <th>wall-motion-score</th>\n",
       "      <th>wall-motion-index</th>\n",
       "      <th>alive-at-1</th>\n",
       "      <th>age_group</th>\n",
       "      <th>age_lvdd_interaction</th>\n",
       "      <th>wall-motion-index_lvdd_interaction</th>\n",
       "      <th>target</th>\n",
       "    </tr>\n",
       "  </thead>\n",
       "  <tbody>\n",
       "    <tr>\n",
       "      <th>0</th>\n",
       "      <td>11.0</td>\n",
       "      <td>0</td>\n",
       "      <td>71.0</td>\n",
       "      <td>0</td>\n",
       "      <td>0.260</td>\n",
       "      <td>9.000</td>\n",
       "      <td>4.600</td>\n",
       "      <td>14.0</td>\n",
       "      <td>1.00</td>\n",
       "      <td>0.0</td>\n",
       "      <td>65-100</td>\n",
       "      <td>326.60</td>\n",
       "      <td>4.60000</td>\n",
       "      <td>0</td>\n",
       "    </tr>\n",
       "    <tr>\n",
       "      <th>1</th>\n",
       "      <td>19.0</td>\n",
       "      <td>0</td>\n",
       "      <td>72.0</td>\n",
       "      <td>0</td>\n",
       "      <td>0.380</td>\n",
       "      <td>6.000</td>\n",
       "      <td>4.100</td>\n",
       "      <td>14.0</td>\n",
       "      <td>1.70</td>\n",
       "      <td>0.0</td>\n",
       "      <td>65-100</td>\n",
       "      <td>295.20</td>\n",
       "      <td>6.97000</td>\n",
       "      <td>0</td>\n",
       "    </tr>\n",
       "    <tr>\n",
       "      <th>2</th>\n",
       "      <td>16.0</td>\n",
       "      <td>0</td>\n",
       "      <td>55.0</td>\n",
       "      <td>0</td>\n",
       "      <td>0.260</td>\n",
       "      <td>4.000</td>\n",
       "      <td>3.420</td>\n",
       "      <td>14.0</td>\n",
       "      <td>1.00</td>\n",
       "      <td>0.0</td>\n",
       "      <td>55-65</td>\n",
       "      <td>188.10</td>\n",
       "      <td>3.42000</td>\n",
       "      <td>0</td>\n",
       "    </tr>\n",
       "    <tr>\n",
       "      <th>3</th>\n",
       "      <td>57.0</td>\n",
       "      <td>0</td>\n",
       "      <td>60.0</td>\n",
       "      <td>0</td>\n",
       "      <td>0.253</td>\n",
       "      <td>12.062</td>\n",
       "      <td>4.603</td>\n",
       "      <td>16.0</td>\n",
       "      <td>1.45</td>\n",
       "      <td>0.0</td>\n",
       "      <td>55-65</td>\n",
       "      <td>276.18</td>\n",
       "      <td>6.67435</td>\n",
       "      <td>0</td>\n",
       "    </tr>\n",
       "    <tr>\n",
       "      <th>5</th>\n",
       "      <td>26.0</td>\n",
       "      <td>0</td>\n",
       "      <td>68.0</td>\n",
       "      <td>0</td>\n",
       "      <td>0.260</td>\n",
       "      <td>5.000</td>\n",
       "      <td>4.310</td>\n",
       "      <td>12.0</td>\n",
       "      <td>1.00</td>\n",
       "      <td>0.0</td>\n",
       "      <td>65-100</td>\n",
       "      <td>293.08</td>\n",
       "      <td>4.31000</td>\n",
       "      <td>0</td>\n",
       "    </tr>\n",
       "  </tbody>\n",
       "</table>\n",
       "</div>"
      ],
      "text/plain": [
       "   survival  still-alive  age-at-heart-attack  pericardial-effusion  \\\n",
       "0      11.0            0                 71.0                     0   \n",
       "1      19.0            0                 72.0                     0   \n",
       "2      16.0            0                 55.0                     0   \n",
       "3      57.0            0                 60.0                     0   \n",
       "5      26.0            0                 68.0                     0   \n",
       "\n",
       "   fractional-shortening    epss   lvdd  wall-motion-score  wall-motion-index  \\\n",
       "0                  0.260   9.000  4.600               14.0               1.00   \n",
       "1                  0.380   6.000  4.100               14.0               1.70   \n",
       "2                  0.260   4.000  3.420               14.0               1.00   \n",
       "3                  0.253  12.062  4.603               16.0               1.45   \n",
       "5                  0.260   5.000  4.310               12.0               1.00   \n",
       "\n",
       "   alive-at-1 age_group  age_lvdd_interaction  \\\n",
       "0         0.0    65-100                326.60   \n",
       "1         0.0    65-100                295.20   \n",
       "2         0.0     55-65                188.10   \n",
       "3         0.0     55-65                276.18   \n",
       "5         0.0    65-100                293.08   \n",
       "\n",
       "   wall-motion-index_lvdd_interaction  target  \n",
       "0                             4.60000       0  \n",
       "1                             6.97000       0  \n",
       "2                             3.42000       0  \n",
       "3                             6.67435       0  \n",
       "5                             4.31000       0  "
      ]
     },
     "execution_count": 21,
     "metadata": {},
     "output_type": "execute_result"
    }
   ],
   "source": [
    "# Select all patients who either survived beyond a two-year period or who passed away within two years of diagnosis.\n",
    "df_labelled = df[ (df[\"survival\"] >= 24) | (df[\"survival\"] < 24) & (df[\"still-alive\"] == 0) ].copy()\n",
    "df_labelled['target'] = df_labelled[\"still-alive\"].astype(int) # 1 if survived at least 2 years, else 0\n",
    "df_labelled.head()"
   ]
  },
  {
   "cell_type": "code",
   "execution_count": 22,
   "id": "ca9388c4",
   "metadata": {},
   "outputs": [
    {
     "data": {
      "text/plain": [
       "survival                               0.000000\n",
       "still-alive                            0.000000\n",
       "age-at-heart-attack                    0.000000\n",
       "pericardial-effusion                   0.000000\n",
       "fractional-shortening                  4.225352\n",
       "epss                                  11.267606\n",
       "lvdd                                   4.225352\n",
       "wall-motion-score                      1.408451\n",
       "wall-motion-index                      0.000000\n",
       "alive-at-1                            35.211268\n",
       "age_group                              0.000000\n",
       "age_lvdd_interaction                   4.225352\n",
       "wall-motion-index_lvdd_interaction     4.225352\n",
       "target                                 0.000000\n",
       "dtype: float64"
      ]
     },
     "execution_count": 22,
     "metadata": {},
     "output_type": "execute_result"
    }
   ],
   "source": [
    "# Find out the percentage of missing values in each column in the given dataset\n",
    "df_labelled.isnull().sum() * 100 / len(df_labelled)"
   ]
  },
  {
   "cell_type": "code",
   "execution_count": 23,
   "id": "8b716911",
   "metadata": {},
   "outputs": [
    {
     "data": {
      "text/html": [
       "<div>\n",
       "<style scoped>\n",
       "    .dataframe tbody tr th:only-of-type {\n",
       "        vertical-align: middle;\n",
       "    }\n",
       "\n",
       "    .dataframe tbody tr th {\n",
       "        vertical-align: top;\n",
       "    }\n",
       "\n",
       "    .dataframe thead th {\n",
       "        text-align: right;\n",
       "    }\n",
       "</style>\n",
       "<table border=\"1\" class=\"dataframe\">\n",
       "  <thead>\n",
       "    <tr style=\"text-align: right;\">\n",
       "      <th></th>\n",
       "      <th>age-at-heart-attack</th>\n",
       "      <th>pericardial-effusion</th>\n",
       "      <th>fractional-shortening</th>\n",
       "      <th>epss</th>\n",
       "      <th>lvdd</th>\n",
       "      <th>wall-motion-index</th>\n",
       "      <th>age_group</th>\n",
       "      <th>age_lvdd_interaction</th>\n",
       "      <th>wall-motion-index_lvdd_interaction</th>\n",
       "      <th>target</th>\n",
       "    </tr>\n",
       "  </thead>\n",
       "  <tbody>\n",
       "    <tr>\n",
       "      <th>0</th>\n",
       "      <td>71.0</td>\n",
       "      <td>0</td>\n",
       "      <td>0.260</td>\n",
       "      <td>9.000</td>\n",
       "      <td>4.600</td>\n",
       "      <td>1.00</td>\n",
       "      <td>65-100</td>\n",
       "      <td>326.60</td>\n",
       "      <td>4.60000</td>\n",
       "      <td>0</td>\n",
       "    </tr>\n",
       "    <tr>\n",
       "      <th>1</th>\n",
       "      <td>72.0</td>\n",
       "      <td>0</td>\n",
       "      <td>0.380</td>\n",
       "      <td>6.000</td>\n",
       "      <td>4.100</td>\n",
       "      <td>1.70</td>\n",
       "      <td>65-100</td>\n",
       "      <td>295.20</td>\n",
       "      <td>6.97000</td>\n",
       "      <td>0</td>\n",
       "    </tr>\n",
       "    <tr>\n",
       "      <th>2</th>\n",
       "      <td>55.0</td>\n",
       "      <td>0</td>\n",
       "      <td>0.260</td>\n",
       "      <td>4.000</td>\n",
       "      <td>3.420</td>\n",
       "      <td>1.00</td>\n",
       "      <td>55-65</td>\n",
       "      <td>188.10</td>\n",
       "      <td>3.42000</td>\n",
       "      <td>0</td>\n",
       "    </tr>\n",
       "    <tr>\n",
       "      <th>3</th>\n",
       "      <td>60.0</td>\n",
       "      <td>0</td>\n",
       "      <td>0.253</td>\n",
       "      <td>12.062</td>\n",
       "      <td>4.603</td>\n",
       "      <td>1.45</td>\n",
       "      <td>55-65</td>\n",
       "      <td>276.18</td>\n",
       "      <td>6.67435</td>\n",
       "      <td>0</td>\n",
       "    </tr>\n",
       "    <tr>\n",
       "      <th>5</th>\n",
       "      <td>68.0</td>\n",
       "      <td>0</td>\n",
       "      <td>0.260</td>\n",
       "      <td>5.000</td>\n",
       "      <td>4.310</td>\n",
       "      <td>1.00</td>\n",
       "      <td>65-100</td>\n",
       "      <td>293.08</td>\n",
       "      <td>4.31000</td>\n",
       "      <td>0</td>\n",
       "    </tr>\n",
       "  </tbody>\n",
       "</table>\n",
       "</div>"
      ],
      "text/plain": [
       "   age-at-heart-attack  pericardial-effusion  fractional-shortening    epss  \\\n",
       "0                 71.0                     0                  0.260   9.000   \n",
       "1                 72.0                     0                  0.380   6.000   \n",
       "2                 55.0                     0                  0.260   4.000   \n",
       "3                 60.0                     0                  0.253  12.062   \n",
       "5                 68.0                     0                  0.260   5.000   \n",
       "\n",
       "    lvdd  wall-motion-index age_group  age_lvdd_interaction  \\\n",
       "0  4.600               1.00    65-100                326.60   \n",
       "1  4.100               1.70    65-100                295.20   \n",
       "2  3.420               1.00     55-65                188.10   \n",
       "3  4.603               1.45     55-65                276.18   \n",
       "5  4.310               1.00    65-100                293.08   \n",
       "\n",
       "   wall-motion-index_lvdd_interaction  target  \n",
       "0                             4.60000       0  \n",
       "1                             6.97000       0  \n",
       "2                             3.42000       0  \n",
       "3                             6.67435       0  \n",
       "5                             4.31000       0  "
      ]
     },
     "execution_count": 23,
     "metadata": {},
     "output_type": "execute_result"
    }
   ],
   "source": [
    "# Drop unnecessary columns\n",
    "df_labelled.drop([\"survival\", \"still-alive\", \"alive-at-1\", \"wall-motion-score\"], axis=1, inplace=True)\n",
    "df_labelled.dropna(inplace=True) # Handle missing values\n",
    "df_labelled.head()"
   ]
  },
  {
   "cell_type": "code",
   "execution_count": 24,
   "id": "da5f2d63",
   "metadata": {},
   "outputs": [
    {
     "data": {
      "text/plain": [
       "(61, 10)"
      ]
     },
     "execution_count": 24,
     "metadata": {},
     "output_type": "execute_result"
    }
   ],
   "source": [
    "# Dimensions of the df_labelled dataframe\n",
    "df_labelled.shape"
   ]
  },
  {
   "cell_type": "code",
   "execution_count": 25,
   "id": "75922f99",
   "metadata": {},
   "outputs": [
    {
     "data": {
      "text/plain": [
       "target\n",
       "0    60\n",
       "1     1\n",
       "Name: count, dtype: int64"
      ]
     },
     "execution_count": 25,
     "metadata": {},
     "output_type": "execute_result"
    }
   ],
   "source": [
    "# Imbalanced target distribution\n",
    "df_labelled[\"target\"].value_counts()"
   ]
  },
  {
   "cell_type": "code",
   "execution_count": 26,
   "id": "e972be62",
   "metadata": {},
   "outputs": [
    {
     "data": {
      "text/html": [
       "<div>\n",
       "<style scoped>\n",
       "    .dataframe tbody tr th:only-of-type {\n",
       "        vertical-align: middle;\n",
       "    }\n",
       "\n",
       "    .dataframe tbody tr th {\n",
       "        vertical-align: top;\n",
       "    }\n",
       "\n",
       "    .dataframe thead th {\n",
       "        text-align: right;\n",
       "    }\n",
       "</style>\n",
       "<table border=\"1\" class=\"dataframe\">\n",
       "  <thead>\n",
       "    <tr style=\"text-align: right;\">\n",
       "      <th></th>\n",
       "      <th>age-at-heart-attack</th>\n",
       "      <th>pericardial-effusion</th>\n",
       "      <th>fractional-shortening</th>\n",
       "      <th>epss</th>\n",
       "      <th>lvdd</th>\n",
       "      <th>wall-motion-index</th>\n",
       "      <th>age_group</th>\n",
       "      <th>age_lvdd_interaction</th>\n",
       "      <th>wall-motion-index_lvdd_interaction</th>\n",
       "      <th>target</th>\n",
       "    </tr>\n",
       "  </thead>\n",
       "  <tbody>\n",
       "    <tr>\n",
       "      <th>94</th>\n",
       "      <td>74.0</td>\n",
       "      <td>0</td>\n",
       "      <td>0.2</td>\n",
       "      <td>4.8</td>\n",
       "      <td>4.56</td>\n",
       "      <td>1.04</td>\n",
       "      <td>65-100</td>\n",
       "      <td>337.44</td>\n",
       "      <td>4.7424</td>\n",
       "      <td>1</td>\n",
       "    </tr>\n",
       "  </tbody>\n",
       "</table>\n",
       "</div>"
      ],
      "text/plain": [
       "    age-at-heart-attack  pericardial-effusion  fractional-shortening  epss  \\\n",
       "94                 74.0                     0                    0.2   4.8   \n",
       "\n",
       "    lvdd  wall-motion-index age_group  age_lvdd_interaction  \\\n",
       "94  4.56               1.04    65-100                337.44   \n",
       "\n",
       "    wall-motion-index_lvdd_interaction  target  \n",
       "94                              4.7424       1  "
      ]
     },
     "execution_count": 26,
     "metadata": {},
     "output_type": "execute_result"
    }
   ],
   "source": [
    "# Let's find that one patient!\n",
    "# Select all patients who either survived beyond a two-year period\n",
    "df_labelled[df_labelled[\"target\"] == 1]"
   ]
  },
  {
   "cell_type": "code",
   "execution_count": 27,
   "id": "d2222cab",
   "metadata": {},
   "outputs": [
    {
     "name": "stdout",
     "output_type": "stream",
     "text": [
      "<class 'pandas.core.frame.DataFrame'>\n",
      "Index: 61 entries, 0 to 109\n",
      "Data columns (total 10 columns):\n",
      " #   Column                              Non-Null Count  Dtype   \n",
      "---  ------                              --------------  -----   \n",
      " 0   age-at-heart-attack                 61 non-null     float64 \n",
      " 1   pericardial-effusion                61 non-null     int64   \n",
      " 2   fractional-shortening               61 non-null     float64 \n",
      " 3   epss                                61 non-null     float64 \n",
      " 4   lvdd                                61 non-null     float64 \n",
      " 5   wall-motion-index                   61 non-null     float64 \n",
      " 6   age_group                           61 non-null     category\n",
      " 7   age_lvdd_interaction                61 non-null     float64 \n",
      " 8   wall-motion-index_lvdd_interaction  61 non-null     float64 \n",
      " 9   target                              61 non-null     int64   \n",
      "dtypes: category(1), float64(7), int64(2)\n",
      "memory usage: 5.0 KB\n"
     ]
    }
   ],
   "source": [
    "# use info() to get summary of the dataframe\n",
    "df_labelled.info()"
   ]
  },
  {
   "cell_type": "code",
   "execution_count": 28,
   "id": "da33c33d",
   "metadata": {},
   "outputs": [
    {
     "data": {
      "text/plain": [
       "['age-at-heart-attack',\n",
       " 'pericardial-effusion',\n",
       " 'fractional-shortening',\n",
       " 'epss',\n",
       " 'lvdd',\n",
       " 'wall-motion-index',\n",
       " 'age_group',\n",
       " 'age_lvdd_interaction',\n",
       " 'wall-motion-index_lvdd_interaction',\n",
       " 'target']"
      ]
     },
     "execution_count": 28,
     "metadata": {},
     "output_type": "execute_result"
    }
   ],
   "source": [
    "# Columns of the dataframe\n",
    "df_labelled.columns.tolist()"
   ]
  },
  {
   "cell_type": "code",
   "execution_count": 29,
   "id": "c0926e2b",
   "metadata": {},
   "outputs": [
    {
     "data": {
      "text/html": [
       "<div>\n",
       "<style scoped>\n",
       "    .dataframe tbody tr th:only-of-type {\n",
       "        vertical-align: middle;\n",
       "    }\n",
       "\n",
       "    .dataframe tbody tr th {\n",
       "        vertical-align: top;\n",
       "    }\n",
       "\n",
       "    .dataframe thead th {\n",
       "        text-align: right;\n",
       "    }\n",
       "</style>\n",
       "<table border=\"1\" class=\"dataframe\">\n",
       "  <thead>\n",
       "    <tr style=\"text-align: right;\">\n",
       "      <th></th>\n",
       "      <th>age_group</th>\n",
       "      <th>pericardial-effusion</th>\n",
       "      <th>age-at-heart-attack</th>\n",
       "      <th>fractional-shortening</th>\n",
       "      <th>epss</th>\n",
       "      <th>lvdd</th>\n",
       "      <th>wall-motion-index</th>\n",
       "      <th>age_lvdd_interaction</th>\n",
       "      <th>wall-motion-index_lvdd_interaction</th>\n",
       "      <th>target</th>\n",
       "    </tr>\n",
       "  </thead>\n",
       "  <tbody>\n",
       "    <tr>\n",
       "      <th>0</th>\n",
       "      <td>65-100</td>\n",
       "      <td>0</td>\n",
       "      <td>71.0</td>\n",
       "      <td>0.260</td>\n",
       "      <td>9.000</td>\n",
       "      <td>4.600</td>\n",
       "      <td>1.00</td>\n",
       "      <td>326.60</td>\n",
       "      <td>4.60000</td>\n",
       "      <td>0</td>\n",
       "    </tr>\n",
       "    <tr>\n",
       "      <th>1</th>\n",
       "      <td>65-100</td>\n",
       "      <td>0</td>\n",
       "      <td>72.0</td>\n",
       "      <td>0.380</td>\n",
       "      <td>6.000</td>\n",
       "      <td>4.100</td>\n",
       "      <td>1.70</td>\n",
       "      <td>295.20</td>\n",
       "      <td>6.97000</td>\n",
       "      <td>0</td>\n",
       "    </tr>\n",
       "    <tr>\n",
       "      <th>2</th>\n",
       "      <td>55-65</td>\n",
       "      <td>0</td>\n",
       "      <td>55.0</td>\n",
       "      <td>0.260</td>\n",
       "      <td>4.000</td>\n",
       "      <td>3.420</td>\n",
       "      <td>1.00</td>\n",
       "      <td>188.10</td>\n",
       "      <td>3.42000</td>\n",
       "      <td>0</td>\n",
       "    </tr>\n",
       "    <tr>\n",
       "      <th>3</th>\n",
       "      <td>55-65</td>\n",
       "      <td>0</td>\n",
       "      <td>60.0</td>\n",
       "      <td>0.253</td>\n",
       "      <td>12.062</td>\n",
       "      <td>4.603</td>\n",
       "      <td>1.45</td>\n",
       "      <td>276.18</td>\n",
       "      <td>6.67435</td>\n",
       "      <td>0</td>\n",
       "    </tr>\n",
       "    <tr>\n",
       "      <th>5</th>\n",
       "      <td>65-100</td>\n",
       "      <td>0</td>\n",
       "      <td>68.0</td>\n",
       "      <td>0.260</td>\n",
       "      <td>5.000</td>\n",
       "      <td>4.310</td>\n",
       "      <td>1.00</td>\n",
       "      <td>293.08</td>\n",
       "      <td>4.31000</td>\n",
       "      <td>0</td>\n",
       "    </tr>\n",
       "  </tbody>\n",
       "</table>\n",
       "</div>"
      ],
      "text/plain": [
       "  age_group  pericardial-effusion  age-at-heart-attack  fractional-shortening  \\\n",
       "0    65-100                     0                 71.0                  0.260   \n",
       "1    65-100                     0                 72.0                  0.380   \n",
       "2     55-65                     0                 55.0                  0.260   \n",
       "3     55-65                     0                 60.0                  0.253   \n",
       "5    65-100                     0                 68.0                  0.260   \n",
       "\n",
       "     epss   lvdd  wall-motion-index  age_lvdd_interaction  \\\n",
       "0   9.000  4.600               1.00                326.60   \n",
       "1   6.000  4.100               1.70                295.20   \n",
       "2   4.000  3.420               1.00                188.10   \n",
       "3  12.062  4.603               1.45                276.18   \n",
       "5   5.000  4.310               1.00                293.08   \n",
       "\n",
       "   wall-motion-index_lvdd_interaction  target  \n",
       "0                             4.60000       0  \n",
       "1                             6.97000       0  \n",
       "2                             3.42000       0  \n",
       "3                             6.67435       0  \n",
       "5                             4.31000       0  "
      ]
     },
     "execution_count": 29,
     "metadata": {},
     "output_type": "execute_result"
    }
   ],
   "source": [
    "# Change the order of DataFrame columns to prepare it for Label Encoding for the 'age_group' and 'pericardial-effusion' column\n",
    "\n",
    "df_labelled = df_labelled[[\n",
    "    'age_group',\n",
    "    'pericardial-effusion',\n",
    "    'age-at-heart-attack',\n",
    "    'fractional-shortening',\n",
    "    'epss',\n",
    "    'lvdd',\n",
    "    'wall-motion-index',\n",
    "    'age_lvdd_interaction',\n",
    "    'wall-motion-index_lvdd_interaction',\n",
    "    'target']]\n",
    "\n",
    "df_labelled.head()"
   ]
  },
  {
   "cell_type": "code",
   "execution_count": 30,
   "id": "ba530d2f",
   "metadata": {},
   "outputs": [
    {
     "data": {
      "text/html": [
       "<div>\n",
       "<style scoped>\n",
       "    .dataframe tbody tr th:only-of-type {\n",
       "        vertical-align: middle;\n",
       "    }\n",
       "\n",
       "    .dataframe tbody tr th {\n",
       "        vertical-align: top;\n",
       "    }\n",
       "\n",
       "    .dataframe thead th {\n",
       "        text-align: right;\n",
       "    }\n",
       "</style>\n",
       "<table border=\"1\" class=\"dataframe\">\n",
       "  <thead>\n",
       "    <tr style=\"text-align: right;\">\n",
       "      <th></th>\n",
       "      <th>pericardial-effusion</th>\n",
       "      <th>age-at-heart-attack</th>\n",
       "      <th>fractional-shortening</th>\n",
       "      <th>epss</th>\n",
       "      <th>lvdd</th>\n",
       "      <th>wall-motion-index</th>\n",
       "      <th>age_lvdd_interaction</th>\n",
       "      <th>wall-motion-index_lvdd_interaction</th>\n",
       "      <th>target</th>\n",
       "    </tr>\n",
       "  </thead>\n",
       "  <tbody>\n",
       "    <tr>\n",
       "      <th>count</th>\n",
       "      <td>61.000000</td>\n",
       "      <td>61.000000</td>\n",
       "      <td>61.000000</td>\n",
       "      <td>61.000000</td>\n",
       "      <td>61.000000</td>\n",
       "      <td>61.000000</td>\n",
       "      <td>61.000000</td>\n",
       "      <td>61.000000</td>\n",
       "      <td>61.000000</td>\n",
       "    </tr>\n",
       "    <tr>\n",
       "      <th>mean</th>\n",
       "      <td>0.114754</td>\n",
       "      <td>61.344262</td>\n",
       "      <td>0.243689</td>\n",
       "      <td>10.679426</td>\n",
       "      <td>4.591197</td>\n",
       "      <td>1.262230</td>\n",
       "      <td>282.419180</td>\n",
       "      <td>5.817130</td>\n",
       "      <td>0.016393</td>\n",
       "    </tr>\n",
       "    <tr>\n",
       "      <th>std</th>\n",
       "      <td>0.321370</td>\n",
       "      <td>8.767146</td>\n",
       "      <td>0.110567</td>\n",
       "      <td>6.187680</td>\n",
       "      <td>0.756471</td>\n",
       "      <td>0.353716</td>\n",
       "      <td>64.709125</td>\n",
       "      <td>2.042434</td>\n",
       "      <td>0.128037</td>\n",
       "    </tr>\n",
       "    <tr>\n",
       "      <th>min</th>\n",
       "      <td>0.000000</td>\n",
       "      <td>35.000000</td>\n",
       "      <td>0.036000</td>\n",
       "      <td>0.000000</td>\n",
       "      <td>3.100000</td>\n",
       "      <td>1.000000</td>\n",
       "      <td>145.700000</td>\n",
       "      <td>3.100000</td>\n",
       "      <td>0.000000</td>\n",
       "    </tr>\n",
       "    <tr>\n",
       "      <th>25%</th>\n",
       "      <td>0.000000</td>\n",
       "      <td>55.000000</td>\n",
       "      <td>0.170000</td>\n",
       "      <td>6.000000</td>\n",
       "      <td>4.120000</td>\n",
       "      <td>1.000000</td>\n",
       "      <td>238.360000</td>\n",
       "      <td>4.480000</td>\n",
       "      <td>0.000000</td>\n",
       "    </tr>\n",
       "    <tr>\n",
       "      <th>50%</th>\n",
       "      <td>0.000000</td>\n",
       "      <td>61.000000</td>\n",
       "      <td>0.250000</td>\n",
       "      <td>9.700000</td>\n",
       "      <td>4.490000</td>\n",
       "      <td>1.100000</td>\n",
       "      <td>279.040000</td>\n",
       "      <td>5.343100</td>\n",
       "      <td>0.000000</td>\n",
       "    </tr>\n",
       "    <tr>\n",
       "      <th>75%</th>\n",
       "      <td>0.000000</td>\n",
       "      <td>66.000000</td>\n",
       "      <td>0.300000</td>\n",
       "      <td>13.100000</td>\n",
       "      <td>5.150000</td>\n",
       "      <td>1.450000</td>\n",
       "      <td>322.920000</td>\n",
       "      <td>6.489600</td>\n",
       "      <td>0.000000</td>\n",
       "    </tr>\n",
       "    <tr>\n",
       "      <th>max</th>\n",
       "      <td>1.000000</td>\n",
       "      <td>80.000000</td>\n",
       "      <td>0.610000</td>\n",
       "      <td>31.000000</td>\n",
       "      <td>6.740000</td>\n",
       "      <td>2.390000</td>\n",
       "      <td>438.360000</td>\n",
       "      <td>14.220500</td>\n",
       "      <td>1.000000</td>\n",
       "    </tr>\n",
       "  </tbody>\n",
       "</table>\n",
       "</div>"
      ],
      "text/plain": [
       "       pericardial-effusion  age-at-heart-attack  fractional-shortening  \\\n",
       "count             61.000000            61.000000              61.000000   \n",
       "mean               0.114754            61.344262               0.243689   \n",
       "std                0.321370             8.767146               0.110567   \n",
       "min                0.000000            35.000000               0.036000   \n",
       "25%                0.000000            55.000000               0.170000   \n",
       "50%                0.000000            61.000000               0.250000   \n",
       "75%                0.000000            66.000000               0.300000   \n",
       "max                1.000000            80.000000               0.610000   \n",
       "\n",
       "            epss       lvdd  wall-motion-index  age_lvdd_interaction  \\\n",
       "count  61.000000  61.000000          61.000000             61.000000   \n",
       "mean   10.679426   4.591197           1.262230            282.419180   \n",
       "std     6.187680   0.756471           0.353716             64.709125   \n",
       "min     0.000000   3.100000           1.000000            145.700000   \n",
       "25%     6.000000   4.120000           1.000000            238.360000   \n",
       "50%     9.700000   4.490000           1.100000            279.040000   \n",
       "75%    13.100000   5.150000           1.450000            322.920000   \n",
       "max    31.000000   6.740000           2.390000            438.360000   \n",
       "\n",
       "       wall-motion-index_lvdd_interaction     target  \n",
       "count                           61.000000  61.000000  \n",
       "mean                             5.817130   0.016393  \n",
       "std                              2.042434   0.128037  \n",
       "min                              3.100000   0.000000  \n",
       "25%                              4.480000   0.000000  \n",
       "50%                              5.343100   0.000000  \n",
       "75%                              6.489600   0.000000  \n",
       "max                             14.220500   1.000000  "
      ]
     },
     "execution_count": 30,
     "metadata": {},
     "output_type": "execute_result"
    }
   ],
   "source": [
    "# df_labelled dataframe statistics\n",
    "df_labelled.describe()"
   ]
  },
  {
   "cell_type": "code",
   "execution_count": 31,
   "id": "c34092fc",
   "metadata": {},
   "outputs": [
    {
     "data": {
      "text/plain": [
       "target\n",
       "0    60\n",
       "1     1\n",
       "Name: count, dtype: int64"
      ]
     },
     "execution_count": 31,
     "metadata": {},
     "output_type": "execute_result"
    }
   ],
   "source": [
    "# At present, executing an ML model is not feasible due to the significant imbalance in the target distribution. \n",
    "# To address this issue, I will initiate an unsupervised clustering process on the unlabeled data. \n",
    "# Subsequently, I will assign labels to the clustered data and integrate them into the 'df_labelled' dataframe.\n",
    "# This approach aims to augment the number of positive samples and improve the balance within the dataset.\n",
    "\n",
    "df_labelled[\"target\"].value_counts()"
   ]
  },
  {
   "cell_type": "markdown",
   "id": "8b0ba12b",
   "metadata": {},
   "source": [
    "# Preparation of Unlabelled Data"
   ]
  },
  {
   "cell_type": "code",
   "execution_count": 32,
   "id": "6e19c513",
   "metadata": {},
   "outputs": [
    {
     "data": {
      "text/html": [
       "<div>\n",
       "<style scoped>\n",
       "    .dataframe tbody tr th:only-of-type {\n",
       "        vertical-align: middle;\n",
       "    }\n",
       "\n",
       "    .dataframe tbody tr th {\n",
       "        vertical-align: top;\n",
       "    }\n",
       "\n",
       "    .dataframe thead th {\n",
       "        text-align: right;\n",
       "    }\n",
       "</style>\n",
       "<table border=\"1\" class=\"dataframe\">\n",
       "  <thead>\n",
       "    <tr style=\"text-align: right;\">\n",
       "      <th></th>\n",
       "      <th>age_group</th>\n",
       "      <th>pericardial-effusion</th>\n",
       "      <th>age-at-heart-attack</th>\n",
       "      <th>fractional-shortening</th>\n",
       "      <th>epss</th>\n",
       "      <th>lvdd</th>\n",
       "      <th>wall-motion-index</th>\n",
       "      <th>age_lvdd_interaction</th>\n",
       "      <th>wall-motion-index_lvdd_interaction</th>\n",
       "    </tr>\n",
       "  </thead>\n",
       "  <tbody>\n",
       "    <tr>\n",
       "      <th>4</th>\n",
       "      <td>55-65</td>\n",
       "      <td>0</td>\n",
       "      <td>57.000</td>\n",
       "      <td>0.16</td>\n",
       "      <td>22.0</td>\n",
       "      <td>5.75</td>\n",
       "      <td>2.25</td>\n",
       "      <td>327.7500</td>\n",
       "      <td>12.9375</td>\n",
       "    </tr>\n",
       "    <tr>\n",
       "      <th>10</th>\n",
       "      <td>65-100</td>\n",
       "      <td>0</td>\n",
       "      <td>77.000</td>\n",
       "      <td>0.13</td>\n",
       "      <td>16.0</td>\n",
       "      <td>4.23</td>\n",
       "      <td>1.80</td>\n",
       "      <td>325.7100</td>\n",
       "      <td>7.6140</td>\n",
       "    </tr>\n",
       "    <tr>\n",
       "      <th>14</th>\n",
       "      <td>55-65</td>\n",
       "      <td>0</td>\n",
       "      <td>62.000</td>\n",
       "      <td>0.12</td>\n",
       "      <td>23.0</td>\n",
       "      <td>5.80</td>\n",
       "      <td>2.33</td>\n",
       "      <td>359.6000</td>\n",
       "      <td>13.5140</td>\n",
       "    </tr>\n",
       "    <tr>\n",
       "      <th>16</th>\n",
       "      <td>65-100</td>\n",
       "      <td>1</td>\n",
       "      <td>69.000</td>\n",
       "      <td>0.26</td>\n",
       "      <td>11.0</td>\n",
       "      <td>4.65</td>\n",
       "      <td>1.64</td>\n",
       "      <td>320.8500</td>\n",
       "      <td>7.6260</td>\n",
       "    </tr>\n",
       "    <tr>\n",
       "      <th>17</th>\n",
       "      <td>55-65</td>\n",
       "      <td>1</td>\n",
       "      <td>62.529</td>\n",
       "      <td>0.07</td>\n",
       "      <td>20.0</td>\n",
       "      <td>5.20</td>\n",
       "      <td>2.00</td>\n",
       "      <td>325.1508</td>\n",
       "      <td>10.4000</td>\n",
       "    </tr>\n",
       "  </tbody>\n",
       "</table>\n",
       "</div>"
      ],
      "text/plain": [
       "   age_group  pericardial-effusion  age-at-heart-attack  \\\n",
       "4      55-65                     0               57.000   \n",
       "10    65-100                     0               77.000   \n",
       "14     55-65                     0               62.000   \n",
       "16    65-100                     1               69.000   \n",
       "17     55-65                     1               62.529   \n",
       "\n",
       "    fractional-shortening  epss  lvdd  wall-motion-index  \\\n",
       "4                    0.16  22.0  5.75               2.25   \n",
       "10                   0.13  16.0  4.23               1.80   \n",
       "14                   0.12  23.0  5.80               2.33   \n",
       "16                   0.26  11.0  4.65               1.64   \n",
       "17                   0.07  20.0  5.20               2.00   \n",
       "\n",
       "    age_lvdd_interaction  wall-motion-index_lvdd_interaction  \n",
       "4               327.7500                             12.9375  \n",
       "10              325.7100                              7.6140  \n",
       "14              359.6000                             13.5140  \n",
       "16              320.8500                              7.6260  \n",
       "17              325.1508                             10.4000  "
      ]
     },
     "execution_count": 32,
     "metadata": {},
     "output_type": "execute_result"
    }
   ],
   "source": [
    "# Unlabelled data\n",
    "df_unlabelled = df[ (df[\"survival\"] < 24) & (df[\"still-alive\"] == 1) ]\n",
    "\n",
    "# Drop unnecessary columns\n",
    "df_unlabelled.drop([\"survival\", \"still-alive\", \"alive-at-1\", \"wall-motion-score\"], axis=1, inplace=True)\n",
    "df_unlabelled.dropna(inplace=True) # Handle missing values\n",
    "\n",
    "# Change the order of DataFrame columns to prepare it for Label Encoding for the 'age_group' and 'pericardial-effusion' column\n",
    "df_unlabelled = df_unlabelled[[\n",
    "    'age_group',\n",
    "    'pericardial-effusion',\n",
    "    'age-at-heart-attack',\n",
    "    'fractional-shortening',\n",
    "    'epss',\n",
    "    'lvdd',\n",
    "    'wall-motion-index',\n",
    "    'age_lvdd_interaction',\n",
    "    'wall-motion-index_lvdd_interaction']]\n",
    "\n",
    "df_unlabelled.head()\n"
   ]
  },
  {
   "cell_type": "code",
   "execution_count": 33,
   "id": "1c415f4e",
   "metadata": {},
   "outputs": [
    {
     "data": {
      "text/plain": [
       "(29, 9)"
      ]
     },
     "execution_count": 33,
     "metadata": {},
     "output_type": "execute_result"
    }
   ],
   "source": [
    "# Dimensions of the df_unlabelled dataframe\n",
    "df_unlabelled.shape"
   ]
  },
  {
   "cell_type": "markdown",
   "id": "61a1c58a",
   "metadata": {},
   "source": [
    "# Data Labelling Using Unsupervised Machine Learning"
   ]
  },
  {
   "cell_type": "code",
   "execution_count": 34,
   "id": "cff62e63-9807-4425-a27c-2b8a3a2f7f03",
   "metadata": {},
   "outputs": [
    {
     "data": {
      "text/html": [
       "<div>\n",
       "<style scoped>\n",
       "    .dataframe tbody tr th:only-of-type {\n",
       "        vertical-align: middle;\n",
       "    }\n",
       "\n",
       "    .dataframe tbody tr th {\n",
       "        vertical-align: top;\n",
       "    }\n",
       "\n",
       "    .dataframe thead th {\n",
       "        text-align: right;\n",
       "    }\n",
       "</style>\n",
       "<table border=\"1\" class=\"dataframe\">\n",
       "  <thead>\n",
       "    <tr style=\"text-align: right;\">\n",
       "      <th></th>\n",
       "      <th>encoder__age_group_0-55</th>\n",
       "      <th>encoder__age_group_55-65</th>\n",
       "      <th>encoder__age_group_65-100</th>\n",
       "      <th>encoder__pericardial-effusion_0</th>\n",
       "      <th>encoder__pericardial-effusion_1</th>\n",
       "      <th>remainder__age-at-heart-attack</th>\n",
       "      <th>remainder__fractional-shortening</th>\n",
       "      <th>remainder__epss</th>\n",
       "      <th>remainder__lvdd</th>\n",
       "      <th>remainder__wall-motion-index</th>\n",
       "      <th>remainder__age_lvdd_interaction</th>\n",
       "      <th>remainder__wall-motion-index_lvdd_interaction</th>\n",
       "    </tr>\n",
       "  </thead>\n",
       "  <tbody>\n",
       "    <tr>\n",
       "      <th>0</th>\n",
       "      <td>0.0</td>\n",
       "      <td>1.0</td>\n",
       "      <td>0.0</td>\n",
       "      <td>1.0</td>\n",
       "      <td>0.0</td>\n",
       "      <td>-1.121494</td>\n",
       "      <td>-0.087261</td>\n",
       "      <td>0.809901</td>\n",
       "      <td>0.816239</td>\n",
       "      <td>1.281284</td>\n",
       "      <td>-0.233672</td>\n",
       "      <td>1.44108</td>\n",
       "    </tr>\n",
       "    <tr>\n",
       "      <th>1</th>\n",
       "      <td>0.0</td>\n",
       "      <td>0.0</td>\n",
       "      <td>1.0</td>\n",
       "      <td>1.0</td>\n",
       "      <td>0.0</td>\n",
       "      <td>1.205515</td>\n",
       "      <td>-0.432341</td>\n",
       "      <td>0.029455</td>\n",
       "      <td>-1.246706</td>\n",
       "      <td>0.393393</td>\n",
       "      <td>-0.266161</td>\n",
       "      <td>-0.225763</td>\n",
       "    </tr>\n",
       "    <tr>\n",
       "      <th>2</th>\n",
       "      <td>0.0</td>\n",
       "      <td>1.0</td>\n",
       "      <td>0.0</td>\n",
       "      <td>1.0</td>\n",
       "      <td>0.0</td>\n",
       "      <td>-0.539742</td>\n",
       "      <td>-0.547367</td>\n",
       "      <td>0.939975</td>\n",
       "      <td>0.884099</td>\n",
       "      <td>1.439131</td>\n",
       "      <td>0.273564</td>\n",
       "      <td>1.621588</td>\n",
       "    </tr>\n",
       "    <tr>\n",
       "      <th>3</th>\n",
       "      <td>0.0</td>\n",
       "      <td>0.0</td>\n",
       "      <td>1.0</td>\n",
       "      <td>0.0</td>\n",
       "      <td>1.0</td>\n",
       "      <td>0.274711</td>\n",
       "      <td>1.063003</td>\n",
       "      <td>-0.620916</td>\n",
       "      <td>-0.676682</td>\n",
       "      <td>0.077699</td>\n",
       "      <td>-0.34356</td>\n",
       "      <td>-0.222006</td>\n",
       "    </tr>\n",
       "    <tr>\n",
       "      <th>4</th>\n",
       "      <td>0.0</td>\n",
       "      <td>1.0</td>\n",
       "      <td>0.0</td>\n",
       "      <td>0.0</td>\n",
       "      <td>1.0</td>\n",
       "      <td>-0.478192</td>\n",
       "      <td>-1.122499</td>\n",
       "      <td>0.549752</td>\n",
       "      <td>0.069779</td>\n",
       "      <td>0.788012</td>\n",
       "      <td>-0.275067</td>\n",
       "      <td>0.646562</td>\n",
       "    </tr>\n",
       "  </tbody>\n",
       "</table>\n",
       "</div>"
      ],
      "text/plain": [
       "  encoder__age_group_0-55 encoder__age_group_55-65 encoder__age_group_65-100  \\\n",
       "0                     0.0                      1.0                       0.0   \n",
       "1                     0.0                      0.0                       1.0   \n",
       "2                     0.0                      1.0                       0.0   \n",
       "3                     0.0                      0.0                       1.0   \n",
       "4                     0.0                      1.0                       0.0   \n",
       "\n",
       "  encoder__pericardial-effusion_0 encoder__pericardial-effusion_1  \\\n",
       "0                             1.0                             0.0   \n",
       "1                             1.0                             0.0   \n",
       "2                             1.0                             0.0   \n",
       "3                             0.0                             1.0   \n",
       "4                             0.0                             1.0   \n",
       "\n",
       "  remainder__age-at-heart-attack remainder__fractional-shortening  \\\n",
       "0                      -1.121494                        -0.087261   \n",
       "1                       1.205515                        -0.432341   \n",
       "2                      -0.539742                        -0.547367   \n",
       "3                       0.274711                         1.063003   \n",
       "4                      -0.478192                        -1.122499   \n",
       "\n",
       "  remainder__epss remainder__lvdd remainder__wall-motion-index  \\\n",
       "0        0.809901        0.816239                     1.281284   \n",
       "1        0.029455       -1.246706                     0.393393   \n",
       "2        0.939975        0.884099                     1.439131   \n",
       "3       -0.620916       -0.676682                     0.077699   \n",
       "4        0.549752        0.069779                     0.788012   \n",
       "\n",
       "  remainder__age_lvdd_interaction  \\\n",
       "0                       -0.233672   \n",
       "1                       -0.266161   \n",
       "2                        0.273564   \n",
       "3                        -0.34356   \n",
       "4                       -0.275067   \n",
       "\n",
       "  remainder__wall-motion-index_lvdd_interaction  \n",
       "0                                       1.44108  \n",
       "1                                     -0.225763  \n",
       "2                                      1.621588  \n",
       "3                                     -0.222006  \n",
       "4                                      0.646562  "
      ]
     },
     "execution_count": 34,
     "metadata": {},
     "output_type": "execute_result"
    }
   ],
   "source": [
    "# k-Means Clustering on Unlabelled Data\n",
    "# In other words, patients who had an heart attack within the past two years and are currently alive.\n",
    "X_unlabelled = df_unlabelled.values\n",
    "X_unlabelled_columns = df_unlabelled.columns.tolist()\n",
    "\n",
    "# Feature Scaling\n",
    "sc = StandardScaler()\n",
    "X_unlabelled[:, 2:] = sc.fit_transform(X_unlabelled[:, 2:])\n",
    "X_unlabelled = pd.DataFrame(X_unlabelled, columns=X_unlabelled_columns)\n",
    "\n",
    "# Encoding categorical data -> age_group and pericardial-effusion\n",
    "ct = ColumnTransformer(transformers=[('encoder', OneHotEncoder(), [0, 1])], remainder='passthrough')\n",
    "X_unlabelled = np.array(ct.fit_transform(X_unlabelled))\n",
    "X_unlabelled = pd.DataFrame(X_unlabelled, columns=ct.get_feature_names_out())\n",
    "X_unlabelled.head()\n"
   ]
  },
  {
   "cell_type": "code",
   "execution_count": 35,
   "id": "45336655",
   "metadata": {},
   "outputs": [
    {
     "data": {
      "text/plain": [
       "array([1, 0, 1, 0, 1, 0, 0, 0, 0, 0, 0, 0, 0, 1, 1, 0, 1, 0, 0, 0, 0, 0,\n",
       "       0, 0, 0, 1, 0, 0, 0])"
      ]
     },
     "execution_count": 35,
     "metadata": {},
     "output_type": "execute_result"
    }
   ],
   "source": [
    "# Hierarchical Clustering\n",
    "hc = AgglomerativeClustering(n_clusters = 2, linkage = 'ward')\n",
    "y_cluster = hc.fit_predict(X_unlabelled)\n",
    "y_cluster"
   ]
  },
  {
   "cell_type": "code",
   "execution_count": 36,
   "id": "4dd7e15f-d1fa-410f-a7f7-679495a88a30",
   "metadata": {},
   "outputs": [
    {
     "data": {
      "text/plain": [
       "0    22\n",
       "1     7\n",
       "Name: count, dtype: int64"
      ]
     },
     "execution_count": 36,
     "metadata": {},
     "output_type": "execute_result"
    }
   ],
   "source": [
    "# Distribution of two clusters\n",
    "pd.Series(y_cluster).value_counts()"
   ]
  },
  {
   "cell_type": "code",
   "execution_count": 37,
   "id": "d24bb912",
   "metadata": {},
   "outputs": [
    {
     "data": {
      "image/png": "[encoded data removed]",
      "text/plain": [
       "<Figure size 640x480 with 1 Axes>"
      ]
     },
     "metadata": {},
     "output_type": "display_data"
    }
   ],
   "source": [
    "#Using the dendrogram to find the optimal number of clusters\n",
    "dendrogram = sch.dendrogram(sch.linkage(X_unlabelled, method = 'ward'))\n",
    "plt.title('Dendrogram')\n",
    "plt.xlabel('Patients')\n",
    "plt.ylabel('Euclidean distances')\n",
    "plt.show()"
   ]
  },
  {
   "cell_type": "code",
   "execution_count": 38,
   "id": "40dfa377",
   "metadata": {},
   "outputs": [
    {
     "data": {
      "text/plain": [
       "Index(['encoder__age_group_0-55', 'encoder__age_group_55-65',\n",
       "       'encoder__age_group_65-100', 'encoder__pericardial-effusion_0',\n",
       "       'encoder__pericardial-effusion_1', 'remainder__age-at-heart-attack',\n",
       "       'remainder__fractional-shortening', 'remainder__epss',\n",
       "       'remainder__lvdd', 'remainder__wall-motion-index',\n",
       "       'remainder__age_lvdd_interaction',\n",
       "       'remainder__wall-motion-index_lvdd_interaction'],\n",
       "      dtype='object')"
      ]
     },
     "execution_count": 38,
     "metadata": {},
     "output_type": "execute_result"
    }
   ],
   "source": [
    "# Let's find out X_unlabelled column names\n",
    "X_unlabelled.columns"
   ]
  },
  {
   "cell_type": "code",
   "execution_count": 39,
   "id": "8ce3a30c",
   "metadata": {},
   "outputs": [
    {
     "data": {
      "image/png": "[encoded data removed]",
      "text/plain": [
       "<Figure size 640x480 with 1 Axes>"
      ]
     },
     "metadata": {},
     "output_type": "display_data"
    }
   ],
   "source": [
    "# Clustering Results\n",
    "plt.scatter(X_unlabelled[y_cluster == 0][\"remainder__age-at-heart-attack\"], X_unlabelled[y_cluster == 0][\"remainder__fractional-shortening\"], s = 100, c = 'red', label = 'Cluster 1')\n",
    "plt.scatter(X_unlabelled[y_cluster == 1][\"remainder__age-at-heart-attack\"], X_unlabelled[y_cluster == 1][\"remainder__fractional-shortening\"], s = 100, c = 'blue', label = 'Cluster 2')\n",
    "plt.title('Clusters of Patients')\n",
    "plt.xlabel('Age at Heart Attack')\n",
    "plt.ylabel('Fractional Shortening')\n",
    "plt.legend()\n",
    "plt.show()"
   ]
  },
  {
   "cell_type": "code",
   "execution_count": 40,
   "id": "3ac12f59-47f2-40f0-be98-507d7b53b693",
   "metadata": {},
   "outputs": [
    {
     "data": {
      "text/html": [
       "<div>\n",
       "<style scoped>\n",
       "    .dataframe tbody tr th:only-of-type {\n",
       "        vertical-align: middle;\n",
       "    }\n",
       "\n",
       "    .dataframe tbody tr th {\n",
       "        vertical-align: top;\n",
       "    }\n",
       "\n",
       "    .dataframe thead th {\n",
       "        text-align: right;\n",
       "    }\n",
       "</style>\n",
       "<table border=\"1\" class=\"dataframe\">\n",
       "  <thead>\n",
       "    <tr style=\"text-align: right;\">\n",
       "      <th></th>\n",
       "      <th>age_group</th>\n",
       "      <th>pericardial-effusion</th>\n",
       "      <th>age-at-heart-attack</th>\n",
       "      <th>fractional-shortening</th>\n",
       "      <th>epss</th>\n",
       "      <th>lvdd</th>\n",
       "      <th>wall-motion-index</th>\n",
       "      <th>age_lvdd_interaction</th>\n",
       "      <th>wall-motion-index_lvdd_interaction</th>\n",
       "      <th>target</th>\n",
       "    </tr>\n",
       "  </thead>\n",
       "  <tbody>\n",
       "    <tr>\n",
       "      <th>4</th>\n",
       "      <td>55-65</td>\n",
       "      <td>0</td>\n",
       "      <td>57.000</td>\n",
       "      <td>0.16</td>\n",
       "      <td>22.0</td>\n",
       "      <td>5.75</td>\n",
       "      <td>2.25</td>\n",
       "      <td>327.7500</td>\n",
       "      <td>12.9375</td>\n",
       "      <td>1</td>\n",
       "    </tr>\n",
       "    <tr>\n",
       "      <th>10</th>\n",
       "      <td>65-100</td>\n",
       "      <td>0</td>\n",
       "      <td>77.000</td>\n",
       "      <td>0.13</td>\n",
       "      <td>16.0</td>\n",
       "      <td>4.23</td>\n",
       "      <td>1.80</td>\n",
       "      <td>325.7100</td>\n",
       "      <td>7.6140</td>\n",
       "      <td>0</td>\n",
       "    </tr>\n",
       "    <tr>\n",
       "      <th>14</th>\n",
       "      <td>55-65</td>\n",
       "      <td>0</td>\n",
       "      <td>62.000</td>\n",
       "      <td>0.12</td>\n",
       "      <td>23.0</td>\n",
       "      <td>5.80</td>\n",
       "      <td>2.33</td>\n",
       "      <td>359.6000</td>\n",
       "      <td>13.5140</td>\n",
       "      <td>1</td>\n",
       "    </tr>\n",
       "    <tr>\n",
       "      <th>16</th>\n",
       "      <td>65-100</td>\n",
       "      <td>1</td>\n",
       "      <td>69.000</td>\n",
       "      <td>0.26</td>\n",
       "      <td>11.0</td>\n",
       "      <td>4.65</td>\n",
       "      <td>1.64</td>\n",
       "      <td>320.8500</td>\n",
       "      <td>7.6260</td>\n",
       "      <td>0</td>\n",
       "    </tr>\n",
       "    <tr>\n",
       "      <th>17</th>\n",
       "      <td>55-65</td>\n",
       "      <td>1</td>\n",
       "      <td>62.529</td>\n",
       "      <td>0.07</td>\n",
       "      <td>20.0</td>\n",
       "      <td>5.20</td>\n",
       "      <td>2.00</td>\n",
       "      <td>325.1508</td>\n",
       "      <td>10.4000</td>\n",
       "      <td>1</td>\n",
       "    </tr>\n",
       "  </tbody>\n",
       "</table>\n",
       "</div>"
      ],
      "text/plain": [
       "   age_group  pericardial-effusion  age-at-heart-attack  \\\n",
       "4      55-65                     0               57.000   \n",
       "10    65-100                     0               77.000   \n",
       "14     55-65                     0               62.000   \n",
       "16    65-100                     1               69.000   \n",
       "17     55-65                     1               62.529   \n",
       "\n",
       "    fractional-shortening  epss  lvdd  wall-motion-index  \\\n",
       "4                    0.16  22.0  5.75               2.25   \n",
       "10                   0.13  16.0  4.23               1.80   \n",
       "14                   0.12  23.0  5.80               2.33   \n",
       "16                   0.26  11.0  4.65               1.64   \n",
       "17                   0.07  20.0  5.20               2.00   \n",
       "\n",
       "    age_lvdd_interaction  wall-motion-index_lvdd_interaction  target  \n",
       "4               327.7500                             12.9375       1  \n",
       "10              325.7100                              7.6140       0  \n",
       "14              359.6000                             13.5140       1  \n",
       "16              320.8500                              7.6260       0  \n",
       "17              325.1508                             10.4000       1  "
      ]
     },
     "execution_count": 40,
     "metadata": {},
     "output_type": "execute_result"
    }
   ],
   "source": [
    "# DATA LABELLING\n",
    "\n",
    "# I assume that the patients of Cluster 1 (red points) will unfortunately pass away within 2 years \n",
    "# while the patients of Cluster 2 will survive at least 2 years\n",
    "\n",
    "# Cluster 1 means y_cluster == 0\n",
    "# Cluster 2 means y_cluster == 1\n",
    "\n",
    "# Creating a new column 'target'. If y_cluster equals to 0, target value will be 0, as well.\n",
    "# Otherwise, target value will be assigned as 1.\n",
    "df_unlabelled[\"target\"] = np.where(y_cluster == 0, 0, 1)\n",
    "df_unlabelled.head()"
   ]
  },
  {
   "cell_type": "code",
   "execution_count": 41,
   "id": "9d9deefe-e74c-4c3e-b2ee-6800f6e5403f",
   "metadata": {},
   "outputs": [
    {
     "data": {
      "text/html": [
       "<div>\n",
       "<style scoped>\n",
       "    .dataframe tbody tr th:only-of-type {\n",
       "        vertical-align: middle;\n",
       "    }\n",
       "\n",
       "    .dataframe tbody tr th {\n",
       "        vertical-align: top;\n",
       "    }\n",
       "\n",
       "    .dataframe thead th {\n",
       "        text-align: right;\n",
       "    }\n",
       "</style>\n",
       "<table border=\"1\" class=\"dataframe\">\n",
       "  <thead>\n",
       "    <tr style=\"text-align: right;\">\n",
       "      <th></th>\n",
       "      <th>age_group</th>\n",
       "      <th>pericardial-effusion</th>\n",
       "      <th>age-at-heart-attack</th>\n",
       "      <th>fractional-shortening</th>\n",
       "      <th>epss</th>\n",
       "      <th>lvdd</th>\n",
       "      <th>wall-motion-index</th>\n",
       "      <th>age_lvdd_interaction</th>\n",
       "      <th>wall-motion-index_lvdd_interaction</th>\n",
       "      <th>target</th>\n",
       "    </tr>\n",
       "  </thead>\n",
       "  <tbody>\n",
       "    <tr>\n",
       "      <th>0</th>\n",
       "      <td>65-100</td>\n",
       "      <td>0</td>\n",
       "      <td>71.0</td>\n",
       "      <td>0.260</td>\n",
       "      <td>9.000</td>\n",
       "      <td>4.600</td>\n",
       "      <td>1.00</td>\n",
       "      <td>326.60</td>\n",
       "      <td>4.60000</td>\n",
       "      <td>0</td>\n",
       "    </tr>\n",
       "    <tr>\n",
       "      <th>1</th>\n",
       "      <td>65-100</td>\n",
       "      <td>0</td>\n",
       "      <td>72.0</td>\n",
       "      <td>0.380</td>\n",
       "      <td>6.000</td>\n",
       "      <td>4.100</td>\n",
       "      <td>1.70</td>\n",
       "      <td>295.20</td>\n",
       "      <td>6.97000</td>\n",
       "      <td>0</td>\n",
       "    </tr>\n",
       "    <tr>\n",
       "      <th>2</th>\n",
       "      <td>55-65</td>\n",
       "      <td>0</td>\n",
       "      <td>55.0</td>\n",
       "      <td>0.260</td>\n",
       "      <td>4.000</td>\n",
       "      <td>3.420</td>\n",
       "      <td>1.00</td>\n",
       "      <td>188.10</td>\n",
       "      <td>3.42000</td>\n",
       "      <td>0</td>\n",
       "    </tr>\n",
       "    <tr>\n",
       "      <th>3</th>\n",
       "      <td>55-65</td>\n",
       "      <td>0</td>\n",
       "      <td>60.0</td>\n",
       "      <td>0.253</td>\n",
       "      <td>12.062</td>\n",
       "      <td>4.603</td>\n",
       "      <td>1.45</td>\n",
       "      <td>276.18</td>\n",
       "      <td>6.67435</td>\n",
       "      <td>0</td>\n",
       "    </tr>\n",
       "    <tr>\n",
       "      <th>5</th>\n",
       "      <td>65-100</td>\n",
       "      <td>0</td>\n",
       "      <td>68.0</td>\n",
       "      <td>0.260</td>\n",
       "      <td>5.000</td>\n",
       "      <td>4.310</td>\n",
       "      <td>1.00</td>\n",
       "      <td>293.08</td>\n",
       "      <td>4.31000</td>\n",
       "      <td>0</td>\n",
       "    </tr>\n",
       "  </tbody>\n",
       "</table>\n",
       "</div>"
      ],
      "text/plain": [
       "  age_group  pericardial-effusion  age-at-heart-attack  fractional-shortening  \\\n",
       "0    65-100                     0                 71.0                  0.260   \n",
       "1    65-100                     0                 72.0                  0.380   \n",
       "2     55-65                     0                 55.0                  0.260   \n",
       "3     55-65                     0                 60.0                  0.253   \n",
       "5    65-100                     0                 68.0                  0.260   \n",
       "\n",
       "     epss   lvdd  wall-motion-index  age_lvdd_interaction  \\\n",
       "0   9.000  4.600               1.00                326.60   \n",
       "1   6.000  4.100               1.70                295.20   \n",
       "2   4.000  3.420               1.00                188.10   \n",
       "3  12.062  4.603               1.45                276.18   \n",
       "5   5.000  4.310               1.00                293.08   \n",
       "\n",
       "   wall-motion-index_lvdd_interaction  target  \n",
       "0                             4.60000       0  \n",
       "1                             6.97000       0  \n",
       "2                             3.42000       0  \n",
       "3                             6.67435       0  \n",
       "5                             4.31000       0  "
      ]
     },
     "execution_count": 41,
     "metadata": {},
     "output_type": "execute_result"
    }
   ],
   "source": [
    "# concatenating df_labelled and df_unlabelled along rows\n",
    "X_labelled = pd.concat([df_labelled, df_unlabelled], axis=0)\n",
    "X_labelled.head()"
   ]
  },
  {
   "cell_type": "code",
   "execution_count": 42,
   "id": "e6bf310f-e876-4288-b793-addf8b393093",
   "metadata": {},
   "outputs": [
    {
     "name": "stdout",
     "output_type": "stream",
     "text": [
      "Original Labelled Data (61, 10)\n",
      "Original Unlabelled Data (29, 10)\n",
      "Updated Labelled Data Using Clustering (90, 10)\n"
     ]
    }
   ],
   "source": [
    "print(\"Original Labelled Data\", df_labelled.shape)\n",
    "print(\"Original Unlabelled Data\", df_unlabelled.shape)\n",
    "print(\"Updated Labelled Data Using Clustering\", X_labelled.shape)"
   ]
  },
  {
   "cell_type": "code",
   "execution_count": 43,
   "id": "775f5e94",
   "metadata": {},
   "outputs": [
    {
     "data": {
      "text/plain": [
       "target\n",
       "0    82\n",
       "1     8\n",
       "Name: count, dtype: int64"
      ]
     },
     "execution_count": 43,
     "metadata": {},
     "output_type": "execute_result"
    }
   ],
   "source": [
    "X_labelled[\"target\"].value_counts() # Still imbalanced dataset"
   ]
  },
  {
   "cell_type": "code",
   "execution_count": 44,
   "id": "5291b315",
   "metadata": {},
   "outputs": [
    {
     "data": {
      "text/html": [
       "<div>\n",
       "<style scoped>\n",
       "    .dataframe tbody tr th:only-of-type {\n",
       "        vertical-align: middle;\n",
       "    }\n",
       "\n",
       "    .dataframe tbody tr th {\n",
       "        vertical-align: top;\n",
       "    }\n",
       "\n",
       "    .dataframe thead th {\n",
       "        text-align: right;\n",
       "    }\n",
       "</style>\n",
       "<table border=\"1\" class=\"dataframe\">\n",
       "  <thead>\n",
       "    <tr style=\"text-align: right;\">\n",
       "      <th></th>\n",
       "      <th>age_group</th>\n",
       "      <th>pericardial-effusion</th>\n",
       "      <th>age-at-heart-attack</th>\n",
       "      <th>fractional-shortening</th>\n",
       "      <th>epss</th>\n",
       "      <th>lvdd</th>\n",
       "      <th>wall-motion-index</th>\n",
       "      <th>age_lvdd_interaction</th>\n",
       "      <th>wall-motion-index_lvdd_interaction</th>\n",
       "      <th>target</th>\n",
       "    </tr>\n",
       "  </thead>\n",
       "  <tbody>\n",
       "    <tr>\n",
       "      <th>0</th>\n",
       "      <td>65-100</td>\n",
       "      <td>0</td>\n",
       "      <td>71.0</td>\n",
       "      <td>0.260</td>\n",
       "      <td>9.000</td>\n",
       "      <td>4.600</td>\n",
       "      <td>1.00</td>\n",
       "      <td>326.60</td>\n",
       "      <td>4.60000</td>\n",
       "      <td>0</td>\n",
       "    </tr>\n",
       "    <tr>\n",
       "      <th>1</th>\n",
       "      <td>65-100</td>\n",
       "      <td>0</td>\n",
       "      <td>72.0</td>\n",
       "      <td>0.380</td>\n",
       "      <td>6.000</td>\n",
       "      <td>4.100</td>\n",
       "      <td>1.70</td>\n",
       "      <td>295.20</td>\n",
       "      <td>6.97000</td>\n",
       "      <td>0</td>\n",
       "    </tr>\n",
       "    <tr>\n",
       "      <th>2</th>\n",
       "      <td>55-65</td>\n",
       "      <td>0</td>\n",
       "      <td>55.0</td>\n",
       "      <td>0.260</td>\n",
       "      <td>4.000</td>\n",
       "      <td>3.420</td>\n",
       "      <td>1.00</td>\n",
       "      <td>188.10</td>\n",
       "      <td>3.42000</td>\n",
       "      <td>0</td>\n",
       "    </tr>\n",
       "    <tr>\n",
       "      <th>3</th>\n",
       "      <td>55-65</td>\n",
       "      <td>0</td>\n",
       "      <td>60.0</td>\n",
       "      <td>0.253</td>\n",
       "      <td>12.062</td>\n",
       "      <td>4.603</td>\n",
       "      <td>1.45</td>\n",
       "      <td>276.18</td>\n",
       "      <td>6.67435</td>\n",
       "      <td>0</td>\n",
       "    </tr>\n",
       "    <tr>\n",
       "      <th>5</th>\n",
       "      <td>65-100</td>\n",
       "      <td>0</td>\n",
       "      <td>68.0</td>\n",
       "      <td>0.260</td>\n",
       "      <td>5.000</td>\n",
       "      <td>4.310</td>\n",
       "      <td>1.00</td>\n",
       "      <td>293.08</td>\n",
       "      <td>4.31000</td>\n",
       "      <td>0</td>\n",
       "    </tr>\n",
       "  </tbody>\n",
       "</table>\n",
       "</div>"
      ],
      "text/plain": [
       "  age_group  pericardial-effusion  age-at-heart-attack  fractional-shortening  \\\n",
       "0    65-100                     0                 71.0                  0.260   \n",
       "1    65-100                     0                 72.0                  0.380   \n",
       "2     55-65                     0                 55.0                  0.260   \n",
       "3     55-65                     0                 60.0                  0.253   \n",
       "5    65-100                     0                 68.0                  0.260   \n",
       "\n",
       "     epss   lvdd  wall-motion-index  age_lvdd_interaction  \\\n",
       "0   9.000  4.600               1.00                326.60   \n",
       "1   6.000  4.100               1.70                295.20   \n",
       "2   4.000  3.420               1.00                188.10   \n",
       "3  12.062  4.603               1.45                276.18   \n",
       "5   5.000  4.310               1.00                293.08   \n",
       "\n",
       "   wall-motion-index_lvdd_interaction  target  \n",
       "0                             4.60000       0  \n",
       "1                             6.97000       0  \n",
       "2                             3.42000       0  \n",
       "3                             6.67435       0  \n",
       "5                             4.31000       0  "
      ]
     },
     "execution_count": 44,
     "metadata": {},
     "output_type": "execute_result"
    }
   ],
   "source": [
    "X_labelled.head()"
   ]
  },
  {
   "cell_type": "markdown",
   "id": "c86a3c62",
   "metadata": {},
   "source": [
    "# Preparation for Classification "
   ]
  },
  {
   "cell_type": "code",
   "execution_count": 45,
   "id": "d33788f8",
   "metadata": {},
   "outputs": [
    {
     "data": {
      "text/html": [
       "<div>\n",
       "<style scoped>\n",
       "    .dataframe tbody tr th:only-of-type {\n",
       "        vertical-align: middle;\n",
       "    }\n",
       "\n",
       "    .dataframe tbody tr th {\n",
       "        vertical-align: top;\n",
       "    }\n",
       "\n",
       "    .dataframe thead th {\n",
       "        text-align: right;\n",
       "    }\n",
       "</style>\n",
       "<table border=\"1\" class=\"dataframe\">\n",
       "  <thead>\n",
       "    <tr style=\"text-align: right;\">\n",
       "      <th></th>\n",
       "      <th>encoder__age_group_0-55</th>\n",
       "      <th>encoder__age_group_55-65</th>\n",
       "      <th>encoder__age_group_65-100</th>\n",
       "      <th>encoder__pericardial-effusion_0</th>\n",
       "      <th>encoder__pericardial-effusion_1</th>\n",
       "      <th>remainder__age-at-heart-attack</th>\n",
       "      <th>remainder__fractional-shortening</th>\n",
       "      <th>remainder__epss</th>\n",
       "      <th>remainder__lvdd</th>\n",
       "      <th>remainder__wall-motion-index</th>\n",
       "      <th>remainder__age_lvdd_interaction</th>\n",
       "      <th>remainder__wall-motion-index_lvdd_interaction</th>\n",
       "    </tr>\n",
       "  </thead>\n",
       "  <tbody>\n",
       "    <tr>\n",
       "      <th>0</th>\n",
       "      <td>0.0</td>\n",
       "      <td>0.0</td>\n",
       "      <td>1.0</td>\n",
       "      <td>1.0</td>\n",
       "      <td>0.0</td>\n",
       "      <td>71.0</td>\n",
       "      <td>0.260</td>\n",
       "      <td>9.000</td>\n",
       "      <td>4.600</td>\n",
       "      <td>1.00</td>\n",
       "      <td>326.60</td>\n",
       "      <td>4.60000</td>\n",
       "    </tr>\n",
       "    <tr>\n",
       "      <th>1</th>\n",
       "      <td>0.0</td>\n",
       "      <td>0.0</td>\n",
       "      <td>1.0</td>\n",
       "      <td>1.0</td>\n",
       "      <td>0.0</td>\n",
       "      <td>72.0</td>\n",
       "      <td>0.380</td>\n",
       "      <td>6.000</td>\n",
       "      <td>4.100</td>\n",
       "      <td>1.70</td>\n",
       "      <td>295.20</td>\n",
       "      <td>6.97000</td>\n",
       "    </tr>\n",
       "    <tr>\n",
       "      <th>2</th>\n",
       "      <td>0.0</td>\n",
       "      <td>1.0</td>\n",
       "      <td>0.0</td>\n",
       "      <td>1.0</td>\n",
       "      <td>0.0</td>\n",
       "      <td>55.0</td>\n",
       "      <td>0.260</td>\n",
       "      <td>4.000</td>\n",
       "      <td>3.420</td>\n",
       "      <td>1.00</td>\n",
       "      <td>188.10</td>\n",
       "      <td>3.42000</td>\n",
       "    </tr>\n",
       "    <tr>\n",
       "      <th>3</th>\n",
       "      <td>0.0</td>\n",
       "      <td>1.0</td>\n",
       "      <td>0.0</td>\n",
       "      <td>1.0</td>\n",
       "      <td>0.0</td>\n",
       "      <td>60.0</td>\n",
       "      <td>0.253</td>\n",
       "      <td>12.062</td>\n",
       "      <td>4.603</td>\n",
       "      <td>1.45</td>\n",
       "      <td>276.18</td>\n",
       "      <td>6.67435</td>\n",
       "    </tr>\n",
       "    <tr>\n",
       "      <th>4</th>\n",
       "      <td>0.0</td>\n",
       "      <td>0.0</td>\n",
       "      <td>1.0</td>\n",
       "      <td>1.0</td>\n",
       "      <td>0.0</td>\n",
       "      <td>68.0</td>\n",
       "      <td>0.260</td>\n",
       "      <td>5.000</td>\n",
       "      <td>4.310</td>\n",
       "      <td>1.00</td>\n",
       "      <td>293.08</td>\n",
       "      <td>4.31000</td>\n",
       "    </tr>\n",
       "  </tbody>\n",
       "</table>\n",
       "</div>"
      ],
      "text/plain": [
       "   encoder__age_group_0-55  encoder__age_group_55-65  \\\n",
       "0                      0.0                       0.0   \n",
       "1                      0.0                       0.0   \n",
       "2                      0.0                       1.0   \n",
       "3                      0.0                       1.0   \n",
       "4                      0.0                       0.0   \n",
       "\n",
       "   encoder__age_group_65-100  encoder__pericardial-effusion_0  \\\n",
       "0                        1.0                              1.0   \n",
       "1                        1.0                              1.0   \n",
       "2                        0.0                              1.0   \n",
       "3                        0.0                              1.0   \n",
       "4                        1.0                              1.0   \n",
       "\n",
       "   encoder__pericardial-effusion_1  remainder__age-at-heart-attack  \\\n",
       "0                              0.0                            71.0   \n",
       "1                              0.0                            72.0   \n",
       "2                              0.0                            55.0   \n",
       "3                              0.0                            60.0   \n",
       "4                              0.0                            68.0   \n",
       "\n",
       "   remainder__fractional-shortening  remainder__epss  remainder__lvdd  \\\n",
       "0                             0.260            9.000            4.600   \n",
       "1                             0.380            6.000            4.100   \n",
       "2                             0.260            4.000            3.420   \n",
       "3                             0.253           12.062            4.603   \n",
       "4                             0.260            5.000            4.310   \n",
       "\n",
       "   remainder__wall-motion-index  remainder__age_lvdd_interaction  \\\n",
       "0                          1.00                           326.60   \n",
       "1                          1.70                           295.20   \n",
       "2                          1.00                           188.10   \n",
       "3                          1.45                           276.18   \n",
       "4                          1.00                           293.08   \n",
       "\n",
       "   remainder__wall-motion-index_lvdd_interaction  \n",
       "0                                        4.60000  \n",
       "1                                        6.97000  \n",
       "2                                        3.42000  \n",
       "3                                        6.67435  \n",
       "4                                        4.31000  "
      ]
     },
     "execution_count": 45,
     "metadata": {},
     "output_type": "execute_result"
    }
   ],
   "source": [
    "# Encoding categorical data -> age_group and pericardial-effusion\n",
    "ct = ColumnTransformer(transformers=[('encoder', OneHotEncoder(), [0, 1])], remainder='passthrough') # [0, 1] refers to age_group and pericardial-effusion columns\n",
    "X_encoded = np.array(ct.fit_transform(X_labelled.iloc[:, :-1]))\n",
    "X_encoded = pd.DataFrame(X_encoded, columns=ct.get_feature_names_out())\n",
    "X_encoded.head()"
   ]
  },
  {
   "cell_type": "code",
   "execution_count": 46,
   "id": "bab601bf",
   "metadata": {},
   "outputs": [
    {
     "data": {
      "text/plain": [
       "Index(['encoder__age_group_0-55', 'encoder__age_group_55-65',\n",
       "       'encoder__age_group_65-100', 'encoder__pericardial-effusion_0',\n",
       "       'encoder__pericardial-effusion_1', 'remainder__age-at-heart-attack',\n",
       "       'remainder__fractional-shortening', 'remainder__epss',\n",
       "       'remainder__lvdd', 'remainder__wall-motion-index',\n",
       "       'remainder__age_lvdd_interaction',\n",
       "       'remainder__wall-motion-index_lvdd_interaction'],\n",
       "      dtype='object')"
      ]
     },
     "execution_count": 46,
     "metadata": {},
     "output_type": "execute_result"
    }
   ],
   "source": [
    "# X_encoded column names\n",
    "X_encoded.columns"
   ]
  },
  {
   "cell_type": "code",
   "execution_count": 47,
   "id": "3d5b0108",
   "metadata": {},
   "outputs": [
    {
     "data": {
      "text/plain": [
       "array([0, 0, 0, 0, 0, 0, 0, 0, 0, 0, 0, 0, 0, 0, 0, 0, 0, 0, 0, 0, 0, 0,\n",
       "       0, 0, 0, 0, 0, 0, 0, 0, 0, 0, 0, 0, 0, 0, 0, 0, 0, 0, 0, 0, 0, 0,\n",
       "       0, 0, 0, 0, 0, 0, 0, 0, 1, 0, 0, 0, 0, 0, 0, 0, 0, 1, 0, 1, 0, 1,\n",
       "       0, 0, 0, 0, 0, 0, 0, 0, 1, 1, 0, 1, 0, 0, 0, 0, 0, 0, 0, 0, 1, 0,\n",
       "       0, 0])"
      ]
     },
     "execution_count": 47,
     "metadata": {},
     "output_type": "execute_result"
    }
   ],
   "source": [
    "# Encoding the Dependent Variable (Target)\n",
    "le = LabelEncoder()\n",
    "y = X_labelled['target']\n",
    "y_encoded = le.fit_transform(y)\n",
    "y_encoded"
   ]
  },
  {
   "cell_type": "code",
   "execution_count": 48,
   "id": "fd74c0a2",
   "metadata": {},
   "outputs": [],
   "source": [
    "# Oversampling using ADASYN\n",
    "\n",
    "# set up ADASYN\n",
    "sampler = ADASYN(\n",
    "    sampling_strategy = 'auto', # samples only the minority class\n",
    "    random_state = 42, # for reproducibility\n",
    "    n_neighbors = 5,\n",
    "    n_jobs = 4\n",
    ")\n",
    "\n",
    "X_res, y_res = sampler.fit_resample(X_encoded, y_encoded)"
   ]
  },
  {
   "cell_type": "code",
   "execution_count": 49,
   "id": "486310d8",
   "metadata": {},
   "outputs": [
    {
     "data": {
      "text/plain": [
       "0    82\n",
       "1    82\n",
       "Name: count, dtype: int64"
      ]
     },
     "execution_count": 49,
     "metadata": {},
     "output_type": "execute_result"
    }
   ],
   "source": [
    "pd.Series(y_res).value_counts() # Balanced target distribution thanks to oversampling (ADASYN) "
   ]
  },
  {
   "cell_type": "code",
   "execution_count": 50,
   "id": "69e4b71c",
   "metadata": {},
   "outputs": [
    {
     "data": {
      "text/html": [
       "<div>\n",
       "<style scoped>\n",
       "    .dataframe tbody tr th:only-of-type {\n",
       "        vertical-align: middle;\n",
       "    }\n",
       "\n",
       "    .dataframe tbody tr th {\n",
       "        vertical-align: top;\n",
       "    }\n",
       "\n",
       "    .dataframe thead th {\n",
       "        text-align: right;\n",
       "    }\n",
       "</style>\n",
       "<table border=\"1\" class=\"dataframe\">\n",
       "  <thead>\n",
       "    <tr style=\"text-align: right;\">\n",
       "      <th></th>\n",
       "      <th>encoder__age_group_0-55</th>\n",
       "      <th>encoder__age_group_55-65</th>\n",
       "      <th>encoder__age_group_65-100</th>\n",
       "      <th>encoder__pericardial-effusion_0</th>\n",
       "      <th>encoder__pericardial-effusion_1</th>\n",
       "      <th>remainder__age-at-heart-attack</th>\n",
       "      <th>remainder__fractional-shortening</th>\n",
       "      <th>remainder__epss</th>\n",
       "      <th>remainder__lvdd</th>\n",
       "      <th>remainder__wall-motion-index</th>\n",
       "      <th>remainder__age_lvdd_interaction</th>\n",
       "      <th>remainder__wall-motion-index_lvdd_interaction</th>\n",
       "    </tr>\n",
       "  </thead>\n",
       "  <tbody>\n",
       "    <tr>\n",
       "      <th>0</th>\n",
       "      <td>0.0</td>\n",
       "      <td>0.0</td>\n",
       "      <td>1.0</td>\n",
       "      <td>1.0</td>\n",
       "      <td>0.0</td>\n",
       "      <td>71.0</td>\n",
       "      <td>0.260</td>\n",
       "      <td>9.000</td>\n",
       "      <td>4.600</td>\n",
       "      <td>1.00</td>\n",
       "      <td>326.60</td>\n",
       "      <td>4.60000</td>\n",
       "    </tr>\n",
       "    <tr>\n",
       "      <th>1</th>\n",
       "      <td>0.0</td>\n",
       "      <td>0.0</td>\n",
       "      <td>1.0</td>\n",
       "      <td>1.0</td>\n",
       "      <td>0.0</td>\n",
       "      <td>72.0</td>\n",
       "      <td>0.380</td>\n",
       "      <td>6.000</td>\n",
       "      <td>4.100</td>\n",
       "      <td>1.70</td>\n",
       "      <td>295.20</td>\n",
       "      <td>6.97000</td>\n",
       "    </tr>\n",
       "    <tr>\n",
       "      <th>2</th>\n",
       "      <td>0.0</td>\n",
       "      <td>1.0</td>\n",
       "      <td>0.0</td>\n",
       "      <td>1.0</td>\n",
       "      <td>0.0</td>\n",
       "      <td>55.0</td>\n",
       "      <td>0.260</td>\n",
       "      <td>4.000</td>\n",
       "      <td>3.420</td>\n",
       "      <td>1.00</td>\n",
       "      <td>188.10</td>\n",
       "      <td>3.42000</td>\n",
       "    </tr>\n",
       "    <tr>\n",
       "      <th>3</th>\n",
       "      <td>0.0</td>\n",
       "      <td>1.0</td>\n",
       "      <td>0.0</td>\n",
       "      <td>1.0</td>\n",
       "      <td>0.0</td>\n",
       "      <td>60.0</td>\n",
       "      <td>0.253</td>\n",
       "      <td>12.062</td>\n",
       "      <td>4.603</td>\n",
       "      <td>1.45</td>\n",
       "      <td>276.18</td>\n",
       "      <td>6.67435</td>\n",
       "    </tr>\n",
       "    <tr>\n",
       "      <th>4</th>\n",
       "      <td>0.0</td>\n",
       "      <td>0.0</td>\n",
       "      <td>1.0</td>\n",
       "      <td>1.0</td>\n",
       "      <td>0.0</td>\n",
       "      <td>68.0</td>\n",
       "      <td>0.260</td>\n",
       "      <td>5.000</td>\n",
       "      <td>4.310</td>\n",
       "      <td>1.00</td>\n",
       "      <td>293.08</td>\n",
       "      <td>4.31000</td>\n",
       "    </tr>\n",
       "  </tbody>\n",
       "</table>\n",
       "</div>"
      ],
      "text/plain": [
       "   encoder__age_group_0-55  encoder__age_group_55-65  \\\n",
       "0                      0.0                       0.0   \n",
       "1                      0.0                       0.0   \n",
       "2                      0.0                       1.0   \n",
       "3                      0.0                       1.0   \n",
       "4                      0.0                       0.0   \n",
       "\n",
       "   encoder__age_group_65-100  encoder__pericardial-effusion_0  \\\n",
       "0                        1.0                              1.0   \n",
       "1                        1.0                              1.0   \n",
       "2                        0.0                              1.0   \n",
       "3                        0.0                              1.0   \n",
       "4                        1.0                              1.0   \n",
       "\n",
       "   encoder__pericardial-effusion_1  remainder__age-at-heart-attack  \\\n",
       "0                              0.0                            71.0   \n",
       "1                              0.0                            72.0   \n",
       "2                              0.0                            55.0   \n",
       "3                              0.0                            60.0   \n",
       "4                              0.0                            68.0   \n",
       "\n",
       "   remainder__fractional-shortening  remainder__epss  remainder__lvdd  \\\n",
       "0                             0.260            9.000            4.600   \n",
       "1                             0.380            6.000            4.100   \n",
       "2                             0.260            4.000            3.420   \n",
       "3                             0.253           12.062            4.603   \n",
       "4                             0.260            5.000            4.310   \n",
       "\n",
       "   remainder__wall-motion-index  remainder__age_lvdd_interaction  \\\n",
       "0                          1.00                           326.60   \n",
       "1                          1.70                           295.20   \n",
       "2                          1.00                           188.10   \n",
       "3                          1.45                           276.18   \n",
       "4                          1.00                           293.08   \n",
       "\n",
       "   remainder__wall-motion-index_lvdd_interaction  \n",
       "0                                        4.60000  \n",
       "1                                        6.97000  \n",
       "2                                        3.42000  \n",
       "3                                        6.67435  \n",
       "4                                        4.31000  "
      ]
     },
     "execution_count": 50,
     "metadata": {},
     "output_type": "execute_result"
    }
   ],
   "source": [
    "# Features dataframe after oversampling\n",
    "X_res.head()"
   ]
  },
  {
   "cell_type": "code",
   "execution_count": 51,
   "id": "5b39ce13",
   "metadata": {},
   "outputs": [],
   "source": [
    "# Split the data into train and test sets\n",
    "X_train, X_test, y_train, y_test = train_test_split(X_res, y_res, test_size=0.35, random_state=42)\n",
    "\n",
    "# Feature Scaling\n",
    "sc = StandardScaler()\n",
    "X_train.iloc[:, 5:] = sc.fit_transform(X_train.iloc[:, 5:].values) # Excluding the first 5 OneHot Encoded columns (categorical variables) \n",
    "X_test.iloc[:, 5:] = sc.transform(X_test.iloc[:, 5:].values) # Excluding the first 5 OneHot Encoded columns (categorical variables) "
   ]
  },
  {
   "cell_type": "code",
   "execution_count": 52,
   "id": "8c0f2175",
   "metadata": {},
   "outputs": [
    {
     "data": {
      "text/plain": [
       "(106, 12)"
      ]
     },
     "execution_count": 52,
     "metadata": {},
     "output_type": "execute_result"
    }
   ],
   "source": [
    "# Convert the scaled numpy array back into a DataFrame\n",
    "X_train_df = pd.DataFrame(X_train, columns=ct.get_feature_names_out())\n",
    "X_train_df.shape"
   ]
  },
  {
   "cell_type": "code",
   "execution_count": 53,
   "id": "3a6d3fe2",
   "metadata": {},
   "outputs": [
    {
     "data": {
      "text/plain": [
       "(58, 12)"
      ]
     },
     "execution_count": 53,
     "metadata": {},
     "output_type": "execute_result"
    }
   ],
   "source": [
    "# Convert the scaled numpy array back into a DataFrame\n",
    "X_test_df = pd.DataFrame(X_test, columns=ct.get_feature_names_out())\n",
    "X_test_df.shape"
   ]
  },
  {
   "cell_type": "markdown",
   "id": "e7c0682d",
   "metadata": {},
   "source": [
    "# Running Classifiers"
   ]
  },
  {
   "cell_type": "code",
   "execution_count": 54,
   "id": "12f45222",
   "metadata": {},
   "outputs": [
    {
     "name": "stdout",
     "output_type": "stream",
     "text": [
      "\n",
      "\n",
      "============================= KNN Classifier ==================================\n"
     ]
    },
    {
     "name": "stdout",
     "output_type": "stream",
     "text": [
      "Best Parameters: {'algorithm': 'auto', 'leaf_size': 10, 'metric': 'manhattan', 'n_neighbors': 19, 'p': 1, 'weights': 'distance'}\n",
      "F1 Macro Score: 96.85 %\n",
      "Accuracy: 86.21 %\n",
      "Standard Deviation of Cross Validation Scores: 1.60 %\n",
      "Confusion Matrix:\n",
      " [[23  8]\n",
      " [ 0 27]]\n",
      "Classification Report:\n",
      "               precision    recall  f1-score   support\n",
      "\n",
      "           0       1.00      0.74      0.85        31\n",
      "           1       0.77      1.00      0.87        27\n",
      "\n",
      "    accuracy                           0.86        58\n",
      "   macro avg       0.89      0.87      0.86        58\n",
      "weighted avg       0.89      0.86      0.86        58\n",
      "\n",
      "\n",
      "\n",
      "============================= Naive Bayes Classifier ==================================\n",
      "Best Parameters: {'priors': None}\n",
      "F1 Macro Score: 92.48 %\n",
      "Accuracy: 87.93 %\n",
      "Standard Deviation of Cross Validation Scores: 0.00 %\n",
      "Confusion Matrix:\n",
      " [[29  2]\n",
      " [ 5 22]]\n",
      "Classification Report:\n",
      "               precision    recall  f1-score   support\n",
      "\n",
      "           0       0.85      0.94      0.89        31\n",
      "           1       0.92      0.81      0.86        27\n",
      "\n",
      "    accuracy                           0.88        58\n",
      "   macro avg       0.88      0.88      0.88        58\n",
      "weighted avg       0.88      0.88      0.88        58\n",
      "\n",
      "\n",
      "\n",
      "============================= Decision Tree Classifier ==================================\n",
      "Best Parameters: {'criterion': 'entropy', 'max_depth': None, 'min_samples_leaf': 1, 'min_samples_split': 10}\n",
      "F1 Macro Score: 95.45 %\n",
      "Accuracy: 94.83 %\n",
      "Standard Deviation of Cross Validation Scores: 0.89 %\n",
      "Confusion Matrix:\n",
      " [[30  1]\n",
      " [ 2 25]]\n",
      "Classification Report:\n",
      "               precision    recall  f1-score   support\n",
      "\n",
      "           0       0.94      0.97      0.95        31\n",
      "           1       0.96      0.93      0.94        27\n",
      "\n",
      "    accuracy                           0.95        58\n",
      "   macro avg       0.95      0.95      0.95        58\n",
      "weighted avg       0.95      0.95      0.95        58\n",
      "\n",
      "\n",
      "\n",
      "============================= Logistic Regression Classifier ==================================\n",
      "Best Parameters: {'C': 100, 'penalty': 'l2', 'solver': 'liblinear'}\n",
      "F1 Macro Score: 90.03 %\n",
      "Accuracy: 89.66 %\n",
      "Standard Deviation of Cross Validation Scores: 0.94 %\n",
      "Confusion Matrix:\n",
      " [[28  3]\n",
      " [ 3 24]]\n",
      "Classification Report:\n",
      "               precision    recall  f1-score   support\n",
      "\n",
      "           0       0.90      0.90      0.90        31\n",
      "           1       0.89      0.89      0.89        27\n",
      "\n",
      "    accuracy                           0.90        58\n",
      "   macro avg       0.90      0.90      0.90        58\n",
      "weighted avg       0.90      0.90      0.90        58\n",
      "\n",
      "\n",
      "\n",
      "============================= Random Forest Classifier ==================================\n",
      "Best Parameters: {'max_depth': None, 'min_samples_leaf': 1, 'min_samples_split': 2, 'n_estimators': 100}\n",
      "F1 Macro Score: 98.91 %\n",
      "Accuracy: 98.28 %\n",
      "Standard Deviation of Cross Validation Scores: 0.56 %\n",
      "Confusion Matrix:\n",
      " [[30  1]\n",
      " [ 0 27]]\n",
      "Classification Report:\n",
      "               precision    recall  f1-score   support\n",
      "\n",
      "           0       1.00      0.97      0.98        31\n",
      "           1       0.96      1.00      0.98        27\n",
      "\n",
      "    accuracy                           0.98        58\n",
      "   macro avg       0.98      0.98      0.98        58\n",
      "weighted avg       0.98      0.98      0.98        58\n",
      "\n",
      "\n",
      "\n",
      "============================= Support Vector Machines ==================================\n",
      "Best Parameters: {'C': 10, 'gamma': 0.1, 'kernel': 'rbf'}\n",
      "F1 Macro Score: 98.73 %\n",
      "Accuracy: 94.83 %\n",
      "Standard Deviation of Cross Validation Scores: 4.24 %\n",
      "Confusion Matrix:\n",
      " [[28  3]\n",
      " [ 0 27]]\n",
      "Classification Report:\n",
      "               precision    recall  f1-score   support\n",
      "\n",
      "           0       1.00      0.90      0.95        31\n",
      "           1       0.90      1.00      0.95        27\n",
      "\n",
      "    accuracy                           0.95        58\n",
      "   macro avg       0.95      0.95      0.95        58\n",
      "weighted avg       0.95      0.95      0.95        58\n",
      "\n",
      "\n",
      "\n",
      "============================= XGBoost Classifier ==============================\n",
      "Best Parameters: {'learning_rate': 0.01, 'max_depth': 5, 'n_estimators': 200}\n",
      "F1 Macro Score: 98.02 %\n",
      "Accuracy: 98.28 %\n",
      "Standard Deviation of Cross Validation Scores: 0.33 %\n",
      "Confusion Matrix:\n",
      " [[30  1]\n",
      " [ 0 27]]\n",
      "Classification Report:\n",
      "               precision    recall  f1-score   support\n",
      "\n",
      "           0       1.00      0.97      0.98        31\n",
      "           1       0.96      1.00      0.98        27\n",
      "\n",
      "    accuracy                           0.98        58\n",
      "   macro avg       0.98      0.98      0.98        58\n",
      "weighted avg       0.98      0.98      0.98        58\n",
      "\n",
      "\n",
      "\n",
      "============================= AdaBoost Classifier ==============================\n",
      "Best Parameters: {'learning_rate': 0.7, 'n_estimators': 400}\n",
      "F1 Macro Score: 95.80 %\n",
      "Accuracy: 91.38 %\n",
      "Standard Deviation of Cross Validation Scores: nan %\n",
      "Confusion Matrix:\n",
      " [[26  5]\n",
      " [ 0 27]]\n",
      "Classification Report:\n",
      "               precision    recall  f1-score   support\n",
      "\n",
      "           0       1.00      0.84      0.91        31\n",
      "           1       0.84      1.00      0.92        27\n",
      "\n",
      "    accuracy                           0.91        58\n",
      "   macro avg       0.92      0.92      0.91        58\n",
      "weighted avg       0.93      0.91      0.91        58\n",
      "\n"
     ]
    }
   ],
   "source": [
    "# Check out *.py files (attached) to see the content of these functions\n",
    "\n",
    "knn_best_params, knn_best_estimator = knn_classifier(X_train, y_train, X_test, y_test)\n",
    "nb_best_params, nb_best_estimator = naive_bayes(X_train, y_train, X_test, y_test)\n",
    "dt_best_params, dt_best_estimator = decision_tree(X_train, y_train, X_test, y_test)\n",
    "lr_best_params, lr_best_estimator = logistic_regression(X_train, y_train, X_test, y_test)\n",
    "rf_best_params, rf_best_estimator = random_forest(X_train, y_train, X_test, y_test)\n",
    "svm_best_params, svm_best_estimator = support_vector_machines(X_train, y_train, X_test, y_test)\n",
    "xgboost_best_params, xgboost_best_estimator = xgboost_classifier(X_train, y_train, X_test, y_test)\n",
    "adaboost_best_params, adaboost_best_estimator = adaboost_classifier(X_train, y_train, X_test, y_test)"
   ]
  },
  {
   "cell_type": "markdown",
   "id": "66905877",
   "metadata": {},
   "source": [
    "# Predictions on New Data Set (Test)"
   ]
  },
  {
   "cell_type": "code",
   "execution_count": 55,
   "id": "41d64a56",
   "metadata": {},
   "outputs": [],
   "source": [
    "def prep_test_data():\n",
    "\n",
    "    test_data = \"data/echocardiogram.test\"\n",
    "\n",
    "    # Read the .data file into a DataFrame\n",
    "    df = pd.read_csv(test_data, header=None) # Assuming there's no header in the file\n",
    "\n",
    "    # Define column names\n",
    "    column_names = [\"survival\", \"still-alive\", \"age-at-heart-attack\", \"pericardial-effusion\", \"fractional-shortening\",\n",
    "                \"epss\", \"lvdd\", \"wall-motion-score\", \"wall-motion-index\", \"mult\", \"name\", \"group\", \"alive-at-1\"] # Add all column names here\n",
    "\n",
    "    # Assign column names to the DataFrame\n",
    "    df.columns = column_names\n",
    "\n",
    "    # Drop irrelevant columns\n",
    "    df.drop([\"survival\", \"still-alive\", \"name\", \"group\", \"mult\", \"wall-motion-score\", \"alive-at-1\"], axis=1, inplace=True)\n",
    "\n",
    "    # Convert object columns to float\n",
    "    df = df.apply(pd.to_numeric, errors='coerce').copy()\n",
    "    #df.apply(pd.to_numeric, errors='coerce')\n",
    "\n",
    "    # Handling missing values\n",
    "    df.dropna(inplace=True)\n",
    "\n",
    "    # Define age groups\n",
    "    bins = [0, 55, 65, 100]  # Define the age boundaries for each group\n",
    "    labels = ['0-55', '55-65', '65-100']  # Define labels for each group\n",
    "\n",
    "    # Create a new column for age groups\n",
    "    df['age_group'] = pd.cut(df['age-at-heart-attack'], bins=bins, labels=labels, right=False)\n",
    "\n",
    "    # Let's add wall-motion-index and lvdd interaction term\n",
    "    df['wall-motion-index_lvdd_interaction'] = df['wall-motion-index'] * df['lvdd']\n",
    "\n",
    "    # Let's add age at heart attack and lvdd interaction term\n",
    "    df['age_lvdd_interaction'] = df['age-at-heart-attack'] * df['lvdd']\n",
    "\n",
    "    # Change the order of DataFrame columns to prepare it for Label Encoding for the 'age_group' and 'pericardial-effusion' column\n",
    "    df = df[[\n",
    "        'age_group',\n",
    "        'pericardial-effusion',\n",
    "        'age-at-heart-attack',\n",
    "        'fractional-shortening',\n",
    "        'epss',\n",
    "        'lvdd',\n",
    "        'wall-motion-index',\n",
    "        'age_lvdd_interaction',\n",
    "        'wall-motion-index_lvdd_interaction']].copy()\n",
    "\n",
    "    # Encoding categorical data -> age_group and pericardial-effusion\n",
    "    ct = ColumnTransformer(transformers=[('encoder', OneHotEncoder(), [0, 1])], remainder='passthrough') # [0, 1] refers to age_group and pericardial-effusion columns\n",
    "    df_array = np.array(ct.fit_transform(df))\n",
    "    dff = pd.DataFrame(df_array, columns=ct.get_feature_names_out(), index=df.index)\n",
    "\n",
    "    # Feature Scaling\n",
    "    dff.iloc[:, 5:] = sc.transform(dff.iloc[:, 5:].values) # Excluding the first two columns (categorical variables) and the last target column\n",
    "\n",
    "    return dff\n"
   ]
  },
  {
   "cell_type": "code",
   "execution_count": 56,
   "id": "45cf1e4f",
   "metadata": {},
   "outputs": [
    {
     "data": {
      "text/html": [
       "<div>\n",
       "<style scoped>\n",
       "    .dataframe tbody tr th:only-of-type {\n",
       "        vertical-align: middle;\n",
       "    }\n",
       "\n",
       "    .dataframe tbody tr th {\n",
       "        vertical-align: top;\n",
       "    }\n",
       "\n",
       "    .dataframe thead th {\n",
       "        text-align: right;\n",
       "    }\n",
       "</style>\n",
       "<table border=\"1\" class=\"dataframe\">\n",
       "  <thead>\n",
       "    <tr style=\"text-align: right;\">\n",
       "      <th></th>\n",
       "      <th>encoder__age_group_0-55</th>\n",
       "      <th>encoder__age_group_55-65</th>\n",
       "      <th>encoder__age_group_65-100</th>\n",
       "      <th>encoder__pericardial-effusion_0</th>\n",
       "      <th>encoder__pericardial-effusion_1</th>\n",
       "      <th>remainder__age-at-heart-attack</th>\n",
       "      <th>remainder__fractional-shortening</th>\n",
       "      <th>remainder__epss</th>\n",
       "      <th>remainder__lvdd</th>\n",
       "      <th>remainder__wall-motion-index</th>\n",
       "      <th>remainder__age_lvdd_interaction</th>\n",
       "      <th>remainder__wall-motion-index_lvdd_interaction</th>\n",
       "    </tr>\n",
       "  </thead>\n",
       "  <tbody>\n",
       "    <tr>\n",
       "      <th>0</th>\n",
       "      <td>0.0</td>\n",
       "      <td>1.0</td>\n",
       "      <td>0.0</td>\n",
       "      <td>1.0</td>\n",
       "      <td>0.0</td>\n",
       "      <td>-0.116303</td>\n",
       "      <td>0.980550</td>\n",
       "      <td>-0.821905</td>\n",
       "      <td>-1.339684</td>\n",
       "      <td>-1.244533</td>\n",
       "      <td>-1.195332</td>\n",
       "      <td>-1.357084</td>\n",
       "    </tr>\n",
       "    <tr>\n",
       "      <th>1</th>\n",
       "      <td>0.0</td>\n",
       "      <td>1.0</td>\n",
       "      <td>0.0</td>\n",
       "      <td>0.0</td>\n",
       "      <td>1.0</td>\n",
       "      <td>-0.393886</td>\n",
       "      <td>2.306776</td>\n",
       "      <td>-0.796000</td>\n",
       "      <td>0.259605</td>\n",
       "      <td>-1.244533</td>\n",
       "      <td>-0.021385</td>\n",
       "      <td>-0.975000</td>\n",
       "    </tr>\n",
       "    <tr>\n",
       "      <th>2</th>\n",
       "      <td>0.0</td>\n",
       "      <td>1.0</td>\n",
       "      <td>0.0</td>\n",
       "      <td>1.0</td>\n",
       "      <td>0.0</td>\n",
       "      <td>-0.671469</td>\n",
       "      <td>1.184584</td>\n",
       "      <td>-0.770095</td>\n",
       "      <td>-0.466226</td>\n",
       "      <td>-1.244533</td>\n",
       "      <td>-0.780565</td>\n",
       "      <td>-1.148407</td>\n",
       "    </tr>\n",
       "    <tr>\n",
       "      <th>3</th>\n",
       "      <td>0.0</td>\n",
       "      <td>1.0</td>\n",
       "      <td>0.0</td>\n",
       "      <td>0.0</td>\n",
       "      <td>1.0</td>\n",
       "      <td>0.022489</td>\n",
       "      <td>0.164410</td>\n",
       "      <td>1.755607</td>\n",
       "      <td>1.821988</td>\n",
       "      <td>0.571824</td>\n",
       "      <td>1.601737</td>\n",
       "      <td>1.249466</td>\n",
       "    </tr>\n",
       "    <tr>\n",
       "      <th>5</th>\n",
       "      <td>1.0</td>\n",
       "      <td>0.0</td>\n",
       "      <td>0.0</td>\n",
       "      <td>1.0</td>\n",
       "      <td>0.0</td>\n",
       "      <td>-1.087844</td>\n",
       "      <td>2.612828</td>\n",
       "      <td>-0.783048</td>\n",
       "      <td>-0.441622</td>\n",
       "      <td>-1.244533</td>\n",
       "      <td>-1.007035</td>\n",
       "      <td>-1.142529</td>\n",
       "    </tr>\n",
       "  </tbody>\n",
       "</table>\n",
       "</div>"
      ],
      "text/plain": [
       "   encoder__age_group_0-55  encoder__age_group_55-65  \\\n",
       "0                      0.0                       1.0   \n",
       "1                      0.0                       1.0   \n",
       "2                      0.0                       1.0   \n",
       "3                      0.0                       1.0   \n",
       "5                      1.0                       0.0   \n",
       "\n",
       "   encoder__age_group_65-100  encoder__pericardial-effusion_0  \\\n",
       "0                        0.0                              1.0   \n",
       "1                        0.0                              0.0   \n",
       "2                        0.0                              1.0   \n",
       "3                        0.0                              0.0   \n",
       "5                        0.0                              1.0   \n",
       "\n",
       "   encoder__pericardial-effusion_1  remainder__age-at-heart-attack  \\\n",
       "0                              0.0                       -0.116303   \n",
       "1                              1.0                       -0.393886   \n",
       "2                              0.0                       -0.671469   \n",
       "3                              1.0                        0.022489   \n",
       "5                              0.0                       -1.087844   \n",
       "\n",
       "   remainder__fractional-shortening  remainder__epss  remainder__lvdd  \\\n",
       "0                          0.980550        -0.821905        -1.339684   \n",
       "1                          2.306776        -0.796000         0.259605   \n",
       "2                          1.184584        -0.770095        -0.466226   \n",
       "3                          0.164410         1.755607         1.821988   \n",
       "5                          2.612828        -0.783048        -0.441622   \n",
       "\n",
       "   remainder__wall-motion-index  remainder__age_lvdd_interaction  \\\n",
       "0                     -1.244533                        -1.195332   \n",
       "1                     -1.244533                        -0.021385   \n",
       "2                     -1.244533                        -0.780565   \n",
       "3                      0.571824                         1.601737   \n",
       "5                     -1.244533                        -1.007035   \n",
       "\n",
       "   remainder__wall-motion-index_lvdd_interaction  \n",
       "0                                      -1.357084  \n",
       "1                                      -0.975000  \n",
       "2                                      -1.148407  \n",
       "3                                       1.249466  \n",
       "5                                      -1.142529  "
      ]
     },
     "execution_count": 56,
     "metadata": {},
     "output_type": "execute_result"
    }
   ],
   "source": [
    "test_data_df = prep_test_data()\n",
    "\n",
    "# Now you can use your DataFrame with column names assigned\n",
    "test_data_df.head() # Display the first few rows of the DataFrame\n"
   ]
  },
  {
   "cell_type": "code",
   "execution_count": 57,
   "id": "9d1ba895",
   "metadata": {},
   "outputs": [],
   "source": [
    "# Predictions by Random Forest \n",
    "y_pred_rf = rf_best_estimator.predict(test_data_df)\n",
    "y_pred_prob_rf = np.max(rf_best_estimator.predict_proba(test_data_df), axis=1)\n",
    "\n",
    "# Predictions by XGBoost Classifier\n",
    "y_pred_xg = xgboost_best_estimator.predict(test_data_df)\n",
    "y_pred_prob_xg = np.max(xgboost_best_estimator.predict_proba(test_data_df), axis=1)\n"
   ]
  },
  {
   "cell_type": "code",
   "execution_count": 58,
   "id": "353e64dd",
   "metadata": {},
   "outputs": [],
   "source": [
    "# Adding predictions and prediction probabilities as new columns in the data frame\n",
    "\n",
    "test_data_df[\"Prediction RF\"] = y_pred_rf.astype(int)\n",
    "test_data_df[\"Prediction Probability RF\"] = y_pred_prob_rf\n",
    "\n",
    "test_data_df[\"Prediction XGBoost\"] = y_pred_xg.astype(int)\n",
    "test_data_df[\"Prediction Probability XGBoost\"] = y_pred_prob_xg"
   ]
  },
  {
   "cell_type": "code",
   "execution_count": 59,
   "id": "067bcab5",
   "metadata": {},
   "outputs": [
    {
     "data": {
      "text/html": [
       "<div>\n",
       "<style scoped>\n",
       "    .dataframe tbody tr th:only-of-type {\n",
       "        vertical-align: middle;\n",
       "    }\n",
       "\n",
       "    .dataframe tbody tr th {\n",
       "        vertical-align: top;\n",
       "    }\n",
       "\n",
       "    .dataframe thead th {\n",
       "        text-align: right;\n",
       "    }\n",
       "</style>\n",
       "<table border=\"1\" class=\"dataframe\">\n",
       "  <thead>\n",
       "    <tr style=\"text-align: right;\">\n",
       "      <th></th>\n",
       "      <th>encoder__age_group_0-55</th>\n",
       "      <th>encoder__age_group_55-65</th>\n",
       "      <th>encoder__age_group_65-100</th>\n",
       "      <th>encoder__pericardial-effusion_0</th>\n",
       "      <th>encoder__pericardial-effusion_1</th>\n",
       "      <th>remainder__age-at-heart-attack</th>\n",
       "      <th>remainder__fractional-shortening</th>\n",
       "      <th>remainder__epss</th>\n",
       "      <th>remainder__lvdd</th>\n",
       "      <th>remainder__wall-motion-index</th>\n",
       "      <th>remainder__age_lvdd_interaction</th>\n",
       "      <th>remainder__wall-motion-index_lvdd_interaction</th>\n",
       "      <th>Prediction RF</th>\n",
       "      <th>Prediction Probability RF</th>\n",
       "      <th>Prediction XGBoost</th>\n",
       "      <th>Prediction Probability XGBoost</th>\n",
       "    </tr>\n",
       "  </thead>\n",
       "  <tbody>\n",
       "    <tr>\n",
       "      <th>0</th>\n",
       "      <td>0.0</td>\n",
       "      <td>1.0</td>\n",
       "      <td>0.0</td>\n",
       "      <td>1.0</td>\n",
       "      <td>0.0</td>\n",
       "      <td>-0.116303</td>\n",
       "      <td>0.980550</td>\n",
       "      <td>-0.821905</td>\n",
       "      <td>-1.339684</td>\n",
       "      <td>-1.244533</td>\n",
       "      <td>-1.195332</td>\n",
       "      <td>-1.357084</td>\n",
       "      <td>0</td>\n",
       "      <td>1.00</td>\n",
       "      <td>0</td>\n",
       "      <td>0.907499</td>\n",
       "    </tr>\n",
       "    <tr>\n",
       "      <th>1</th>\n",
       "      <td>0.0</td>\n",
       "      <td>1.0</td>\n",
       "      <td>0.0</td>\n",
       "      <td>0.0</td>\n",
       "      <td>1.0</td>\n",
       "      <td>-0.393886</td>\n",
       "      <td>2.306776</td>\n",
       "      <td>-0.796000</td>\n",
       "      <td>0.259605</td>\n",
       "      <td>-1.244533</td>\n",
       "      <td>-0.021385</td>\n",
       "      <td>-0.975000</td>\n",
       "      <td>0</td>\n",
       "      <td>0.91</td>\n",
       "      <td>0</td>\n",
       "      <td>0.907499</td>\n",
       "    </tr>\n",
       "    <tr>\n",
       "      <th>2</th>\n",
       "      <td>0.0</td>\n",
       "      <td>1.0</td>\n",
       "      <td>0.0</td>\n",
       "      <td>1.0</td>\n",
       "      <td>0.0</td>\n",
       "      <td>-0.671469</td>\n",
       "      <td>1.184584</td>\n",
       "      <td>-0.770095</td>\n",
       "      <td>-0.466226</td>\n",
       "      <td>-1.244533</td>\n",
       "      <td>-0.780565</td>\n",
       "      <td>-1.148407</td>\n",
       "      <td>0</td>\n",
       "      <td>0.97</td>\n",
       "      <td>0</td>\n",
       "      <td>0.907499</td>\n",
       "    </tr>\n",
       "    <tr>\n",
       "      <th>3</th>\n",
       "      <td>0.0</td>\n",
       "      <td>1.0</td>\n",
       "      <td>0.0</td>\n",
       "      <td>0.0</td>\n",
       "      <td>1.0</td>\n",
       "      <td>0.022489</td>\n",
       "      <td>0.164410</td>\n",
       "      <td>1.755607</td>\n",
       "      <td>1.821988</td>\n",
       "      <td>0.571824</td>\n",
       "      <td>1.601737</td>\n",
       "      <td>1.249466</td>\n",
       "      <td>1</td>\n",
       "      <td>0.91</td>\n",
       "      <td>1</td>\n",
       "      <td>0.865458</td>\n",
       "    </tr>\n",
       "    <tr>\n",
       "      <th>5</th>\n",
       "      <td>1.0</td>\n",
       "      <td>0.0</td>\n",
       "      <td>0.0</td>\n",
       "      <td>1.0</td>\n",
       "      <td>0.0</td>\n",
       "      <td>-1.087844</td>\n",
       "      <td>2.612828</td>\n",
       "      <td>-0.783048</td>\n",
       "      <td>-0.441622</td>\n",
       "      <td>-1.244533</td>\n",
       "      <td>-1.007035</td>\n",
       "      <td>-1.142529</td>\n",
       "      <td>0</td>\n",
       "      <td>0.97</td>\n",
       "      <td>0</td>\n",
       "      <td>0.907499</td>\n",
       "    </tr>\n",
       "    <tr>\n",
       "      <th>6</th>\n",
       "      <td>0.0</td>\n",
       "      <td>1.0</td>\n",
       "      <td>0.0</td>\n",
       "      <td>0.0</td>\n",
       "      <td>1.0</td>\n",
       "      <td>0.022489</td>\n",
       "      <td>0.674497</td>\n",
       "      <td>1.716750</td>\n",
       "      <td>0.874717</td>\n",
       "      <td>0.571824</td>\n",
       "      <td>0.784527</td>\n",
       "      <td>0.808158</td>\n",
       "      <td>1</td>\n",
       "      <td>0.57</td>\n",
       "      <td>0</td>\n",
       "      <td>0.758967</td>\n",
       "    </tr>\n",
       "    <tr>\n",
       "      <th>8</th>\n",
       "      <td>0.0</td>\n",
       "      <td>1.0</td>\n",
       "      <td>0.0</td>\n",
       "      <td>1.0</td>\n",
       "      <td>0.0</td>\n",
       "      <td>0.300072</td>\n",
       "      <td>-0.243659</td>\n",
       "      <td>-1.132760</td>\n",
       "      <td>-1.204360</td>\n",
       "      <td>-0.728305</td>\n",
       "      <td>-0.866326</td>\n",
       "      <td>-0.993840</td>\n",
       "      <td>0</td>\n",
       "      <td>0.89</td>\n",
       "      <td>0</td>\n",
       "      <td>0.851955</td>\n",
       "    </tr>\n",
       "    <tr>\n",
       "      <th>9</th>\n",
       "      <td>0.0</td>\n",
       "      <td>1.0</td>\n",
       "      <td>0.0</td>\n",
       "      <td>0.0</td>\n",
       "      <td>1.0</td>\n",
       "      <td>-0.671469</td>\n",
       "      <td>-0.549711</td>\n",
       "      <td>-1.987613</td>\n",
       "      <td>-3.480272</td>\n",
       "      <td>-0.527550</td>\n",
       "      <td>-3.171083</td>\n",
       "      <td>-1.612787</td>\n",
       "      <td>0</td>\n",
       "      <td>0.92</td>\n",
       "      <td>0</td>\n",
       "      <td>0.851955</td>\n",
       "    </tr>\n",
       "    <tr>\n",
       "      <th>10</th>\n",
       "      <td>0.0</td>\n",
       "      <td>1.0</td>\n",
       "      <td>0.0</td>\n",
       "      <td>1.0</td>\n",
       "      <td>0.0</td>\n",
       "      <td>-0.116303</td>\n",
       "      <td>0.062393</td>\n",
       "      <td>-1.987613</td>\n",
       "      <td>-0.822991</td>\n",
       "      <td>-0.527550</td>\n",
       "      <td>-0.756771</td>\n",
       "      <td>-0.739871</td>\n",
       "      <td>0</td>\n",
       "      <td>0.89</td>\n",
       "      <td>0</td>\n",
       "      <td>0.849042</td>\n",
       "    </tr>\n",
       "    <tr>\n",
       "      <th>11</th>\n",
       "      <td>0.0</td>\n",
       "      <td>1.0</td>\n",
       "      <td>0.0</td>\n",
       "      <td>0.0</td>\n",
       "      <td>1.0</td>\n",
       "      <td>-0.116303</td>\n",
       "      <td>0.164410</td>\n",
       "      <td>-0.277907</td>\n",
       "      <td>-0.134066</td>\n",
       "      <td>0.151194</td>\n",
       "      <td>-0.172023</td>\n",
       "      <td>0.012306</td>\n",
       "      <td>1</td>\n",
       "      <td>0.59</td>\n",
       "      <td>0</td>\n",
       "      <td>0.657621</td>\n",
       "    </tr>\n",
       "    <tr>\n",
       "      <th>12</th>\n",
       "      <td>1.0</td>\n",
       "      <td>0.0</td>\n",
       "      <td>0.0</td>\n",
       "      <td>1.0</td>\n",
       "      <td>0.0</td>\n",
       "      <td>-1.920594</td>\n",
       "      <td>-0.243659</td>\n",
       "      <td>-0.433335</td>\n",
       "      <td>-1.831773</td>\n",
       "      <td>-1.244533</td>\n",
       "      <td>-2.427481</td>\n",
       "      <td>-1.474649</td>\n",
       "      <td>0</td>\n",
       "      <td>0.94</td>\n",
       "      <td>0</td>\n",
       "      <td>0.860709</td>\n",
       "    </tr>\n",
       "    <tr>\n",
       "      <th>14</th>\n",
       "      <td>0.0</td>\n",
       "      <td>1.0</td>\n",
       "      <td>0.0</td>\n",
       "      <td>1.0</td>\n",
       "      <td>0.0</td>\n",
       "      <td>-0.116303</td>\n",
       "      <td>-0.345677</td>\n",
       "      <td>1.315228</td>\n",
       "      <td>0.013561</td>\n",
       "      <td>-0.728305</td>\n",
       "      <td>-0.046720</td>\n",
       "      <td>-0.624305</td>\n",
       "      <td>1</td>\n",
       "      <td>0.56</td>\n",
       "      <td>0</td>\n",
       "      <td>0.662759</td>\n",
       "    </tr>\n",
       "    <tr>\n",
       "      <th>15</th>\n",
       "      <td>0.0</td>\n",
       "      <td>1.0</td>\n",
       "      <td>0.0</td>\n",
       "      <td>1.0</td>\n",
       "      <td>0.0</td>\n",
       "      <td>0.300072</td>\n",
       "      <td>0.674497</td>\n",
       "      <td>-0.316764</td>\n",
       "      <td>-0.527737</td>\n",
       "      <td>-1.244533</td>\n",
       "      <td>-0.263775</td>\n",
       "      <td>-1.163103</td>\n",
       "      <td>0</td>\n",
       "      <td>0.94</td>\n",
       "      <td>0</td>\n",
       "      <td>0.907499</td>\n",
       "    </tr>\n",
       "    <tr>\n",
       "      <th>16</th>\n",
       "      <td>0.0</td>\n",
       "      <td>1.0</td>\n",
       "      <td>0.0</td>\n",
       "      <td>1.0</td>\n",
       "      <td>0.0</td>\n",
       "      <td>0.300072</td>\n",
       "      <td>1.082567</td>\n",
       "      <td>-1.288188</td>\n",
       "      <td>0.394930</td>\n",
       "      <td>-1.053338</td>\n",
       "      <td>0.557886</td>\n",
       "      <td>-0.781900</td>\n",
       "      <td>0</td>\n",
       "      <td>0.74</td>\n",
       "      <td>0</td>\n",
       "      <td>0.689222</td>\n",
       "    </tr>\n",
       "    <tr>\n",
       "      <th>17</th>\n",
       "      <td>0.0</td>\n",
       "      <td>0.0</td>\n",
       "      <td>1.0</td>\n",
       "      <td>1.0</td>\n",
       "      <td>0.0</td>\n",
       "      <td>0.994030</td>\n",
       "      <td>0.266428</td>\n",
       "      <td>-1.080951</td>\n",
       "      <td>-0.121764</td>\n",
       "      <td>-0.843023</td>\n",
       "      <td>0.529983</td>\n",
       "      <td>-0.754420</td>\n",
       "      <td>0</td>\n",
       "      <td>0.63</td>\n",
       "      <td>0</td>\n",
       "      <td>0.564410</td>\n",
       "    </tr>\n",
       "    <tr>\n",
       "      <th>18</th>\n",
       "      <td>0.0</td>\n",
       "      <td>1.0</td>\n",
       "      <td>0.0</td>\n",
       "      <td>1.0</td>\n",
       "      <td>0.0</td>\n",
       "      <td>-0.671469</td>\n",
       "      <td>-0.345677</td>\n",
       "      <td>0.097710</td>\n",
       "      <td>-0.970617</td>\n",
       "      <td>-0.556229</td>\n",
       "      <td>-1.180611</td>\n",
       "      <td>-0.807588</td>\n",
       "      <td>0</td>\n",
       "      <td>0.88</td>\n",
       "      <td>0</td>\n",
       "      <td>0.851955</td>\n",
       "    </tr>\n",
       "    <tr>\n",
       "      <th>19</th>\n",
       "      <td>0.0</td>\n",
       "      <td>1.0</td>\n",
       "      <td>0.0</td>\n",
       "      <td>1.0</td>\n",
       "      <td>0.0</td>\n",
       "      <td>0.022489</td>\n",
       "      <td>-0.243659</td>\n",
       "      <td>-1.987613</td>\n",
       "      <td>-0.786084</td>\n",
       "      <td>-0.462544</td>\n",
       "      <td>-0.648243</td>\n",
       "      <td>-0.682679</td>\n",
       "      <td>0</td>\n",
       "      <td>0.84</td>\n",
       "      <td>0</td>\n",
       "      <td>0.851955</td>\n",
       "    </tr>\n",
       "  </tbody>\n",
       "</table>\n",
       "</div>"
      ],
      "text/plain": [
       "    encoder__age_group_0-55  encoder__age_group_55-65  \\\n",
       "0                       0.0                       1.0   \n",
       "1                       0.0                       1.0   \n",
       "2                       0.0                       1.0   \n",
       "3                       0.0                       1.0   \n",
       "5                       1.0                       0.0   \n",
       "6                       0.0                       1.0   \n",
       "8                       0.0                       1.0   \n",
       "9                       0.0                       1.0   \n",
       "10                      0.0                       1.0   \n",
       "11                      0.0                       1.0   \n",
       "12                      1.0                       0.0   \n",
       "14                      0.0                       1.0   \n",
       "15                      0.0                       1.0   \n",
       "16                      0.0                       1.0   \n",
       "17                      0.0                       0.0   \n",
       "18                      0.0                       1.0   \n",
       "19                      0.0                       1.0   \n",
       "\n",
       "    encoder__age_group_65-100  encoder__pericardial-effusion_0  \\\n",
       "0                         0.0                              1.0   \n",
       "1                         0.0                              0.0   \n",
       "2                         0.0                              1.0   \n",
       "3                         0.0                              0.0   \n",
       "5                         0.0                              1.0   \n",
       "6                         0.0                              0.0   \n",
       "8                         0.0                              1.0   \n",
       "9                         0.0                              0.0   \n",
       "10                        0.0                              1.0   \n",
       "11                        0.0                              0.0   \n",
       "12                        0.0                              1.0   \n",
       "14                        0.0                              1.0   \n",
       "15                        0.0                              1.0   \n",
       "16                        0.0                              1.0   \n",
       "17                        1.0                              1.0   \n",
       "18                        0.0                              1.0   \n",
       "19                        0.0                              1.0   \n",
       "\n",
       "    encoder__pericardial-effusion_1  remainder__age-at-heart-attack  \\\n",
       "0                               0.0                       -0.116303   \n",
       "1                               1.0                       -0.393886   \n",
       "2                               0.0                       -0.671469   \n",
       "3                               1.0                        0.022489   \n",
       "5                               0.0                       -1.087844   \n",
       "6                               1.0                        0.022489   \n",
       "8                               0.0                        0.300072   \n",
       "9                               1.0                       -0.671469   \n",
       "10                              0.0                       -0.116303   \n",
       "11                              1.0                       -0.116303   \n",
       "12                              0.0                       -1.920594   \n",
       "14                              0.0                       -0.116303   \n",
       "15                              0.0                        0.300072   \n",
       "16                              0.0                        0.300072   \n",
       "17                              0.0                        0.994030   \n",
       "18                              0.0                       -0.671469   \n",
       "19                              0.0                        0.022489   \n",
       "\n",
       "    remainder__fractional-shortening  remainder__epss  remainder__lvdd  \\\n",
       "0                           0.980550        -0.821905        -1.339684   \n",
       "1                           2.306776        -0.796000         0.259605   \n",
       "2                           1.184584        -0.770095        -0.466226   \n",
       "3                           0.164410         1.755607         1.821988   \n",
       "5                           2.612828        -0.783048        -0.441622   \n",
       "6                           0.674497         1.716750         0.874717   \n",
       "8                          -0.243659        -1.132760        -1.204360   \n",
       "9                          -0.549711        -1.987613        -3.480272   \n",
       "10                          0.062393        -1.987613        -0.822991   \n",
       "11                          0.164410        -0.277907        -0.134066   \n",
       "12                         -0.243659        -0.433335        -1.831773   \n",
       "14                         -0.345677         1.315228         0.013561   \n",
       "15                          0.674497        -0.316764        -0.527737   \n",
       "16                          1.082567        -1.288188         0.394930   \n",
       "17                          0.266428        -1.080951        -0.121764   \n",
       "18                         -0.345677         0.097710        -0.970617   \n",
       "19                         -0.243659        -1.987613        -0.786084   \n",
       "\n",
       "    remainder__wall-motion-index  remainder__age_lvdd_interaction  \\\n",
       "0                      -1.244533                        -1.195332   \n",
       "1                      -1.244533                        -0.021385   \n",
       "2                      -1.244533                        -0.780565   \n",
       "3                       0.571824                         1.601737   \n",
       "5                      -1.244533                        -1.007035   \n",
       "6                       0.571824                         0.784527   \n",
       "8                      -0.728305                        -0.866326   \n",
       "9                      -0.527550                        -3.171083   \n",
       "10                     -0.527550                        -0.756771   \n",
       "11                      0.151194                        -0.172023   \n",
       "12                     -1.244533                        -2.427481   \n",
       "14                     -0.728305                        -0.046720   \n",
       "15                     -1.244533                        -0.263775   \n",
       "16                     -1.053338                         0.557886   \n",
       "17                     -0.843023                         0.529983   \n",
       "18                     -0.556229                        -1.180611   \n",
       "19                     -0.462544                        -0.648243   \n",
       "\n",
       "    remainder__wall-motion-index_lvdd_interaction  Prediction RF  \\\n",
       "0                                       -1.357084              0   \n",
       "1                                       -0.975000              0   \n",
       "2                                       -1.148407              0   \n",
       "3                                        1.249466              1   \n",
       "5                                       -1.142529              0   \n",
       "6                                        0.808158              1   \n",
       "8                                       -0.993840              0   \n",
       "9                                       -1.612787              0   \n",
       "10                                      -0.739871              0   \n",
       "11                                       0.012306              1   \n",
       "12                                      -1.474649              0   \n",
       "14                                      -0.624305              1   \n",
       "15                                      -1.163103              0   \n",
       "16                                      -0.781900              0   \n",
       "17                                      -0.754420              0   \n",
       "18                                      -0.807588              0   \n",
       "19                                      -0.682679              0   \n",
       "\n",
       "    Prediction Probability RF  Prediction XGBoost  \\\n",
       "0                        1.00                   0   \n",
       "1                        0.91                   0   \n",
       "2                        0.97                   0   \n",
       "3                        0.91                   1   \n",
       "5                        0.97                   0   \n",
       "6                        0.57                   0   \n",
       "8                        0.89                   0   \n",
       "9                        0.92                   0   \n",
       "10                       0.89                   0   \n",
       "11                       0.59                   0   \n",
       "12                       0.94                   0   \n",
       "14                       0.56                   0   \n",
       "15                       0.94                   0   \n",
       "16                       0.74                   0   \n",
       "17                       0.63                   0   \n",
       "18                       0.88                   0   \n",
       "19                       0.84                   0   \n",
       "\n",
       "    Prediction Probability XGBoost  \n",
       "0                         0.907499  \n",
       "1                         0.907499  \n",
       "2                         0.907499  \n",
       "3                         0.865458  \n",
       "5                         0.907499  \n",
       "6                         0.758967  \n",
       "8                         0.851955  \n",
       "9                         0.851955  \n",
       "10                        0.849042  \n",
       "11                        0.657621  \n",
       "12                        0.860709  \n",
       "14                        0.662759  \n",
       "15                        0.907499  \n",
       "16                        0.689222  \n",
       "17                        0.564410  \n",
       "18                        0.851955  \n",
       "19                        0.851955  "
      ]
     },
     "execution_count": 59,
     "metadata": {},
     "output_type": "execute_result"
    }
   ],
   "source": [
    "# Let's take a look at the last 4 columns\n",
    "test_data_df"
   ]
  },
  {
   "cell_type": "code",
   "execution_count": 60,
   "id": "70f3d3ce",
   "metadata": {},
   "outputs": [],
   "source": [
    "def prep_test_data(prediction_df):\n",
    "\n",
    "    # path to test file\n",
    "    test_data = \"data/echocardiogram.test\"\n",
    "\n",
    "    # Read the .data file into a DataFrame\n",
    "    df_test_data = pd.read_csv(test_data, header=None) # Assuming there's no header in the file\n",
    "\n",
    "    # Define column names\n",
    "    column_names = [\"survival\", \"still-alive\", \"age-at-heart-attack\", \"pericardial-effusion\", \"fractional-shortening\",\n",
    "                \"epss\", \"lvdd\", \"wall-motion-score\", \"wall-motion-index\", \"mult\", \"name\", \"group\", \"alive-at-1\"] # Add all column names here\n",
    "\n",
    "    # Assign column names to the DataFrame\n",
    "    df_test_data.columns = column_names\n",
    "\n",
    "    # concatenating df_labelled and df_unlabelled along rows\n",
    "    test_data_df_updated = pd.concat([df_test_data, prediction_df], axis=1)\n",
    "\n",
    "    return test_data_df_updated"
   ]
  },
  {
   "cell_type": "code",
   "execution_count": 61,
   "id": "75ec498e",
   "metadata": {},
   "outputs": [
    {
     "data": {
      "text/html": [
       "<div>\n",
       "<style scoped>\n",
       "    .dataframe tbody tr th:only-of-type {\n",
       "        vertical-align: middle;\n",
       "    }\n",
       "\n",
       "    .dataframe tbody tr th {\n",
       "        vertical-align: top;\n",
       "    }\n",
       "\n",
       "    .dataframe thead th {\n",
       "        text-align: right;\n",
       "    }\n",
       "</style>\n",
       "<table border=\"1\" class=\"dataframe\">\n",
       "  <thead>\n",
       "    <tr style=\"text-align: right;\">\n",
       "      <th></th>\n",
       "      <th>survival</th>\n",
       "      <th>still-alive</th>\n",
       "      <th>age-at-heart-attack</th>\n",
       "      <th>pericardial-effusion</th>\n",
       "      <th>fractional-shortening</th>\n",
       "      <th>epss</th>\n",
       "      <th>lvdd</th>\n",
       "      <th>wall-motion-score</th>\n",
       "      <th>wall-motion-index</th>\n",
       "      <th>mult</th>\n",
       "      <th>name</th>\n",
       "      <th>group</th>\n",
       "      <th>alive-at-1</th>\n",
       "      <th>Prediction RF</th>\n",
       "      <th>Prediction Probability RF</th>\n",
       "      <th>Prediction XGBoost</th>\n",
       "      <th>Prediction Probability XGBoost</th>\n",
       "    </tr>\n",
       "  </thead>\n",
       "  <tbody>\n",
       "    <tr>\n",
       "      <th>0</th>\n",
       "      <td>?</td>\n",
       "      <td>?</td>\n",
       "      <td>61</td>\n",
       "      <td>0</td>\n",
       "      <td>0.27</td>\n",
       "      <td>9.0</td>\n",
       "      <td>4.06</td>\n",
       "      <td>12.0</td>\n",
       "      <td>1.000</td>\n",
       "      <td>0.857</td>\n",
       "      <td>name</td>\n",
       "      <td>?</td>\n",
       "      <td>?</td>\n",
       "      <td>0.0</td>\n",
       "      <td>1.00</td>\n",
       "      <td>0.0</td>\n",
       "      <td>0.907499</td>\n",
       "    </tr>\n",
       "    <tr>\n",
       "      <th>1</th>\n",
       "      <td>?</td>\n",
       "      <td>?</td>\n",
       "      <td>59</td>\n",
       "      <td>1</td>\n",
       "      <td>0.40</td>\n",
       "      <td>9.2</td>\n",
       "      <td>5.36</td>\n",
       "      <td>12.0</td>\n",
       "      <td>1.000</td>\n",
       "      <td>0.857</td>\n",
       "      <td>name</td>\n",
       "      <td>?</td>\n",
       "      <td>?</td>\n",
       "      <td>0.0</td>\n",
       "      <td>0.91</td>\n",
       "      <td>0.0</td>\n",
       "      <td>0.907499</td>\n",
       "    </tr>\n",
       "    <tr>\n",
       "      <th>2</th>\n",
       "      <td>?</td>\n",
       "      <td>?</td>\n",
       "      <td>57</td>\n",
       "      <td>0</td>\n",
       "      <td>0.29</td>\n",
       "      <td>9.4</td>\n",
       "      <td>4.77</td>\n",
       "      <td>9.0</td>\n",
       "      <td>1.000</td>\n",
       "      <td>0.640</td>\n",
       "      <td>name</td>\n",
       "      <td>?</td>\n",
       "      <td>?</td>\n",
       "      <td>0.0</td>\n",
       "      <td>0.97</td>\n",
       "      <td>0.0</td>\n",
       "      <td>0.907499</td>\n",
       "    </tr>\n",
       "    <tr>\n",
       "      <th>3</th>\n",
       "      <td>?</td>\n",
       "      <td>?</td>\n",
       "      <td>62</td>\n",
       "      <td>1</td>\n",
       "      <td>0.19</td>\n",
       "      <td>28.9</td>\n",
       "      <td>6.63</td>\n",
       "      <td>19.5</td>\n",
       "      <td>1.950</td>\n",
       "      <td>0.714</td>\n",
       "      <td>name</td>\n",
       "      <td>?</td>\n",
       "      <td>?</td>\n",
       "      <td>1.0</td>\n",
       "      <td>0.91</td>\n",
       "      <td>1.0</td>\n",
       "      <td>0.865458</td>\n",
       "    </tr>\n",
       "    <tr>\n",
       "      <th>4</th>\n",
       "      <td>?</td>\n",
       "      <td>?</td>\n",
       "      <td>?</td>\n",
       "      <td>0</td>\n",
       "      <td>0.26</td>\n",
       "      <td>0.0</td>\n",
       "      <td>4.38</td>\n",
       "      <td>9.0</td>\n",
       "      <td>1.000</td>\n",
       "      <td>0.640</td>\n",
       "      <td>name</td>\n",
       "      <td>?</td>\n",
       "      <td>?</td>\n",
       "      <td>NaN</td>\n",
       "      <td>NaN</td>\n",
       "      <td>NaN</td>\n",
       "      <td>NaN</td>\n",
       "    </tr>\n",
       "    <tr>\n",
       "      <th>5</th>\n",
       "      <td>?</td>\n",
       "      <td>?</td>\n",
       "      <td>54</td>\n",
       "      <td>0</td>\n",
       "      <td>0.43</td>\n",
       "      <td>9.3</td>\n",
       "      <td>4.79</td>\n",
       "      <td>10.0</td>\n",
       "      <td>1.000</td>\n",
       "      <td>0.714</td>\n",
       "      <td>name</td>\n",
       "      <td>?</td>\n",
       "      <td>?</td>\n",
       "      <td>0.0</td>\n",
       "      <td>0.97</td>\n",
       "      <td>0.0</td>\n",
       "      <td>0.907499</td>\n",
       "    </tr>\n",
       "    <tr>\n",
       "      <th>6</th>\n",
       "      <td>?</td>\n",
       "      <td>?</td>\n",
       "      <td>62</td>\n",
       "      <td>1</td>\n",
       "      <td>0.24</td>\n",
       "      <td>28.6</td>\n",
       "      <td>5.86</td>\n",
       "      <td>21.5</td>\n",
       "      <td>1.950</td>\n",
       "      <td>0.786</td>\n",
       "      <td>name</td>\n",
       "      <td>?</td>\n",
       "      <td>?</td>\n",
       "      <td>1.0</td>\n",
       "      <td>0.57</td>\n",
       "      <td>0.0</td>\n",
       "      <td>0.758967</td>\n",
       "    </tr>\n",
       "    <tr>\n",
       "      <th>7</th>\n",
       "      <td>?</td>\n",
       "      <td>?</td>\n",
       "      <td>NaN</td>\n",
       "      <td>0</td>\n",
       "      <td>0.23</td>\n",
       "      <td>19.1</td>\n",
       "      <td>5.49</td>\n",
       "      <td>12.0</td>\n",
       "      <td>1.200</td>\n",
       "      <td>0.710</td>\n",
       "      <td>name</td>\n",
       "      <td>?</td>\n",
       "      <td>?</td>\n",
       "      <td>NaN</td>\n",
       "      <td>NaN</td>\n",
       "      <td>NaN</td>\n",
       "      <td>NaN</td>\n",
       "    </tr>\n",
       "    <tr>\n",
       "      <th>8</th>\n",
       "      <td>?</td>\n",
       "      <td>?</td>\n",
       "      <td>64</td>\n",
       "      <td>0</td>\n",
       "      <td>0.15</td>\n",
       "      <td>6.6</td>\n",
       "      <td>4.17</td>\n",
       "      <td>14.0</td>\n",
       "      <td>1.270</td>\n",
       "      <td>0.786</td>\n",
       "      <td>name</td>\n",
       "      <td>?</td>\n",
       "      <td>?</td>\n",
       "      <td>0.0</td>\n",
       "      <td>0.89</td>\n",
       "      <td>0.0</td>\n",
       "      <td>0.851955</td>\n",
       "    </tr>\n",
       "    <tr>\n",
       "      <th>9</th>\n",
       "      <td>?</td>\n",
       "      <td>?</td>\n",
       "      <td>57</td>\n",
       "      <td>1</td>\n",
       "      <td>0.12</td>\n",
       "      <td>0.0</td>\n",
       "      <td>2.32</td>\n",
       "      <td>16.5</td>\n",
       "      <td>1.375</td>\n",
       "      <td>0.857</td>\n",
       "      <td>name</td>\n",
       "      <td>?</td>\n",
       "      <td>?</td>\n",
       "      <td>0.0</td>\n",
       "      <td>0.92</td>\n",
       "      <td>0.0</td>\n",
       "      <td>0.851955</td>\n",
       "    </tr>\n",
       "    <tr>\n",
       "      <th>10</th>\n",
       "      <td>?</td>\n",
       "      <td>?</td>\n",
       "      <td>61</td>\n",
       "      <td>0</td>\n",
       "      <td>0.18</td>\n",
       "      <td>0.0</td>\n",
       "      <td>4.48</td>\n",
       "      <td>11.0</td>\n",
       "      <td>1.375</td>\n",
       "      <td>0.570</td>\n",
       "      <td>name</td>\n",
       "      <td>?</td>\n",
       "      <td>?</td>\n",
       "      <td>0.0</td>\n",
       "      <td>0.89</td>\n",
       "      <td>0.0</td>\n",
       "      <td>0.849042</td>\n",
       "    </tr>\n",
       "    <tr>\n",
       "      <th>11</th>\n",
       "      <td>?</td>\n",
       "      <td>?</td>\n",
       "      <td>61</td>\n",
       "      <td>1</td>\n",
       "      <td>0.19</td>\n",
       "      <td>13.2</td>\n",
       "      <td>5.04</td>\n",
       "      <td>19.0</td>\n",
       "      <td>1.730</td>\n",
       "      <td>0.786</td>\n",
       "      <td>name</td>\n",
       "      <td>?</td>\n",
       "      <td>?</td>\n",
       "      <td>1.0</td>\n",
       "      <td>0.59</td>\n",
       "      <td>0.0</td>\n",
       "      <td>0.657621</td>\n",
       "    </tr>\n",
       "    <tr>\n",
       "      <th>12</th>\n",
       "      <td>?</td>\n",
       "      <td>?</td>\n",
       "      <td>48</td>\n",
       "      <td>0</td>\n",
       "      <td>0.15</td>\n",
       "      <td>12.0</td>\n",
       "      <td>3.66</td>\n",
       "      <td>10.0</td>\n",
       "      <td>1.000</td>\n",
       "      <td>0.714</td>\n",
       "      <td>name</td>\n",
       "      <td>?</td>\n",
       "      <td>?</td>\n",
       "      <td>0.0</td>\n",
       "      <td>0.94</td>\n",
       "      <td>0.0</td>\n",
       "      <td>0.860709</td>\n",
       "    </tr>\n",
       "    <tr>\n",
       "      <th>13</th>\n",
       "      <td>?</td>\n",
       "      <td>?</td>\n",
       "      <td>?</td>\n",
       "      <td>0</td>\n",
       "      <td>0.09</td>\n",
       "      <td>6.8</td>\n",
       "      <td>4.96</td>\n",
       "      <td>13.0</td>\n",
       "      <td>1.080</td>\n",
       "      <td>0.857</td>\n",
       "      <td>name</td>\n",
       "      <td>?</td>\n",
       "      <td>?</td>\n",
       "      <td>NaN</td>\n",
       "      <td>NaN</td>\n",
       "      <td>NaN</td>\n",
       "      <td>NaN</td>\n",
       "    </tr>\n",
       "    <tr>\n",
       "      <th>14</th>\n",
       "      <td>?</td>\n",
       "      <td>?</td>\n",
       "      <td>61</td>\n",
       "      <td>0</td>\n",
       "      <td>0.14</td>\n",
       "      <td>25.5</td>\n",
       "      <td>5.16</td>\n",
       "      <td>14.0</td>\n",
       "      <td>1.270</td>\n",
       "      <td>0.786</td>\n",
       "      <td>name</td>\n",
       "      <td>?</td>\n",
       "      <td>?</td>\n",
       "      <td>1.0</td>\n",
       "      <td>0.56</td>\n",
       "      <td>0.0</td>\n",
       "      <td>0.662759</td>\n",
       "    </tr>\n",
       "    <tr>\n",
       "      <th>15</th>\n",
       "      <td>?</td>\n",
       "      <td>?</td>\n",
       "      <td>64</td>\n",
       "      <td>0</td>\n",
       "      <td>0.24</td>\n",
       "      <td>12.9</td>\n",
       "      <td>4.72</td>\n",
       "      <td>12.0</td>\n",
       "      <td>1.000</td>\n",
       "      <td>0.857</td>\n",
       "      <td>name</td>\n",
       "      <td>?</td>\n",
       "      <td>?</td>\n",
       "      <td>0.0</td>\n",
       "      <td>0.94</td>\n",
       "      <td>0.0</td>\n",
       "      <td>0.907499</td>\n",
       "    </tr>\n",
       "    <tr>\n",
       "      <th>16</th>\n",
       "      <td>?</td>\n",
       "      <td>?</td>\n",
       "      <td>64</td>\n",
       "      <td>0</td>\n",
       "      <td>0.28</td>\n",
       "      <td>5.4</td>\n",
       "      <td>5.47</td>\n",
       "      <td>11.0</td>\n",
       "      <td>1.100</td>\n",
       "      <td>0.714</td>\n",
       "      <td>name</td>\n",
       "      <td>?</td>\n",
       "      <td>?</td>\n",
       "      <td>0.0</td>\n",
       "      <td>0.74</td>\n",
       "      <td>0.0</td>\n",
       "      <td>0.689222</td>\n",
       "    </tr>\n",
       "    <tr>\n",
       "      <th>17</th>\n",
       "      <td>?</td>\n",
       "      <td>?</td>\n",
       "      <td>69</td>\n",
       "      <td>0</td>\n",
       "      <td>0.20</td>\n",
       "      <td>7.0</td>\n",
       "      <td>5.05</td>\n",
       "      <td>14.5</td>\n",
       "      <td>1.210</td>\n",
       "      <td>0.857</td>\n",
       "      <td>name</td>\n",
       "      <td>?</td>\n",
       "      <td>?</td>\n",
       "      <td>0.0</td>\n",
       "      <td>0.63</td>\n",
       "      <td>0.0</td>\n",
       "      <td>0.564410</td>\n",
       "    </tr>\n",
       "    <tr>\n",
       "      <th>18</th>\n",
       "      <td>?</td>\n",
       "      <td>?</td>\n",
       "      <td>57</td>\n",
       "      <td>0</td>\n",
       "      <td>0.14</td>\n",
       "      <td>16.1</td>\n",
       "      <td>4.36</td>\n",
       "      <td>15.0</td>\n",
       "      <td>1.360</td>\n",
       "      <td>0.786</td>\n",
       "      <td>name</td>\n",
       "      <td>?</td>\n",
       "      <td>?</td>\n",
       "      <td>0.0</td>\n",
       "      <td>0.88</td>\n",
       "      <td>0.0</td>\n",
       "      <td>0.851955</td>\n",
       "    </tr>\n",
       "    <tr>\n",
       "      <th>19</th>\n",
       "      <td>?</td>\n",
       "      <td>?</td>\n",
       "      <td>62</td>\n",
       "      <td>0</td>\n",
       "      <td>0.15</td>\n",
       "      <td>0.0</td>\n",
       "      <td>4.51</td>\n",
       "      <td>15.5</td>\n",
       "      <td>1.409</td>\n",
       "      <td>0.786</td>\n",
       "      <td>name</td>\n",
       "      <td>?</td>\n",
       "      <td>?</td>\n",
       "      <td>0.0</td>\n",
       "      <td>0.84</td>\n",
       "      <td>0.0</td>\n",
       "      <td>0.851955</td>\n",
       "    </tr>\n",
       "  </tbody>\n",
       "</table>\n",
       "</div>"
      ],
      "text/plain": [
       "   survival still-alive age-at-heart-attack  pericardial-effusion  \\\n",
       "0         ?           ?                  61                     0   \n",
       "1         ?           ?                  59                     1   \n",
       "2         ?           ?                  57                     0   \n",
       "3         ?           ?                  62                     1   \n",
       "4         ?           ?                   ?                     0   \n",
       "5         ?           ?                  54                     0   \n",
       "6         ?           ?                  62                     1   \n",
       "7         ?           ?                 NaN                     0   \n",
       "8         ?           ?                  64                     0   \n",
       "9         ?           ?                  57                     1   \n",
       "10        ?           ?                  61                     0   \n",
       "11        ?           ?                  61                     1   \n",
       "12        ?           ?                  48                     0   \n",
       "13        ?           ?                   ?                     0   \n",
       "14        ?           ?                  61                     0   \n",
       "15        ?           ?                  64                     0   \n",
       "16        ?           ?                  64                     0   \n",
       "17        ?           ?                  69                     0   \n",
       "18        ?           ?                  57                     0   \n",
       "19        ?           ?                  62                     0   \n",
       "\n",
       "    fractional-shortening  epss  lvdd  wall-motion-score  wall-motion-index  \\\n",
       "0                    0.27   9.0  4.06               12.0              1.000   \n",
       "1                    0.40   9.2  5.36               12.0              1.000   \n",
       "2                    0.29   9.4  4.77                9.0              1.000   \n",
       "3                    0.19  28.9  6.63               19.5              1.950   \n",
       "4                    0.26   0.0  4.38                9.0              1.000   \n",
       "5                    0.43   9.3  4.79               10.0              1.000   \n",
       "6                    0.24  28.6  5.86               21.5              1.950   \n",
       "7                    0.23  19.1  5.49               12.0              1.200   \n",
       "8                    0.15   6.6  4.17               14.0              1.270   \n",
       "9                    0.12   0.0  2.32               16.5              1.375   \n",
       "10                   0.18   0.0  4.48               11.0              1.375   \n",
       "11                   0.19  13.2  5.04               19.0              1.730   \n",
       "12                   0.15  12.0  3.66               10.0              1.000   \n",
       "13                   0.09   6.8  4.96               13.0              1.080   \n",
       "14                   0.14  25.5  5.16               14.0              1.270   \n",
       "15                   0.24  12.9  4.72               12.0              1.000   \n",
       "16                   0.28   5.4  5.47               11.0              1.100   \n",
       "17                   0.20   7.0  5.05               14.5              1.210   \n",
       "18                   0.14  16.1  4.36               15.0              1.360   \n",
       "19                   0.15   0.0  4.51               15.5              1.409   \n",
       "\n",
       "     mult  name group alive-at-1  Prediction RF  Prediction Probability RF  \\\n",
       "0   0.857  name     ?          ?            0.0                       1.00   \n",
       "1   0.857  name     ?          ?            0.0                       0.91   \n",
       "2   0.640  name     ?          ?            0.0                       0.97   \n",
       "3   0.714  name     ?          ?            1.0                       0.91   \n",
       "4   0.640  name     ?          ?            NaN                        NaN   \n",
       "5   0.714  name     ?          ?            0.0                       0.97   \n",
       "6   0.786  name     ?          ?            1.0                       0.57   \n",
       "7   0.710  name     ?          ?            NaN                        NaN   \n",
       "8   0.786  name     ?          ?            0.0                       0.89   \n",
       "9   0.857  name     ?          ?            0.0                       0.92   \n",
       "10  0.570  name     ?          ?            0.0                       0.89   \n",
       "11  0.786  name     ?          ?            1.0                       0.59   \n",
       "12  0.714  name     ?          ?            0.0                       0.94   \n",
       "13  0.857  name     ?          ?            NaN                        NaN   \n",
       "14  0.786  name     ?          ?            1.0                       0.56   \n",
       "15  0.857  name     ?          ?            0.0                       0.94   \n",
       "16  0.714  name     ?          ?            0.0                       0.74   \n",
       "17  0.857  name     ?          ?            0.0                       0.63   \n",
       "18  0.786  name     ?          ?            0.0                       0.88   \n",
       "19  0.786  name     ?          ?            0.0                       0.84   \n",
       "\n",
       "    Prediction XGBoost  Prediction Probability XGBoost  \n",
       "0                  0.0                        0.907499  \n",
       "1                  0.0                        0.907499  \n",
       "2                  0.0                        0.907499  \n",
       "3                  1.0                        0.865458  \n",
       "4                  NaN                             NaN  \n",
       "5                  0.0                        0.907499  \n",
       "6                  0.0                        0.758967  \n",
       "7                  NaN                             NaN  \n",
       "8                  0.0                        0.851955  \n",
       "9                  0.0                        0.851955  \n",
       "10                 0.0                        0.849042  \n",
       "11                 0.0                        0.657621  \n",
       "12                 0.0                        0.860709  \n",
       "13                 NaN                             NaN  \n",
       "14                 0.0                        0.662759  \n",
       "15                 0.0                        0.907499  \n",
       "16                 0.0                        0.689222  \n",
       "17                 0.0                        0.564410  \n",
       "18                 0.0                        0.851955  \n",
       "19                 0.0                        0.851955  "
      ]
     },
     "execution_count": 61,
     "metadata": {},
     "output_type": "execute_result"
    }
   ],
   "source": [
    "# Let's create a prediction_df from test_data_df dataframe\n",
    "prediction_df = test_data_df[['Prediction RF',\n",
    "    'Prediction Probability RF',\n",
    "    'Prediction XGBoost',\n",
    "    'Prediction Probability XGBoost']]\n",
    "\n",
    "test_data_df_updated = prep_test_data(prediction_df)\n",
    "test_data_df_updated # test dataframe along with ML predictions columns "
   ]
  },
  {
   "cell_type": "code",
   "execution_count": 62,
   "id": "c767e2cb",
   "metadata": {},
   "outputs": [],
   "source": [
    "# Saving results as a csv file\n",
    "test_data_df_updated.to_csv(\"data/echocardiogram_predictions.csv\", index=False)"
   ]
  },
  {
   "cell_type": "markdown",
   "id": "58c8da4a",
   "metadata": {},
   "source": [
    "# SHAP Values"
   ]
  },
  {
   "cell_type": "code",
   "execution_count": 63,
   "id": "04813e75",
   "metadata": {},
   "outputs": [
    {
     "data": {
      "image/png": "[encoded data removed]",
      "text/plain": [
       "<Figure size 800x550 with 2 Axes>"
      ]
     },
     "metadata": {},
     "output_type": "display_data"
    }
   ],
   "source": [
    "# Random Forest SHAP values\n",
    "explainer = shap.TreeExplainer(rf_best_estimator)\n",
    "shap_values = explainer(X_test, y_test)\n",
    "shap.plots.beeswarm(shap_values[..., 0])"
   ]
  },
  {
   "cell_type": "code",
   "execution_count": 64,
   "id": "9c1a3af2",
   "metadata": {},
   "outputs": [
    {
     "data": {
      "image/png": "[encoded data removed]",
      "text/plain": [
       "<Figure size 800x550 with 2 Axes>"
      ]
     },
     "metadata": {},
     "output_type": "display_data"
    }
   ],
   "source": [
    "# Random Forest SHAP values\n",
    "explainer = shap.TreeExplainer(rf_best_estimator)\n",
    "shap_values = explainer(X_test, y_test)\n",
    "shap.plots.beeswarm(shap_values[..., 1])"
   ]
  },
  {
   "cell_type": "code",
   "execution_count": 65,
   "id": "d9fef6d6",
   "metadata": {},
   "outputs": [
    {
     "data": {
      "image/png": "[encoded data removed]",
      "text/plain": [
       "<Figure size 800x550 with 2 Axes>"
      ]
     },
     "metadata": {},
     "output_type": "display_data"
    }
   ],
   "source": [
    "# XGBoost SHAP values\n",
    "explainer = shap.TreeExplainer(xgboost_best_estimator)\n",
    "shap_values = explainer(X_test, y_test)\n",
    "shap.plots.beeswarm(shap_values)"
   ]
  },
  {
   "cell_type": "markdown",
   "id": "e601d187",
   "metadata": {},
   "source": [
    "# Bonus: Model Stacking\n",
    "\n",
    "##### Let's check if we can build a better predictor by combining the powers of Random Forest and XGBoost using Stacking Classifier"
   ]
  },
  {
   "cell_type": "code",
   "execution_count": 66,
   "id": "d67d2b3c",
   "metadata": {},
   "outputs": [],
   "source": [
    "def stack_model1(X_train, y_train, X_test, y_test):\n",
    "\n",
    "    estimators = [\n",
    "        ('rf', rf_best_estimator),\n",
    "        ('xgboost', xgboost_best_estimator)]\n",
    "\n",
    "    clf = StackingClassifier(estimators=estimators, final_estimator=LogisticRegression())\n",
    "\n",
    "    clf.fit(X_train, y_train)\n",
    "\n",
    "    # Predict the target variable for the test data\n",
    "    y_pred = clf.predict(X_test)\n",
    "\n",
    "    # # Probability of positive class\n",
    "    y_pred_proba = clf.predict_proba(X_test)[:, 1]\n",
    "\n",
    "    # Calculate evaluation metrics\n",
    "    accuracy = accuracy_score(y_test, y_pred) # accuracy\n",
    "    roc_auc = roc_auc_score(y_test, y_pred_proba) # Compute ROC AUC\n",
    "    f1_macro = f1_score(y_test, y_pred, average='macro') # f1 macro score\n",
    "    conf_matrix = confusion_matrix(y_test, y_pred)\n",
    "    clf_report = classification_report(y_test, y_pred)\n",
    "\n",
    "    print(\"Accuracy: {:.2f} %\".format(accuracy*100))\n",
    "    print(\"ROC AUC: {:.2f} %\".format(roc_auc*100))\n",
    "    print(\"f1 macro score: {:.2f} %\".format(f1_macro*100))\n",
    "\n",
    "    # Confusion Matrix\n",
    "    print(\"Confusion Matrix:\\n\", conf_matrix)\n",
    "\n",
    "    # Classification Report\n",
    "    print(\"Classification Report:\\n\", clf_report)"
   ]
  },
  {
   "cell_type": "code",
   "execution_count": 67,
   "id": "46d63f3b",
   "metadata": {},
   "outputs": [
    {
     "name": "stdout",
     "output_type": "stream",
     "text": [
      "Accuracy: 98.28 %\n",
      "ROC AUC: 100.00 %\n",
      "f1 macro score: 98.27 %\n",
      "Confusion Matrix:\n",
      " [[30  1]\n",
      " [ 0 27]]\n",
      "Classification Report:\n",
      "               precision    recall  f1-score   support\n",
      "\n",
      "           0       1.00      0.97      0.98        31\n",
      "           1       0.96      1.00      0.98        27\n",
      "\n",
      "    accuracy                           0.98        58\n",
      "   macro avg       0.98      0.98      0.98        58\n",
      "weighted avg       0.98      0.98      0.98        58\n",
      "\n"
     ]
    }
   ],
   "source": [
    "# Stack Model1 Evaluation\n",
    "stack_model1(X_train, y_train, X_test, y_test)"
   ]
  },
  {
   "cell_type": "markdown",
   "id": "e7e4dbc5",
   "metadata": {},
   "source": [
    "##### Let's check if we can build a better predictor by combining the powers of Random Forest and XGBoost using a Voting Classifier"
   ]
  },
  {
   "cell_type": "code",
   "execution_count": 68,
   "id": "65084dba",
   "metadata": {},
   "outputs": [],
   "source": [
    "def stack_model2(X_train, y_train, X_test, y_test):\n",
    "\n",
    "    estimators = [\n",
    "        ('rf', rf_best_estimator),\n",
    "        ('xgboost', xgboost_best_estimator)]\n",
    "\n",
    "    clf = VotingClassifier(estimators=estimators, voting='soft')\n",
    "\n",
    "    clf.fit(X_train, y_train)\n",
    "\n",
    "    # Predict the target variable for the test data\n",
    "    y_pred = clf.predict(X_test)\n",
    "\n",
    "    # # Probability of positive class\n",
    "    y_pred_proba = clf.predict_proba(X_test)[:, 1]\n",
    "\n",
    "    # Calculate evaluation metrics\n",
    "    accuracy = accuracy_score(y_test, y_pred) # accuracy\n",
    "    roc_auc = roc_auc_score(y_test, y_pred_proba) # Compute ROC AUC\n",
    "    f1_macro = f1_score(y_test, y_pred, average='macro') # f1 macro score\n",
    "    conf_matrix = confusion_matrix(y_test, y_pred)\n",
    "    clf_report = classification_report(y_test, y_pred)\n",
    "\n",
    "    print(\"Accuracy: {:.2f} %\".format(accuracy*100))\n",
    "    print(\"ROC AUC: {:.2f} %\".format(roc_auc*100))\n",
    "    print(\"f1 macro score: {:.2f} %\".format(f1_macro*100))\n",
    "\n",
    "    # Confusion Matrix\n",
    "    print(\"Confusion Matrix:\\n\", conf_matrix)\n",
    "\n",
    "    # Classification Report\n",
    "    print(\"Classification Report:\\n\", clf_report)"
   ]
  },
  {
   "cell_type": "code",
   "execution_count": 69,
   "id": "f4df9b1b",
   "metadata": {},
   "outputs": [
    {
     "name": "stdout",
     "output_type": "stream",
     "text": [
      "Accuracy: 98.28 %\n",
      "ROC AUC: 100.00 %\n",
      "f1 macro score: 98.27 %\n",
      "Confusion Matrix:\n",
      " [[30  1]\n",
      " [ 0 27]]\n",
      "Classification Report:\n",
      "               precision    recall  f1-score   support\n",
      "\n",
      "           0       1.00      0.97      0.98        31\n",
      "           1       0.96      1.00      0.98        27\n",
      "\n",
      "    accuracy                           0.98        58\n",
      "   macro avg       0.98      0.98      0.98        58\n",
      "weighted avg       0.98      0.98      0.98        58\n",
      "\n"
     ]
    }
   ],
   "source": [
    "# Stack Model2 Evaluation\n",
    "stack_model2(X_train, y_train, X_test, y_test)"
   ]
  },
  {
   "cell_type": "markdown",
   "id": "284b0c53",
   "metadata": {},
   "source": [
    "# Saving Models"
   ]
  },
  {
   "cell_type": "code",
   "execution_count": 70,
   "id": "5d758725",
   "metadata": {},
   "outputs": [],
   "source": [
    "import joblib\n",
    "\n",
    "# Saving Standard Scaler\n",
    "#scaler_filename = \"model/standard_scaler.gz\"\n",
    "#joblib.dump(sc, scaler_filename)"
   ]
  },
  {
   "cell_type": "code",
   "execution_count": 71,
   "id": "0acfa968",
   "metadata": {},
   "outputs": [],
   "source": [
    "import pickle\n",
    "\n",
    "# save the Random Forest model to disk\n",
    "#filename = 'model/RandomForest.sav'\n",
    "#pickle.dump(rf_best_estimator, open(filename, 'wb'))\n",
    "\n",
    "# save the XGBoost Classifier model to disk\n",
    "#filename = 'model/XGBoost.sav'\n",
    "#pickle.dump(xgboost_best_estimator, open(filename, 'wb'))"
   ]
  },
  {
   "cell_type": "markdown",
   "id": "45ca7234",
   "metadata": {},
   "source": [
    "# Confusion Matrix Plot"
   ]
  },
  {
   "cell_type": "code",
   "execution_count": 72,
   "id": "ec835071",
   "metadata": {},
   "outputs": [
    {
     "data": {
      "application/vnd.plotly.v1+json": {
       "config": {
        "plotlyServerURL": "https://plot.ly"
       },
       "data": [
        {
         "coloraxis": "coloraxis",
         "hovertemplate": "Actual Values: %{x}<br>Predicted Values: %{y}<br>metric scale: %{z}<extra></extra>",
         "name": "0",
         "texttemplate": "%{z}",
         "type": "heatmap",
         "x": [
          0,
          1
         ],
         "xaxis": "x",
         "y": [
          "Survived",
          "Not Survived"
         ],
         "yaxis": "y",
         "z": [
          [
           1,
           0.032
          ],
          [
           0,
           0.968
          ]
         ]
        }
       ],
       "layout": {
        "autosize": false,
        "coloraxis": {
         "colorbar": {
          "title": {
           "text": "metric scale"
          }
         },
         "colorscale": [
          [
           0,
           "rgb(255,255,229)"
          ],
          [
           0.125,
           "rgb(247,252,185)"
          ],
          [
           0.25,
           "rgb(217,240,163)"
          ],
          [
           0.375,
           "rgb(173,221,142)"
          ],
          [
           0.5,
           "rgb(120,198,121)"
          ],
          [
           0.625,
           "rgb(65,171,93)"
          ],
          [
           0.75,
           "rgb(35,132,67)"
          ],
          [
           0.875,
           "rgb(0,104,55)"
          ],
          [
           1,
           "rgb(0,69,41)"
          ]
         ]
        },
        "margin": {
         "t": 60
        },
        "template": {
         "data": {
          "bar": [
           {
            "error_x": {
             "color": "#2a3f5f"
            },
            "error_y": {
             "color": "#2a3f5f"
            },
            "marker": {
             "line": {
              "color": "#E5ECF6",
              "width": 0.5
             },
             "pattern": {
              "fillmode": "overlay",
              "size": 10,
              "solidity": 0.2
             }
            },
            "type": "bar"
           }
          ],
          "barpolar": [
           {
            "marker": {
             "line": {
              "color": "#E5ECF6",
              "width": 0.5
             },
             "pattern": {
              "fillmode": "overlay",
              "size": 10,
              "solidity": 0.2
             }
            },
            "type": "barpolar"
           }
          ],
          "carpet": [
           {
            "aaxis": {
             "endlinecolor": "#2a3f5f",
             "gridcolor": "white",
             "linecolor": "white",
             "minorgridcolor": "white",
             "startlinecolor": "#2a3f5f"
            },
            "baxis": {
             "endlinecolor": "#2a3f5f",
             "gridcolor": "white",
             "linecolor": "white",
             "minorgridcolor": "white",
             "startlinecolor": "#2a3f5f"
            },
            "type": "carpet"
           }
          ],
          "choropleth": [
           {
            "colorbar": {
             "outlinewidth": 0,
             "ticks": ""
            },
            "type": "choropleth"
           }
          ],
          "contour": [
           {
            "colorbar": {
             "outlinewidth": 0,
             "ticks": ""
            },
            "colorscale": [
             [
              0,
              "#0d0887"
             ],
             [
              0.1111111111111111,
              "#46039f"
             ],
             [
              0.2222222222222222,
              "#7201a8"
             ],
             [
              0.3333333333333333,
              "#9c179e"
             ],
             [
              0.4444444444444444,
              "#bd3786"
             ],
             [
              0.5555555555555556,
              "#d8576b"
             ],
             [
              0.6666666666666666,
              "#ed7953"
             ],
             [
              0.7777777777777778,
              "#fb9f3a"
             ],
             [
              0.8888888888888888,
              "#fdca26"
             ],
             [
              1,
              "#f0f921"
             ]
            ],
            "type": "contour"
           }
          ],
          "contourcarpet": [
           {
            "colorbar": {
             "outlinewidth": 0,
             "ticks": ""
            },
            "type": "contourcarpet"
           }
          ],
          "heatmap": [
           {
            "colorbar": {
             "outlinewidth": 0,
             "ticks": ""
            },
            "colorscale": [
             [
              0,
              "#0d0887"
             ],
             [
              0.1111111111111111,
              "#46039f"
             ],
             [
              0.2222222222222222,
              "#7201a8"
             ],
             [
              0.3333333333333333,
              "#9c179e"
             ],
             [
              0.4444444444444444,
              "#bd3786"
             ],
             [
              0.5555555555555556,
              "#d8576b"
             ],
             [
              0.6666666666666666,
              "#ed7953"
             ],
             [
              0.7777777777777778,
              "#fb9f3a"
             ],
             [
              0.8888888888888888,
              "#fdca26"
             ],
             [
              1,
              "#f0f921"
             ]
            ],
            "type": "heatmap"
           }
          ],
          "heatmapgl": [
           {
            "colorbar": {
             "outlinewidth": 0,
             "ticks": ""
            },
            "colorscale": [
             [
              0,
              "#0d0887"
             ],
             [
              0.1111111111111111,
              "#46039f"
             ],
             [
              0.2222222222222222,
              "#7201a8"
             ],
             [
              0.3333333333333333,
              "#9c179e"
             ],
             [
              0.4444444444444444,
              "#bd3786"
             ],
             [
              0.5555555555555556,
              "#d8576b"
             ],
             [
              0.6666666666666666,
              "#ed7953"
             ],
             [
              0.7777777777777778,
              "#fb9f3a"
             ],
             [
              0.8888888888888888,
              "#fdca26"
             ],
             [
              1,
              "#f0f921"
             ]
            ],
            "type": "heatmapgl"
           }
          ],
          "histogram": [
           {
            "marker": {
             "pattern": {
              "fillmode": "overlay",
              "size": 10,
              "solidity": 0.2
             }
            },
            "type": "histogram"
           }
          ],
          "histogram2d": [
           {
            "colorbar": {
             "outlinewidth": 0,
             "ticks": ""
            },
            "colorscale": [
             [
              0,
              "#0d0887"
             ],
             [
              0.1111111111111111,
              "#46039f"
             ],
             [
              0.2222222222222222,
              "#7201a8"
             ],
             [
              0.3333333333333333,
              "#9c179e"
             ],
             [
              0.4444444444444444,
              "#bd3786"
             ],
             [
              0.5555555555555556,
              "#d8576b"
             ],
             [
              0.6666666666666666,
              "#ed7953"
             ],
             [
              0.7777777777777778,
              "#fb9f3a"
             ],
             [
              0.8888888888888888,
              "#fdca26"
             ],
             [
              1,
              "#f0f921"
             ]
            ],
            "type": "histogram2d"
           }
          ],
          "histogram2dcontour": [
           {
            "colorbar": {
             "outlinewidth": 0,
             "ticks": ""
            },
            "colorscale": [
             [
              0,
              "#0d0887"
             ],
             [
              0.1111111111111111,
              "#46039f"
             ],
             [
              0.2222222222222222,
              "#7201a8"
             ],
             [
              0.3333333333333333,
              "#9c179e"
             ],
             [
              0.4444444444444444,
              "#bd3786"
             ],
             [
              0.5555555555555556,
              "#d8576b"
             ],
             [
              0.6666666666666666,
              "#ed7953"
             ],
             [
              0.7777777777777778,
              "#fb9f3a"
             ],
             [
              0.8888888888888888,
              "#fdca26"
             ],
             [
              1,
              "#f0f921"
             ]
            ],
            "type": "histogram2dcontour"
           }
          ],
          "mesh3d": [
           {
            "colorbar": {
             "outlinewidth": 0,
             "ticks": ""
            },
            "type": "mesh3d"
           }
          ],
          "parcoords": [
           {
            "line": {
             "colorbar": {
              "outlinewidth": 0,
              "ticks": ""
             }
            },
            "type": "parcoords"
           }
          ],
          "pie": [
           {
            "automargin": true,
            "type": "pie"
           }
          ],
          "scatter": [
           {
            "fillpattern": {
             "fillmode": "overlay",
             "size": 10,
             "solidity": 0.2
            },
            "type": "scatter"
           }
          ],
          "scatter3d": [
           {
            "line": {
             "colorbar": {
              "outlinewidth": 0,
              "ticks": ""
             }
            },
            "marker": {
             "colorbar": {
              "outlinewidth": 0,
              "ticks": ""
             }
            },
            "type": "scatter3d"
           }
          ],
          "scattercarpet": [
           {
            "marker": {
             "colorbar": {
              "outlinewidth": 0,
              "ticks": ""
             }
            },
            "type": "scattercarpet"
           }
          ],
          "scattergeo": [
           {
            "marker": {
             "colorbar": {
              "outlinewidth": 0,
              "ticks": ""
             }
            },
            "type": "scattergeo"
           }
          ],
          "scattergl": [
           {
            "marker": {
             "colorbar": {
              "outlinewidth": 0,
              "ticks": ""
             }
            },
            "type": "scattergl"
           }
          ],
          "scattermapbox": [
           {
            "marker": {
             "colorbar": {
              "outlinewidth": 0,
              "ticks": ""
             }
            },
            "type": "scattermapbox"
           }
          ],
          "scatterpolar": [
           {
            "marker": {
             "colorbar": {
              "outlinewidth": 0,
              "ticks": ""
             }
            },
            "type": "scatterpolar"
           }
          ],
          "scatterpolargl": [
           {
            "marker": {
             "colorbar": {
              "outlinewidth": 0,
              "ticks": ""
             }
            },
            "type": "scatterpolargl"
           }
          ],
          "scatterternary": [
           {
            "marker": {
             "colorbar": {
              "outlinewidth": 0,
              "ticks": ""
             }
            },
            "type": "scatterternary"
           }
          ],
          "surface": [
           {
            "colorbar": {
             "outlinewidth": 0,
             "ticks": ""
            },
            "colorscale": [
             [
              0,
              "#0d0887"
             ],
             [
              0.1111111111111111,
              "#46039f"
             ],
             [
              0.2222222222222222,
              "#7201a8"
             ],
             [
              0.3333333333333333,
              "#9c179e"
             ],
             [
              0.4444444444444444,
              "#bd3786"
             ],
             [
              0.5555555555555556,
              "#d8576b"
             ],
             [
              0.6666666666666666,
              "#ed7953"
             ],
             [
              0.7777777777777778,
              "#fb9f3a"
             ],
             [
              0.8888888888888888,
              "#fdca26"
             ],
             [
              1,
              "#f0f921"
             ]
            ],
            "type": "surface"
           }
          ],
          "table": [
           {
            "cells": {
             "fill": {
              "color": "#EBF0F8"
             },
             "line": {
              "color": "white"
             }
            },
            "header": {
             "fill": {
              "color": "#C8D4E3"
             },
             "line": {
              "color": "white"
             }
            },
            "type": "table"
           }
          ]
         },
         "layout": {
          "annotationdefaults": {
           "arrowcolor": "#2a3f5f",
           "arrowhead": 0,
           "arrowwidth": 1
          },
          "autotypenumbers": "strict",
          "coloraxis": {
           "colorbar": {
            "outlinewidth": 0,
            "ticks": ""
           }
          },
          "colorscale": {
           "diverging": [
            [
             0,
             "#8e0152"
            ],
            [
             0.1,
             "#c51b7d"
            ],
            [
             0.2,
             "#de77ae"
            ],
            [
             0.3,
             "#f1b6da"
            ],
            [
             0.4,
             "#fde0ef"
            ],
            [
             0.5,
             "#f7f7f7"
            ],
            [
             0.6,
             "#e6f5d0"
            ],
            [
             0.7,
             "#b8e186"
            ],
            [
             0.8,
             "#7fbc41"
            ],
            [
             0.9,
             "#4d9221"
            ],
            [
             1,
             "#276419"
            ]
           ],
           "sequential": [
            [
             0,
             "#0d0887"
            ],
            [
             0.1111111111111111,
             "#46039f"
            ],
            [
             0.2222222222222222,
             "#7201a8"
            ],
            [
             0.3333333333333333,
             "#9c179e"
            ],
            [
             0.4444444444444444,
             "#bd3786"
            ],
            [
             0.5555555555555556,
             "#d8576b"
            ],
            [
             0.6666666666666666,
             "#ed7953"
            ],
            [
             0.7777777777777778,
             "#fb9f3a"
            ],
            [
             0.8888888888888888,
             "#fdca26"
            ],
            [
             1,
             "#f0f921"
            ]
           ],
           "sequentialminus": [
            [
             0,
             "#0d0887"
            ],
            [
             0.1111111111111111,
             "#46039f"
            ],
            [
             0.2222222222222222,
             "#7201a8"
            ],
            [
             0.3333333333333333,
             "#9c179e"
            ],
            [
             0.4444444444444444,
             "#bd3786"
            ],
            [
             0.5555555555555556,
             "#d8576b"
            ],
            [
             0.6666666666666666,
             "#ed7953"
            ],
            [
             0.7777777777777778,
             "#fb9f3a"
            ],
            [
             0.8888888888888888,
             "#fdca26"
            ],
            [
             1,
             "#f0f921"
            ]
           ]
          },
          "colorway": [
           "#636efa",
           "#EF553B",
           "#00cc96",
           "#ab63fa",
           "#FFA15A",
           "#19d3f3",
           "#FF6692",
           "#B6E880",
           "#FF97FF",
           "#FECB52"
          ],
          "font": {
           "color": "#2a3f5f"
          },
          "geo": {
           "bgcolor": "white",
           "lakecolor": "white",
           "landcolor": "#E5ECF6",
           "showlakes": true,
           "showland": true,
           "subunitcolor": "white"
          },
          "hoverlabel": {
           "align": "left"
          },
          "hovermode": "closest",
          "mapbox": {
           "style": "light"
          },
          "paper_bgcolor": "white",
          "plot_bgcolor": "#E5ECF6",
          "polar": {
           "angularaxis": {
            "gridcolor": "white",
            "linecolor": "white",
            "ticks": ""
           },
           "bgcolor": "#E5ECF6",
           "radialaxis": {
            "gridcolor": "white",
            "linecolor": "white",
            "ticks": ""
           }
          },
          "scene": {
           "xaxis": {
            "backgroundcolor": "#E5ECF6",
            "gridcolor": "white",
            "gridwidth": 2,
            "linecolor": "white",
            "showbackground": true,
            "ticks": "",
            "zerolinecolor": "white"
           },
           "yaxis": {
            "backgroundcolor": "#E5ECF6",
            "gridcolor": "white",
            "gridwidth": 2,
            "linecolor": "white",
            "showbackground": true,
            "ticks": "",
            "zerolinecolor": "white"
           },
           "zaxis": {
            "backgroundcolor": "#E5ECF6",
            "gridcolor": "white",
            "gridwidth": 2,
            "linecolor": "white",
            "showbackground": true,
            "ticks": "",
            "zerolinecolor": "white"
           }
          },
          "shapedefaults": {
           "line": {
            "color": "#2a3f5f"
           }
          },
          "ternary": {
           "aaxis": {
            "gridcolor": "white",
            "linecolor": "white",
            "ticks": ""
           },
           "baxis": {
            "gridcolor": "white",
            "linecolor": "white",
            "ticks": ""
           },
           "bgcolor": "#E5ECF6",
           "caxis": {
            "gridcolor": "white",
            "linecolor": "white",
            "ticks": ""
           }
          },
          "title": {
           "x": 0.05
          },
          "xaxis": {
           "automargin": true,
           "gridcolor": "white",
           "linecolor": "white",
           "ticks": "",
           "title": {
            "standoff": 15
           },
           "zerolinecolor": "white",
           "zerolinewidth": 2
          },
          "yaxis": {
           "automargin": true,
           "gridcolor": "white",
           "linecolor": "white",
           "ticks": "",
           "title": {
            "standoff": 15
           },
           "zerolinecolor": "white",
           "zerolinewidth": 2
          }
         }
        },
        "title": {
         "font": {
          "color": "white"
         },
         "text": "RandomForestClassifier Confusion Matrix"
        },
        "xaxis": {
         "anchor": "y",
         "color": "black",
         "constrain": "domain",
         "domain": [
          0,
          1
         ],
         "dtick": 20,
         "scaleanchor": "y",
         "showticklabels": true,
         "tickmode": "array",
         "ticktext": [
          "Survived",
          "Not Survived"
         ],
         "tickvals": [
          0,
          1
         ],
         "title": {
          "font": {
           "size": 18
          },
          "text": "Actual Values"
         }
        },
        "yaxis": {
         "anchor": "x",
         "autorange": "reversed",
         "color": "black",
         "constrain": "domain",
         "domain": [
          0,
          1
         ],
         "dtick": 20,
         "showticklabels": true,
         "tickmode": "array",
         "ticktext": [
          "Survived",
          "Not Survived"
         ],
         "tickvals": [
          0,
          1
         ],
         "title": {
          "font": {
           "size": 18
          },
          "text": "Predicted Values"
         }
        }
       }
      },
      "text/html": [
       "<div>                            <div id=\"0be1ef0d-11c1-43b7-a81a-198a7ae1070f\" class=\"plotly-graph-div\" style=\"height:525px; width:100%;\"></div>            <script type=\"text/javascript\">                require([\"plotly\"], function(Plotly) {                    window.PLOTLYENV=window.PLOTLYENV || {};                                    if (document.getElementById(\"0be1ef0d-11c1-43b7-a81a-198a7ae1070f\")) {                    Plotly.newPlot(                        \"0be1ef0d-11c1-43b7-a81a-198a7ae1070f\",                        [{\"coloraxis\":\"coloraxis\",\"name\":\"0\",\"texttemplate\":\"%{z}\",\"x\":[0,1],\"y\":[\"Survived\",\"Not Survived\"],\"z\":[[1.0,0.032],[0.0,0.968]],\"type\":\"heatmap\",\"xaxis\":\"x\",\"yaxis\":\"y\",\"hovertemplate\":\"Actual Values: %{x}\\u003cbr\\u003ePredicted Values: %{y}\\u003cbr\\u003emetric scale: %{z}\\u003cextra\\u003e\\u003c\\u002fextra\\u003e\"}],                        {\"template\":{\"data\":{\"histogram2dcontour\":[{\"type\":\"histogram2dcontour\",\"colorbar\":{\"outlinewidth\":0,\"ticks\":\"\"},\"colorscale\":[[0.0,\"#0d0887\"],[0.1111111111111111,\"#46039f\"],[0.2222222222222222,\"#7201a8\"],[0.3333333333333333,\"#9c179e\"],[0.4444444444444444,\"#bd3786\"],[0.5555555555555556,\"#d8576b\"],[0.6666666666666666,\"#ed7953\"],[0.7777777777777778,\"#fb9f3a\"],[0.8888888888888888,\"#fdca26\"],[1.0,\"#f0f921\"]]}],\"choropleth\":[{\"type\":\"choropleth\",\"colorbar\":{\"outlinewidth\":0,\"ticks\":\"\"}}],\"histogram2d\":[{\"type\":\"histogram2d\",\"colorbar\":{\"outlinewidth\":0,\"ticks\":\"\"},\"colorscale\":[[0.0,\"#0d0887\"],[0.1111111111111111,\"#46039f\"],[0.2222222222222222,\"#7201a8\"],[0.3333333333333333,\"#9c179e\"],[0.4444444444444444,\"#bd3786\"],[0.5555555555555556,\"#d8576b\"],[0.6666666666666666,\"#ed7953\"],[0.7777777777777778,\"#fb9f3a\"],[0.8888888888888888,\"#fdca26\"],[1.0,\"#f0f921\"]]}],\"heatmap\":[{\"type\":\"heatmap\",\"colorbar\":{\"outlinewidth\":0,\"ticks\":\"\"},\"colorscale\":[[0.0,\"#0d0887\"],[0.1111111111111111,\"#46039f\"],[0.2222222222222222,\"#7201a8\"],[0.3333333333333333,\"#9c179e\"],[0.4444444444444444,\"#bd3786\"],[0.5555555555555556,\"#d8576b\"],[0.6666666666666666,\"#ed7953\"],[0.7777777777777778,\"#fb9f3a\"],[0.8888888888888888,\"#fdca26\"],[1.0,\"#f0f921\"]]}],\"heatmapgl\":[{\"type\":\"heatmapgl\",\"colorbar\":{\"outlinewidth\":0,\"ticks\":\"\"},\"colorscale\":[[0.0,\"#0d0887\"],[0.1111111111111111,\"#46039f\"],[0.2222222222222222,\"#7201a8\"],[0.3333333333333333,\"#9c179e\"],[0.4444444444444444,\"#bd3786\"],[0.5555555555555556,\"#d8576b\"],[0.6666666666666666,\"#ed7953\"],[0.7777777777777778,\"#fb9f3a\"],[0.8888888888888888,\"#fdca26\"],[1.0,\"#f0f921\"]]}],\"contourcarpet\":[{\"type\":\"contourcarpet\",\"colorbar\":{\"outlinewidth\":0,\"ticks\":\"\"}}],\"contour\":[{\"type\":\"contour\",\"colorbar\":{\"outlinewidth\":0,\"ticks\":\"\"},\"colorscale\":[[0.0,\"#0d0887\"],[0.1111111111111111,\"#46039f\"],[0.2222222222222222,\"#7201a8\"],[0.3333333333333333,\"#9c179e\"],[0.4444444444444444,\"#bd3786\"],[0.5555555555555556,\"#d8576b\"],[0.6666666666666666,\"#ed7953\"],[0.7777777777777778,\"#fb9f3a\"],[0.8888888888888888,\"#fdca26\"],[1.0,\"#f0f921\"]]}],\"surface\":[{\"type\":\"surface\",\"colorbar\":{\"outlinewidth\":0,\"ticks\":\"\"},\"colorscale\":[[0.0,\"#0d0887\"],[0.1111111111111111,\"#46039f\"],[0.2222222222222222,\"#7201a8\"],[0.3333333333333333,\"#9c179e\"],[0.4444444444444444,\"#bd3786\"],[0.5555555555555556,\"#d8576b\"],[0.6666666666666666,\"#ed7953\"],[0.7777777777777778,\"#fb9f3a\"],[0.8888888888888888,\"#fdca26\"],[1.0,\"#f0f921\"]]}],\"mesh3d\":[{\"type\":\"mesh3d\",\"colorbar\":{\"outlinewidth\":0,\"ticks\":\"\"}}],\"scatter\":[{\"fillpattern\":{\"fillmode\":\"overlay\",\"size\":10,\"solidity\":0.2},\"type\":\"scatter\"}],\"parcoords\":[{\"type\":\"parcoords\",\"line\":{\"colorbar\":{\"outlinewidth\":0,\"ticks\":\"\"}}}],\"scatterpolargl\":[{\"type\":\"scatterpolargl\",\"marker\":{\"colorbar\":{\"outlinewidth\":0,\"ticks\":\"\"}}}],\"bar\":[{\"error_x\":{\"color\":\"#2a3f5f\"},\"error_y\":{\"color\":\"#2a3f5f\"},\"marker\":{\"line\":{\"color\":\"#E5ECF6\",\"width\":0.5},\"pattern\":{\"fillmode\":\"overlay\",\"size\":10,\"solidity\":0.2}},\"type\":\"bar\"}],\"scattergeo\":[{\"type\":\"scattergeo\",\"marker\":{\"colorbar\":{\"outlinewidth\":0,\"ticks\":\"\"}}}],\"scatterpolar\":[{\"type\":\"scatterpolar\",\"marker\":{\"colorbar\":{\"outlinewidth\":0,\"ticks\":\"\"}}}],\"histogram\":[{\"marker\":{\"pattern\":{\"fillmode\":\"overlay\",\"size\":10,\"solidity\":0.2}},\"type\":\"histogram\"}],\"scattergl\":[{\"type\":\"scattergl\",\"marker\":{\"colorbar\":{\"outlinewidth\":0,\"ticks\":\"\"}}}],\"scatter3d\":[{\"type\":\"scatter3d\",\"line\":{\"colorbar\":{\"outlinewidth\":0,\"ticks\":\"\"}},\"marker\":{\"colorbar\":{\"outlinewidth\":0,\"ticks\":\"\"}}}],\"scattermapbox\":[{\"type\":\"scattermapbox\",\"marker\":{\"colorbar\":{\"outlinewidth\":0,\"ticks\":\"\"}}}],\"scatterternary\":[{\"type\":\"scatterternary\",\"marker\":{\"colorbar\":{\"outlinewidth\":0,\"ticks\":\"\"}}}],\"scattercarpet\":[{\"type\":\"scattercarpet\",\"marker\":{\"colorbar\":{\"outlinewidth\":0,\"ticks\":\"\"}}}],\"carpet\":[{\"aaxis\":{\"endlinecolor\":\"#2a3f5f\",\"gridcolor\":\"white\",\"linecolor\":\"white\",\"minorgridcolor\":\"white\",\"startlinecolor\":\"#2a3f5f\"},\"baxis\":{\"endlinecolor\":\"#2a3f5f\",\"gridcolor\":\"white\",\"linecolor\":\"white\",\"minorgridcolor\":\"white\",\"startlinecolor\":\"#2a3f5f\"},\"type\":\"carpet\"}],\"table\":[{\"cells\":{\"fill\":{\"color\":\"#EBF0F8\"},\"line\":{\"color\":\"white\"}},\"header\":{\"fill\":{\"color\":\"#C8D4E3\"},\"line\":{\"color\":\"white\"}},\"type\":\"table\"}],\"barpolar\":[{\"marker\":{\"line\":{\"color\":\"#E5ECF6\",\"width\":0.5},\"pattern\":{\"fillmode\":\"overlay\",\"size\":10,\"solidity\":0.2}},\"type\":\"barpolar\"}],\"pie\":[{\"automargin\":true,\"type\":\"pie\"}]},\"layout\":{\"autotypenumbers\":\"strict\",\"colorway\":[\"#636efa\",\"#EF553B\",\"#00cc96\",\"#ab63fa\",\"#FFA15A\",\"#19d3f3\",\"#FF6692\",\"#B6E880\",\"#FF97FF\",\"#FECB52\"],\"font\":{\"color\":\"#2a3f5f\"},\"hovermode\":\"closest\",\"hoverlabel\":{\"align\":\"left\"},\"paper_bgcolor\":\"white\",\"plot_bgcolor\":\"#E5ECF6\",\"polar\":{\"bgcolor\":\"#E5ECF6\",\"angularaxis\":{\"gridcolor\":\"white\",\"linecolor\":\"white\",\"ticks\":\"\"},\"radialaxis\":{\"gridcolor\":\"white\",\"linecolor\":\"white\",\"ticks\":\"\"}},\"ternary\":{\"bgcolor\":\"#E5ECF6\",\"aaxis\":{\"gridcolor\":\"white\",\"linecolor\":\"white\",\"ticks\":\"\"},\"baxis\":{\"gridcolor\":\"white\",\"linecolor\":\"white\",\"ticks\":\"\"},\"caxis\":{\"gridcolor\":\"white\",\"linecolor\":\"white\",\"ticks\":\"\"}},\"coloraxis\":{\"colorbar\":{\"outlinewidth\":0,\"ticks\":\"\"}},\"colorscale\":{\"sequential\":[[0.0,\"#0d0887\"],[0.1111111111111111,\"#46039f\"],[0.2222222222222222,\"#7201a8\"],[0.3333333333333333,\"#9c179e\"],[0.4444444444444444,\"#bd3786\"],[0.5555555555555556,\"#d8576b\"],[0.6666666666666666,\"#ed7953\"],[0.7777777777777778,\"#fb9f3a\"],[0.8888888888888888,\"#fdca26\"],[1.0,\"#f0f921\"]],\"sequentialminus\":[[0.0,\"#0d0887\"],[0.1111111111111111,\"#46039f\"],[0.2222222222222222,\"#7201a8\"],[0.3333333333333333,\"#9c179e\"],[0.4444444444444444,\"#bd3786\"],[0.5555555555555556,\"#d8576b\"],[0.6666666666666666,\"#ed7953\"],[0.7777777777777778,\"#fb9f3a\"],[0.8888888888888888,\"#fdca26\"],[1.0,\"#f0f921\"]],\"diverging\":[[0,\"#8e0152\"],[0.1,\"#c51b7d\"],[0.2,\"#de77ae\"],[0.3,\"#f1b6da\"],[0.4,\"#fde0ef\"],[0.5,\"#f7f7f7\"],[0.6,\"#e6f5d0\"],[0.7,\"#b8e186\"],[0.8,\"#7fbc41\"],[0.9,\"#4d9221\"],[1,\"#276419\"]]},\"xaxis\":{\"gridcolor\":\"white\",\"linecolor\":\"white\",\"ticks\":\"\",\"title\":{\"standoff\":15},\"zerolinecolor\":\"white\",\"automargin\":true,\"zerolinewidth\":2},\"yaxis\":{\"gridcolor\":\"white\",\"linecolor\":\"white\",\"ticks\":\"\",\"title\":{\"standoff\":15},\"zerolinecolor\":\"white\",\"automargin\":true,\"zerolinewidth\":2},\"scene\":{\"xaxis\":{\"backgroundcolor\":\"#E5ECF6\",\"gridcolor\":\"white\",\"linecolor\":\"white\",\"showbackground\":true,\"ticks\":\"\",\"zerolinecolor\":\"white\",\"gridwidth\":2},\"yaxis\":{\"backgroundcolor\":\"#E5ECF6\",\"gridcolor\":\"white\",\"linecolor\":\"white\",\"showbackground\":true,\"ticks\":\"\",\"zerolinecolor\":\"white\",\"gridwidth\":2},\"zaxis\":{\"backgroundcolor\":\"#E5ECF6\",\"gridcolor\":\"white\",\"linecolor\":\"white\",\"showbackground\":true,\"ticks\":\"\",\"zerolinecolor\":\"white\",\"gridwidth\":2}},\"shapedefaults\":{\"line\":{\"color\":\"#2a3f5f\"}},\"annotationdefaults\":{\"arrowcolor\":\"#2a3f5f\",\"arrowhead\":0,\"arrowwidth\":1},\"geo\":{\"bgcolor\":\"white\",\"landcolor\":\"#E5ECF6\",\"subunitcolor\":\"white\",\"showland\":true,\"showlakes\":true,\"lakecolor\":\"white\"},\"title\":{\"x\":0.05},\"mapbox\":{\"style\":\"light\"}}},\"xaxis\":{\"anchor\":\"y\",\"domain\":[0.0,1.0],\"scaleanchor\":\"y\",\"constrain\":\"domain\",\"title\":{\"text\":\"Actual Values\",\"font\":{\"size\":18}},\"tickmode\":\"array\",\"dtick\":20,\"tickvals\":[0,1],\"ticktext\":[\"Survived\",\"Not Survived\"],\"showticklabels\":true,\"color\":\"black\"},\"yaxis\":{\"anchor\":\"x\",\"domain\":[0.0,1.0],\"autorange\":\"reversed\",\"constrain\":\"domain\",\"title\":{\"text\":\"Predicted Values\",\"font\":{\"size\":18}},\"tickmode\":\"array\",\"dtick\":20,\"tickvals\":[0,1],\"ticktext\":[\"Survived\",\"Not Survived\"],\"showticklabels\":true,\"color\":\"black\"},\"coloraxis\":{\"colorbar\":{\"title\":{\"text\":\"metric scale\"}},\"colorscale\":[[0.0,\"rgb(255,255,229)\"],[0.125,\"rgb(247,252,185)\"],[0.25,\"rgb(217,240,163)\"],[0.375,\"rgb(173,221,142)\"],[0.5,\"rgb(120,198,121)\"],[0.625,\"rgb(65,171,93)\"],[0.75,\"rgb(35,132,67)\"],[0.875,\"rgb(0,104,55)\"],[1.0,\"rgb(0,69,41)\"]]},\"margin\":{\"t\":60},\"autosize\":false,\"title\":{\"font\":{\"color\":\"white\"},\"text\":\"RandomForestClassifier Confusion Matrix\"}},                        {\"responsive\": true}                    ).then(function(){\n",
       "                            \n",
       "var gd = document.getElementById('0be1ef0d-11c1-43b7-a81a-198a7ae1070f');\n",
       "var x = new MutationObserver(function (mutations, observer) {{\n",
       "        var display = window.getComputedStyle(gd).display;\n",
       "        if (!display || display === 'none') {{\n",
       "            console.log([gd, 'removed!']);\n",
       "            Plotly.purge(gd);\n",
       "            observer.disconnect();\n",
       "        }}\n",
       "}});\n",
       "\n",
       "// Listen for the removal of the full notebook cells\n",
       "var notebookContainer = gd.closest('#notebook-container');\n",
       "if (notebookContainer) {{\n",
       "    x.observe(notebookContainer, {childList: true});\n",
       "}}\n",
       "\n",
       "// Listen for the clearing of the current output cell\n",
       "var outputEl = gd.closest('.output');\n",
       "if (outputEl) {{\n",
       "    x.observe(outputEl, {childList: true});\n",
       "}}\n",
       "\n",
       "                        })                };                });            </script>        </div>"
      ]
     },
     "metadata": {},
     "output_type": "display_data"
    }
   ],
   "source": [
    "# Random Forest\n",
    "y_pred = rf_best_estimator.predict(X_test) # Predict the target variable for the test data \n",
    "plotly_fig = cm_plot(rf_best_estimator, y_test, y_pred, classes=[\"Not Survived\", \"Survived\"], save_fig_path=\"model/RandomForest_CM.html\")\n",
    "plotly_fig"
   ]
  },
  {
   "cell_type": "code",
   "execution_count": 73,
   "id": "832640cc",
   "metadata": {},
   "outputs": [
    {
     "data": {
      "application/vnd.plotly.v1+json": {
       "config": {
        "plotlyServerURL": "https://plot.ly"
       },
       "data": [
        {
         "coloraxis": "coloraxis",
         "hovertemplate": "Actual Values: %{x}<br>Predicted Values: %{y}<br>metric scale: %{z}<extra></extra>",
         "name": "0",
         "texttemplate": "%{z}",
         "type": "heatmap",
         "x": [
          0,
          1
         ],
         "xaxis": "x",
         "y": [
          "Survived",
          "Not Survived"
         ],
         "yaxis": "y",
         "z": [
          [
           1,
           0.032
          ],
          [
           0,
           0.968
          ]
         ]
        }
       ],
       "layout": {
        "autosize": false,
        "coloraxis": {
         "colorbar": {
          "title": {
           "text": "metric scale"
          }
         },
         "colorscale": [
          [
           0,
           "rgb(255,255,229)"
          ],
          [
           0.125,
           "rgb(247,252,185)"
          ],
          [
           0.25,
           "rgb(217,240,163)"
          ],
          [
           0.375,
           "rgb(173,221,142)"
          ],
          [
           0.5,
           "rgb(120,198,121)"
          ],
          [
           0.625,
           "rgb(65,171,93)"
          ],
          [
           0.75,
           "rgb(35,132,67)"
          ],
          [
           0.875,
           "rgb(0,104,55)"
          ],
          [
           1,
           "rgb(0,69,41)"
          ]
         ]
        },
        "margin": {
         "t": 60
        },
        "template": {
         "data": {
          "bar": [
           {
            "error_x": {
             "color": "#2a3f5f"
            },
            "error_y": {
             "color": "#2a3f5f"
            },
            "marker": {
             "line": {
              "color": "#E5ECF6",
              "width": 0.5
             },
             "pattern": {
              "fillmode": "overlay",
              "size": 10,
              "solidity": 0.2
             }
            },
            "type": "bar"
           }
          ],
          "barpolar": [
           {
            "marker": {
             "line": {
              "color": "#E5ECF6",
              "width": 0.5
             },
             "pattern": {
              "fillmode": "overlay",
              "size": 10,
              "solidity": 0.2
             }
            },
            "type": "barpolar"
           }
          ],
          "carpet": [
           {
            "aaxis": {
             "endlinecolor": "#2a3f5f",
             "gridcolor": "white",
             "linecolor": "white",
             "minorgridcolor": "white",
             "startlinecolor": "#2a3f5f"
            },
            "baxis": {
             "endlinecolor": "#2a3f5f",
             "gridcolor": "white",
             "linecolor": "white",
             "minorgridcolor": "white",
             "startlinecolor": "#2a3f5f"
            },
            "type": "carpet"
           }
          ],
          "choropleth": [
           {
            "colorbar": {
             "outlinewidth": 0,
             "ticks": ""
            },
            "type": "choropleth"
           }
          ],
          "contour": [
           {
            "colorbar": {
             "outlinewidth": 0,
             "ticks": ""
            },
            "colorscale": [
             [
              0,
              "#0d0887"
             ],
             [
              0.1111111111111111,
              "#46039f"
             ],
             [
              0.2222222222222222,
              "#7201a8"
             ],
             [
              0.3333333333333333,
              "#9c179e"
             ],
             [
              0.4444444444444444,
              "#bd3786"
             ],
             [
              0.5555555555555556,
              "#d8576b"
             ],
             [
              0.6666666666666666,
              "#ed7953"
             ],
             [
              0.7777777777777778,
              "#fb9f3a"
             ],
             [
              0.8888888888888888,
              "#fdca26"
             ],
             [
              1,
              "#f0f921"
             ]
            ],
            "type": "contour"
           }
          ],
          "contourcarpet": [
           {
            "colorbar": {
             "outlinewidth": 0,
             "ticks": ""
            },
            "type": "contourcarpet"
           }
          ],
          "heatmap": [
           {
            "colorbar": {
             "outlinewidth": 0,
             "ticks": ""
            },
            "colorscale": [
             [
              0,
              "#0d0887"
             ],
             [
              0.1111111111111111,
              "#46039f"
             ],
             [
              0.2222222222222222,
              "#7201a8"
             ],
             [
              0.3333333333333333,
              "#9c179e"
             ],
             [
              0.4444444444444444,
              "#bd3786"
             ],
             [
              0.5555555555555556,
              "#d8576b"
             ],
             [
              0.6666666666666666,
              "#ed7953"
             ],
             [
              0.7777777777777778,
              "#fb9f3a"
             ],
             [
              0.8888888888888888,
              "#fdca26"
             ],
             [
              1,
              "#f0f921"
             ]
            ],
            "type": "heatmap"
           }
          ],
          "heatmapgl": [
           {
            "colorbar": {
             "outlinewidth": 0,
             "ticks": ""
            },
            "colorscale": [
             [
              0,
              "#0d0887"
             ],
             [
              0.1111111111111111,
              "#46039f"
             ],
             [
              0.2222222222222222,
              "#7201a8"
             ],
             [
              0.3333333333333333,
              "#9c179e"
             ],
             [
              0.4444444444444444,
              "#bd3786"
             ],
             [
              0.5555555555555556,
              "#d8576b"
             ],
             [
              0.6666666666666666,
              "#ed7953"
             ],
             [
              0.7777777777777778,
              "#fb9f3a"
             ],
             [
              0.8888888888888888,
              "#fdca26"
             ],
             [
              1,
              "#f0f921"
             ]
            ],
            "type": "heatmapgl"
           }
          ],
          "histogram": [
           {
            "marker": {
             "pattern": {
              "fillmode": "overlay",
              "size": 10,
              "solidity": 0.2
             }
            },
            "type": "histogram"
           }
          ],
          "histogram2d": [
           {
            "colorbar": {
             "outlinewidth": 0,
             "ticks": ""
            },
            "colorscale": [
             [
              0,
              "#0d0887"
             ],
             [
              0.1111111111111111,
              "#46039f"
             ],
             [
              0.2222222222222222,
              "#7201a8"
             ],
             [
              0.3333333333333333,
              "#9c179e"
             ],
             [
              0.4444444444444444,
              "#bd3786"
             ],
             [
              0.5555555555555556,
              "#d8576b"
             ],
             [
              0.6666666666666666,
              "#ed7953"
             ],
             [
              0.7777777777777778,
              "#fb9f3a"
             ],
             [
              0.8888888888888888,
              "#fdca26"
             ],
             [
              1,
              "#f0f921"
             ]
            ],
            "type": "histogram2d"
           }
          ],
          "histogram2dcontour": [
           {
            "colorbar": {
             "outlinewidth": 0,
             "ticks": ""
            },
            "colorscale": [
             [
              0,
              "#0d0887"
             ],
             [
              0.1111111111111111,
              "#46039f"
             ],
             [
              0.2222222222222222,
              "#7201a8"
             ],
             [
              0.3333333333333333,
              "#9c179e"
             ],
             [
              0.4444444444444444,
              "#bd3786"
             ],
             [
              0.5555555555555556,
              "#d8576b"
             ],
             [
              0.6666666666666666,
              "#ed7953"
             ],
             [
              0.7777777777777778,
              "#fb9f3a"
             ],
             [
              0.8888888888888888,
              "#fdca26"
             ],
             [
              1,
              "#f0f921"
             ]
            ],
            "type": "histogram2dcontour"
           }
          ],
          "mesh3d": [
           {
            "colorbar": {
             "outlinewidth": 0,
             "ticks": ""
            },
            "type": "mesh3d"
           }
          ],
          "parcoords": [
           {
            "line": {
             "colorbar": {
              "outlinewidth": 0,
              "ticks": ""
             }
            },
            "type": "parcoords"
           }
          ],
          "pie": [
           {
            "automargin": true,
            "type": "pie"
           }
          ],
          "scatter": [
           {
            "fillpattern": {
             "fillmode": "overlay",
             "size": 10,
             "solidity": 0.2
            },
            "type": "scatter"
           }
          ],
          "scatter3d": [
           {
            "line": {
             "colorbar": {
              "outlinewidth": 0,
              "ticks": ""
             }
            },
            "marker": {
             "colorbar": {
              "outlinewidth": 0,
              "ticks": ""
             }
            },
            "type": "scatter3d"
           }
          ],
          "scattercarpet": [
           {
            "marker": {
             "colorbar": {
              "outlinewidth": 0,
              "ticks": ""
             }
            },
            "type": "scattercarpet"
           }
          ],
          "scattergeo": [
           {
            "marker": {
             "colorbar": {
              "outlinewidth": 0,
              "ticks": ""
             }
            },
            "type": "scattergeo"
           }
          ],
          "scattergl": [
           {
            "marker": {
             "colorbar": {
              "outlinewidth": 0,
              "ticks": ""
             }
            },
            "type": "scattergl"
           }
          ],
          "scattermapbox": [
           {
            "marker": {
             "colorbar": {
              "outlinewidth": 0,
              "ticks": ""
             }
            },
            "type": "scattermapbox"
           }
          ],
          "scatterpolar": [
           {
            "marker": {
             "colorbar": {
              "outlinewidth": 0,
              "ticks": ""
             }
            },
            "type": "scatterpolar"
           }
          ],
          "scatterpolargl": [
           {
            "marker": {
             "colorbar": {
              "outlinewidth": 0,
              "ticks": ""
             }
            },
            "type": "scatterpolargl"
           }
          ],
          "scatterternary": [
           {
            "marker": {
             "colorbar": {
              "outlinewidth": 0,
              "ticks": ""
             }
            },
            "type": "scatterternary"
           }
          ],
          "surface": [
           {
            "colorbar": {
             "outlinewidth": 0,
             "ticks": ""
            },
            "colorscale": [
             [
              0,
              "#0d0887"
             ],
             [
              0.1111111111111111,
              "#46039f"
             ],
             [
              0.2222222222222222,
              "#7201a8"
             ],
             [
              0.3333333333333333,
              "#9c179e"
             ],
             [
              0.4444444444444444,
              "#bd3786"
             ],
             [
              0.5555555555555556,
              "#d8576b"
             ],
             [
              0.6666666666666666,
              "#ed7953"
             ],
             [
              0.7777777777777778,
              "#fb9f3a"
             ],
             [
              0.8888888888888888,
              "#fdca26"
             ],
             [
              1,
              "#f0f921"
             ]
            ],
            "type": "surface"
           }
          ],
          "table": [
           {
            "cells": {
             "fill": {
              "color": "#EBF0F8"
             },
             "line": {
              "color": "white"
             }
            },
            "header": {
             "fill": {
              "color": "#C8D4E3"
             },
             "line": {
              "color": "white"
             }
            },
            "type": "table"
           }
          ]
         },
         "layout": {
          "annotationdefaults": {
           "arrowcolor": "#2a3f5f",
           "arrowhead": 0,
           "arrowwidth": 1
          },
          "autotypenumbers": "strict",
          "coloraxis": {
           "colorbar": {
            "outlinewidth": 0,
            "ticks": ""
           }
          },
          "colorscale": {
           "diverging": [
            [
             0,
             "#8e0152"
            ],
            [
             0.1,
             "#c51b7d"
            ],
            [
             0.2,
             "#de77ae"
            ],
            [
             0.3,
             "#f1b6da"
            ],
            [
             0.4,
             "#fde0ef"
            ],
            [
             0.5,
             "#f7f7f7"
            ],
            [
             0.6,
             "#e6f5d0"
            ],
            [
             0.7,
             "#b8e186"
            ],
            [
             0.8,
             "#7fbc41"
            ],
            [
             0.9,
             "#4d9221"
            ],
            [
             1,
             "#276419"
            ]
           ],
           "sequential": [
            [
             0,
             "#0d0887"
            ],
            [
             0.1111111111111111,
             "#46039f"
            ],
            [
             0.2222222222222222,
             "#7201a8"
            ],
            [
             0.3333333333333333,
             "#9c179e"
            ],
            [
             0.4444444444444444,
             "#bd3786"
            ],
            [
             0.5555555555555556,
             "#d8576b"
            ],
            [
             0.6666666666666666,
             "#ed7953"
            ],
            [
             0.7777777777777778,
             "#fb9f3a"
            ],
            [
             0.8888888888888888,
             "#fdca26"
            ],
            [
             1,
             "#f0f921"
            ]
           ],
           "sequentialminus": [
            [
             0,
             "#0d0887"
            ],
            [
             0.1111111111111111,
             "#46039f"
            ],
            [
             0.2222222222222222,
             "#7201a8"
            ],
            [
             0.3333333333333333,
             "#9c179e"
            ],
            [
             0.4444444444444444,
             "#bd3786"
            ],
            [
             0.5555555555555556,
             "#d8576b"
            ],
            [
             0.6666666666666666,
             "#ed7953"
            ],
            [
             0.7777777777777778,
             "#fb9f3a"
            ],
            [
             0.8888888888888888,
             "#fdca26"
            ],
            [
             1,
             "#f0f921"
            ]
           ]
          },
          "colorway": [
           "#636efa",
           "#EF553B",
           "#00cc96",
           "#ab63fa",
           "#FFA15A",
           "#19d3f3",
           "#FF6692",
           "#B6E880",
           "#FF97FF",
           "#FECB52"
          ],
          "font": {
           "color": "#2a3f5f"
          },
          "geo": {
           "bgcolor": "white",
           "lakecolor": "white",
           "landcolor": "#E5ECF6",
           "showlakes": true,
           "showland": true,
           "subunitcolor": "white"
          },
          "hoverlabel": {
           "align": "left"
          },
          "hovermode": "closest",
          "mapbox": {
           "style": "light"
          },
          "paper_bgcolor": "white",
          "plot_bgcolor": "#E5ECF6",
          "polar": {
           "angularaxis": {
            "gridcolor": "white",
            "linecolor": "white",
            "ticks": ""
           },
           "bgcolor": "#E5ECF6",
           "radialaxis": {
            "gridcolor": "white",
            "linecolor": "white",
            "ticks": ""
           }
          },
          "scene": {
           "xaxis": {
            "backgroundcolor": "#E5ECF6",
            "gridcolor": "white",
            "gridwidth": 2,
            "linecolor": "white",
            "showbackground": true,
            "ticks": "",
            "zerolinecolor": "white"
           },
           "yaxis": {
            "backgroundcolor": "#E5ECF6",
            "gridcolor": "white",
            "gridwidth": 2,
            "linecolor": "white",
            "showbackground": true,
            "ticks": "",
            "zerolinecolor": "white"
           },
           "zaxis": {
            "backgroundcolor": "#E5ECF6",
            "gridcolor": "white",
            "gridwidth": 2,
            "linecolor": "white",
            "showbackground": true,
            "ticks": "",
            "zerolinecolor": "white"
           }
          },
          "shapedefaults": {
           "line": {
            "color": "#2a3f5f"
           }
          },
          "ternary": {
           "aaxis": {
            "gridcolor": "white",
            "linecolor": "white",
            "ticks": ""
           },
           "baxis": {
            "gridcolor": "white",
            "linecolor": "white",
            "ticks": ""
           },
           "bgcolor": "#E5ECF6",
           "caxis": {
            "gridcolor": "white",
            "linecolor": "white",
            "ticks": ""
           }
          },
          "title": {
           "x": 0.05
          },
          "xaxis": {
           "automargin": true,
           "gridcolor": "white",
           "linecolor": "white",
           "ticks": "",
           "title": {
            "standoff": 15
           },
           "zerolinecolor": "white",
           "zerolinewidth": 2
          },
          "yaxis": {
           "automargin": true,
           "gridcolor": "white",
           "linecolor": "white",
           "ticks": "",
           "title": {
            "standoff": 15
           },
           "zerolinecolor": "white",
           "zerolinewidth": 2
          }
         }
        },
        "title": {
         "font": {
          "color": "white"
         },
         "text": "XGBClassifier Confusion Matrix"
        },
        "xaxis": {
         "anchor": "y",
         "color": "black",
         "constrain": "domain",
         "domain": [
          0,
          1
         ],
         "dtick": 20,
         "scaleanchor": "y",
         "showticklabels": true,
         "tickmode": "array",
         "ticktext": [
          "Survived",
          "Not Survived"
         ],
         "tickvals": [
          0,
          1
         ],
         "title": {
          "font": {
           "size": 18
          },
          "text": "Actual Values"
         }
        },
        "yaxis": {
         "anchor": "x",
         "autorange": "reversed",
         "color": "black",
         "constrain": "domain",
         "domain": [
          0,
          1
         ],
         "dtick": 20,
         "showticklabels": true,
         "tickmode": "array",
         "ticktext": [
          "Survived",
          "Not Survived"
         ],
         "tickvals": [
          0,
          1
         ],
         "title": {
          "font": {
           "size": 18
          },
          "text": "Predicted Values"
         }
        }
       }
      },
      "text/html": [
       "<div>                            <div id=\"c07aeff6-b499-40ac-a6ea-a101a40f96c7\" class=\"plotly-graph-div\" style=\"height:525px; width:100%;\"></div>            <script type=\"text/javascript\">                require([\"plotly\"], function(Plotly) {                    window.PLOTLYENV=window.PLOTLYENV || {};                                    if (document.getElementById(\"c07aeff6-b499-40ac-a6ea-a101a40f96c7\")) {                    Plotly.newPlot(                        \"c07aeff6-b499-40ac-a6ea-a101a40f96c7\",                        [{\"coloraxis\":\"coloraxis\",\"name\":\"0\",\"texttemplate\":\"%{z}\",\"x\":[0,1],\"y\":[\"Survived\",\"Not Survived\"],\"z\":[[1.0,0.032],[0.0,0.968]],\"type\":\"heatmap\",\"xaxis\":\"x\",\"yaxis\":\"y\",\"hovertemplate\":\"Actual Values: %{x}\\u003cbr\\u003ePredicted Values: %{y}\\u003cbr\\u003emetric scale: %{z}\\u003cextra\\u003e\\u003c\\u002fextra\\u003e\"}],                        {\"template\":{\"data\":{\"histogram2dcontour\":[{\"type\":\"histogram2dcontour\",\"colorbar\":{\"outlinewidth\":0,\"ticks\":\"\"},\"colorscale\":[[0.0,\"#0d0887\"],[0.1111111111111111,\"#46039f\"],[0.2222222222222222,\"#7201a8\"],[0.3333333333333333,\"#9c179e\"],[0.4444444444444444,\"#bd3786\"],[0.5555555555555556,\"#d8576b\"],[0.6666666666666666,\"#ed7953\"],[0.7777777777777778,\"#fb9f3a\"],[0.8888888888888888,\"#fdca26\"],[1.0,\"#f0f921\"]]}],\"choropleth\":[{\"type\":\"choropleth\",\"colorbar\":{\"outlinewidth\":0,\"ticks\":\"\"}}],\"histogram2d\":[{\"type\":\"histogram2d\",\"colorbar\":{\"outlinewidth\":0,\"ticks\":\"\"},\"colorscale\":[[0.0,\"#0d0887\"],[0.1111111111111111,\"#46039f\"],[0.2222222222222222,\"#7201a8\"],[0.3333333333333333,\"#9c179e\"],[0.4444444444444444,\"#bd3786\"],[0.5555555555555556,\"#d8576b\"],[0.6666666666666666,\"#ed7953\"],[0.7777777777777778,\"#fb9f3a\"],[0.8888888888888888,\"#fdca26\"],[1.0,\"#f0f921\"]]}],\"heatmap\":[{\"type\":\"heatmap\",\"colorbar\":{\"outlinewidth\":0,\"ticks\":\"\"},\"colorscale\":[[0.0,\"#0d0887\"],[0.1111111111111111,\"#46039f\"],[0.2222222222222222,\"#7201a8\"],[0.3333333333333333,\"#9c179e\"],[0.4444444444444444,\"#bd3786\"],[0.5555555555555556,\"#d8576b\"],[0.6666666666666666,\"#ed7953\"],[0.7777777777777778,\"#fb9f3a\"],[0.8888888888888888,\"#fdca26\"],[1.0,\"#f0f921\"]]}],\"heatmapgl\":[{\"type\":\"heatmapgl\",\"colorbar\":{\"outlinewidth\":0,\"ticks\":\"\"},\"colorscale\":[[0.0,\"#0d0887\"],[0.1111111111111111,\"#46039f\"],[0.2222222222222222,\"#7201a8\"],[0.3333333333333333,\"#9c179e\"],[0.4444444444444444,\"#bd3786\"],[0.5555555555555556,\"#d8576b\"],[0.6666666666666666,\"#ed7953\"],[0.7777777777777778,\"#fb9f3a\"],[0.8888888888888888,\"#fdca26\"],[1.0,\"#f0f921\"]]}],\"contourcarpet\":[{\"type\":\"contourcarpet\",\"colorbar\":{\"outlinewidth\":0,\"ticks\":\"\"}}],\"contour\":[{\"type\":\"contour\",\"colorbar\":{\"outlinewidth\":0,\"ticks\":\"\"},\"colorscale\":[[0.0,\"#0d0887\"],[0.1111111111111111,\"#46039f\"],[0.2222222222222222,\"#7201a8\"],[0.3333333333333333,\"#9c179e\"],[0.4444444444444444,\"#bd3786\"],[0.5555555555555556,\"#d8576b\"],[0.6666666666666666,\"#ed7953\"],[0.7777777777777778,\"#fb9f3a\"],[0.8888888888888888,\"#fdca26\"],[1.0,\"#f0f921\"]]}],\"surface\":[{\"type\":\"surface\",\"colorbar\":{\"outlinewidth\":0,\"ticks\":\"\"},\"colorscale\":[[0.0,\"#0d0887\"],[0.1111111111111111,\"#46039f\"],[0.2222222222222222,\"#7201a8\"],[0.3333333333333333,\"#9c179e\"],[0.4444444444444444,\"#bd3786\"],[0.5555555555555556,\"#d8576b\"],[0.6666666666666666,\"#ed7953\"],[0.7777777777777778,\"#fb9f3a\"],[0.8888888888888888,\"#fdca26\"],[1.0,\"#f0f921\"]]}],\"mesh3d\":[{\"type\":\"mesh3d\",\"colorbar\":{\"outlinewidth\":0,\"ticks\":\"\"}}],\"scatter\":[{\"fillpattern\":{\"fillmode\":\"overlay\",\"size\":10,\"solidity\":0.2},\"type\":\"scatter\"}],\"parcoords\":[{\"type\":\"parcoords\",\"line\":{\"colorbar\":{\"outlinewidth\":0,\"ticks\":\"\"}}}],\"scatterpolargl\":[{\"type\":\"scatterpolargl\",\"marker\":{\"colorbar\":{\"outlinewidth\":0,\"ticks\":\"\"}}}],\"bar\":[{\"error_x\":{\"color\":\"#2a3f5f\"},\"error_y\":{\"color\":\"#2a3f5f\"},\"marker\":{\"line\":{\"color\":\"#E5ECF6\",\"width\":0.5},\"pattern\":{\"fillmode\":\"overlay\",\"size\":10,\"solidity\":0.2}},\"type\":\"bar\"}],\"scattergeo\":[{\"type\":\"scattergeo\",\"marker\":{\"colorbar\":{\"outlinewidth\":0,\"ticks\":\"\"}}}],\"scatterpolar\":[{\"type\":\"scatterpolar\",\"marker\":{\"colorbar\":{\"outlinewidth\":0,\"ticks\":\"\"}}}],\"histogram\":[{\"marker\":{\"pattern\":{\"fillmode\":\"overlay\",\"size\":10,\"solidity\":0.2}},\"type\":\"histogram\"}],\"scattergl\":[{\"type\":\"scattergl\",\"marker\":{\"colorbar\":{\"outlinewidth\":0,\"ticks\":\"\"}}}],\"scatter3d\":[{\"type\":\"scatter3d\",\"line\":{\"colorbar\":{\"outlinewidth\":0,\"ticks\":\"\"}},\"marker\":{\"colorbar\":{\"outlinewidth\":0,\"ticks\":\"\"}}}],\"scattermapbox\":[{\"type\":\"scattermapbox\",\"marker\":{\"colorbar\":{\"outlinewidth\":0,\"ticks\":\"\"}}}],\"scatterternary\":[{\"type\":\"scatterternary\",\"marker\":{\"colorbar\":{\"outlinewidth\":0,\"ticks\":\"\"}}}],\"scattercarpet\":[{\"type\":\"scattercarpet\",\"marker\":{\"colorbar\":{\"outlinewidth\":0,\"ticks\":\"\"}}}],\"carpet\":[{\"aaxis\":{\"endlinecolor\":\"#2a3f5f\",\"gridcolor\":\"white\",\"linecolor\":\"white\",\"minorgridcolor\":\"white\",\"startlinecolor\":\"#2a3f5f\"},\"baxis\":{\"endlinecolor\":\"#2a3f5f\",\"gridcolor\":\"white\",\"linecolor\":\"white\",\"minorgridcolor\":\"white\",\"startlinecolor\":\"#2a3f5f\"},\"type\":\"carpet\"}],\"table\":[{\"cells\":{\"fill\":{\"color\":\"#EBF0F8\"},\"line\":{\"color\":\"white\"}},\"header\":{\"fill\":{\"color\":\"#C8D4E3\"},\"line\":{\"color\":\"white\"}},\"type\":\"table\"}],\"barpolar\":[{\"marker\":{\"line\":{\"color\":\"#E5ECF6\",\"width\":0.5},\"pattern\":{\"fillmode\":\"overlay\",\"size\":10,\"solidity\":0.2}},\"type\":\"barpolar\"}],\"pie\":[{\"automargin\":true,\"type\":\"pie\"}]},\"layout\":{\"autotypenumbers\":\"strict\",\"colorway\":[\"#636efa\",\"#EF553B\",\"#00cc96\",\"#ab63fa\",\"#FFA15A\",\"#19d3f3\",\"#FF6692\",\"#B6E880\",\"#FF97FF\",\"#FECB52\"],\"font\":{\"color\":\"#2a3f5f\"},\"hovermode\":\"closest\",\"hoverlabel\":{\"align\":\"left\"},\"paper_bgcolor\":\"white\",\"plot_bgcolor\":\"#E5ECF6\",\"polar\":{\"bgcolor\":\"#E5ECF6\",\"angularaxis\":{\"gridcolor\":\"white\",\"linecolor\":\"white\",\"ticks\":\"\"},\"radialaxis\":{\"gridcolor\":\"white\",\"linecolor\":\"white\",\"ticks\":\"\"}},\"ternary\":{\"bgcolor\":\"#E5ECF6\",\"aaxis\":{\"gridcolor\":\"white\",\"linecolor\":\"white\",\"ticks\":\"\"},\"baxis\":{\"gridcolor\":\"white\",\"linecolor\":\"white\",\"ticks\":\"\"},\"caxis\":{\"gridcolor\":\"white\",\"linecolor\":\"white\",\"ticks\":\"\"}},\"coloraxis\":{\"colorbar\":{\"outlinewidth\":0,\"ticks\":\"\"}},\"colorscale\":{\"sequential\":[[0.0,\"#0d0887\"],[0.1111111111111111,\"#46039f\"],[0.2222222222222222,\"#7201a8\"],[0.3333333333333333,\"#9c179e\"],[0.4444444444444444,\"#bd3786\"],[0.5555555555555556,\"#d8576b\"],[0.6666666666666666,\"#ed7953\"],[0.7777777777777778,\"#fb9f3a\"],[0.8888888888888888,\"#fdca26\"],[1.0,\"#f0f921\"]],\"sequentialminus\":[[0.0,\"#0d0887\"],[0.1111111111111111,\"#46039f\"],[0.2222222222222222,\"#7201a8\"],[0.3333333333333333,\"#9c179e\"],[0.4444444444444444,\"#bd3786\"],[0.5555555555555556,\"#d8576b\"],[0.6666666666666666,\"#ed7953\"],[0.7777777777777778,\"#fb9f3a\"],[0.8888888888888888,\"#fdca26\"],[1.0,\"#f0f921\"]],\"diverging\":[[0,\"#8e0152\"],[0.1,\"#c51b7d\"],[0.2,\"#de77ae\"],[0.3,\"#f1b6da\"],[0.4,\"#fde0ef\"],[0.5,\"#f7f7f7\"],[0.6,\"#e6f5d0\"],[0.7,\"#b8e186\"],[0.8,\"#7fbc41\"],[0.9,\"#4d9221\"],[1,\"#276419\"]]},\"xaxis\":{\"gridcolor\":\"white\",\"linecolor\":\"white\",\"ticks\":\"\",\"title\":{\"standoff\":15},\"zerolinecolor\":\"white\",\"automargin\":true,\"zerolinewidth\":2},\"yaxis\":{\"gridcolor\":\"white\",\"linecolor\":\"white\",\"ticks\":\"\",\"title\":{\"standoff\":15},\"zerolinecolor\":\"white\",\"automargin\":true,\"zerolinewidth\":2},\"scene\":{\"xaxis\":{\"backgroundcolor\":\"#E5ECF6\",\"gridcolor\":\"white\",\"linecolor\":\"white\",\"showbackground\":true,\"ticks\":\"\",\"zerolinecolor\":\"white\",\"gridwidth\":2},\"yaxis\":{\"backgroundcolor\":\"#E5ECF6\",\"gridcolor\":\"white\",\"linecolor\":\"white\",\"showbackground\":true,\"ticks\":\"\",\"zerolinecolor\":\"white\",\"gridwidth\":2},\"zaxis\":{\"backgroundcolor\":\"#E5ECF6\",\"gridcolor\":\"white\",\"linecolor\":\"white\",\"showbackground\":true,\"ticks\":\"\",\"zerolinecolor\":\"white\",\"gridwidth\":2}},\"shapedefaults\":{\"line\":{\"color\":\"#2a3f5f\"}},\"annotationdefaults\":{\"arrowcolor\":\"#2a3f5f\",\"arrowhead\":0,\"arrowwidth\":1},\"geo\":{\"bgcolor\":\"white\",\"landcolor\":\"#E5ECF6\",\"subunitcolor\":\"white\",\"showland\":true,\"showlakes\":true,\"lakecolor\":\"white\"},\"title\":{\"x\":0.05},\"mapbox\":{\"style\":\"light\"}}},\"xaxis\":{\"anchor\":\"y\",\"domain\":[0.0,1.0],\"scaleanchor\":\"y\",\"constrain\":\"domain\",\"title\":{\"text\":\"Actual Values\",\"font\":{\"size\":18}},\"tickmode\":\"array\",\"dtick\":20,\"tickvals\":[0,1],\"ticktext\":[\"Survived\",\"Not Survived\"],\"showticklabels\":true,\"color\":\"black\"},\"yaxis\":{\"anchor\":\"x\",\"domain\":[0.0,1.0],\"autorange\":\"reversed\",\"constrain\":\"domain\",\"title\":{\"text\":\"Predicted Values\",\"font\":{\"size\":18}},\"tickmode\":\"array\",\"dtick\":20,\"tickvals\":[0,1],\"ticktext\":[\"Survived\",\"Not Survived\"],\"showticklabels\":true,\"color\":\"black\"},\"coloraxis\":{\"colorbar\":{\"title\":{\"text\":\"metric scale\"}},\"colorscale\":[[0.0,\"rgb(255,255,229)\"],[0.125,\"rgb(247,252,185)\"],[0.25,\"rgb(217,240,163)\"],[0.375,\"rgb(173,221,142)\"],[0.5,\"rgb(120,198,121)\"],[0.625,\"rgb(65,171,93)\"],[0.75,\"rgb(35,132,67)\"],[0.875,\"rgb(0,104,55)\"],[1.0,\"rgb(0,69,41)\"]]},\"margin\":{\"t\":60},\"autosize\":false,\"title\":{\"font\":{\"color\":\"white\"},\"text\":\"XGBClassifier Confusion Matrix\"}},                        {\"responsive\": true}                    ).then(function(){\n",
       "                            \n",
       "var gd = document.getElementById('c07aeff6-b499-40ac-a6ea-a101a40f96c7');\n",
       "var x = new MutationObserver(function (mutations, observer) {{\n",
       "        var display = window.getComputedStyle(gd).display;\n",
       "        if (!display || display === 'none') {{\n",
       "            console.log([gd, 'removed!']);\n",
       "            Plotly.purge(gd);\n",
       "            observer.disconnect();\n",
       "        }}\n",
       "}});\n",
       "\n",
       "// Listen for the removal of the full notebook cells\n",
       "var notebookContainer = gd.closest('#notebook-container');\n",
       "if (notebookContainer) {{\n",
       "    x.observe(notebookContainer, {childList: true});\n",
       "}}\n",
       "\n",
       "// Listen for the clearing of the current output cell\n",
       "var outputEl = gd.closest('.output');\n",
       "if (outputEl) {{\n",
       "    x.observe(outputEl, {childList: true});\n",
       "}}\n",
       "\n",
       "                        })                };                });            </script>        </div>"
      ]
     },
     "metadata": {},
     "output_type": "display_data"
    }
   ],
   "source": [
    "# XGBoost\n",
    "y_pred = xgboost_best_estimator.predict(X_test) # Predict the target variable for the test data \n",
    "plotly_fig = cm_plot(xgboost_best_estimator, y_test, y_pred, classes=[\"Not Survived\", \"Survived\"], save_fig_path=\"model/XGBoost_CM.html\")\n",
    "plotly_fig"
   ]
  },
  {
   "cell_type": "markdown",
   "id": "643e361d",
   "metadata": {},
   "source": [
    "# Read the Plotly Figure from a StandAlone HTML file"
   ]
  },
  {
   "cell_type": "code",
   "execution_count": 74,
   "id": "c0d60826",
   "metadata": {},
   "outputs": [],
   "source": [
    "import plotly\n",
    "def read_from_json(json_file):\n",
    "    return plotly.io.read_json(json_file)"
   ]
  },
  {
   "cell_type": "code",
   "execution_count": 75,
   "id": "fbe0e1e7",
   "metadata": {},
   "outputs": [
    {
     "data": {
      "application/vnd.plotly.v1+json": {
       "config": {
        "plotlyServerURL": "https://plot.ly"
       },
       "data": [
        {
         "coloraxis": "coloraxis",
         "hovertemplate": "Actual Values: %{x}<br>Predicted Values: %{y}<br>metric scale: %{z}<extra></extra>",
         "name": "0",
         "texttemplate": "%{z}",
         "type": "heatmap",
         "x": [
          0,
          1
         ],
         "xaxis": "x",
         "y": [
          "Survived",
          "Not Survived"
         ],
         "yaxis": "y",
         "z": [
          [
           1,
           0.032
          ],
          [
           0,
           0.968
          ]
         ]
        }
       ],
       "layout": {
        "autosize": false,
        "coloraxis": {
         "colorbar": {
          "title": {
           "text": "metric scale"
          }
         },
         "colorscale": [
          [
           0,
           "rgb(255,255,229)"
          ],
          [
           0.125,
           "rgb(247,252,185)"
          ],
          [
           0.25,
           "rgb(217,240,163)"
          ],
          [
           0.375,
           "rgb(173,221,142)"
          ],
          [
           0.5,
           "rgb(120,198,121)"
          ],
          [
           0.625,
           "rgb(65,171,93)"
          ],
          [
           0.75,
           "rgb(35,132,67)"
          ],
          [
           0.875,
           "rgb(0,104,55)"
          ],
          [
           1,
           "rgb(0,69,41)"
          ]
         ]
        },
        "margin": {
         "t": 60
        },
        "template": {
         "data": {
          "bar": [
           {
            "error_x": {
             "color": "#2a3f5f"
            },
            "error_y": {
             "color": "#2a3f5f"
            },
            "marker": {
             "line": {
              "color": "#E5ECF6",
              "width": 0.5
             },
             "pattern": {
              "fillmode": "overlay",
              "size": 10,
              "solidity": 0.2
             }
            },
            "type": "bar"
           }
          ],
          "barpolar": [
           {
            "marker": {
             "line": {
              "color": "#E5ECF6",
              "width": 0.5
             },
             "pattern": {
              "fillmode": "overlay",
              "size": 10,
              "solidity": 0.2
             }
            },
            "type": "barpolar"
           }
          ],
          "carpet": [
           {
            "aaxis": {
             "endlinecolor": "#2a3f5f",
             "gridcolor": "white",
             "linecolor": "white",
             "minorgridcolor": "white",
             "startlinecolor": "#2a3f5f"
            },
            "baxis": {
             "endlinecolor": "#2a3f5f",
             "gridcolor": "white",
             "linecolor": "white",
             "minorgridcolor": "white",
             "startlinecolor": "#2a3f5f"
            },
            "type": "carpet"
           }
          ],
          "choropleth": [
           {
            "colorbar": {
             "outlinewidth": 0,
             "ticks": ""
            },
            "type": "choropleth"
           }
          ],
          "contour": [
           {
            "colorbar": {
             "outlinewidth": 0,
             "ticks": ""
            },
            "colorscale": [
             [
              0,
              "#0d0887"
             ],
             [
              0.1111111111111111,
              "#46039f"
             ],
             [
              0.2222222222222222,
              "#7201a8"
             ],
             [
              0.3333333333333333,
              "#9c179e"
             ],
             [
              0.4444444444444444,
              "#bd3786"
             ],
             [
              0.5555555555555556,
              "#d8576b"
             ],
             [
              0.6666666666666666,
              "#ed7953"
             ],
             [
              0.7777777777777778,
              "#fb9f3a"
             ],
             [
              0.8888888888888888,
              "#fdca26"
             ],
             [
              1,
              "#f0f921"
             ]
            ],
            "type": "contour"
           }
          ],
          "contourcarpet": [
           {
            "colorbar": {
             "outlinewidth": 0,
             "ticks": ""
            },
            "type": "contourcarpet"
           }
          ],
          "heatmap": [
           {
            "colorbar": {
             "outlinewidth": 0,
             "ticks": ""
            },
            "colorscale": [
             [
              0,
              "#0d0887"
             ],
             [
              0.1111111111111111,
              "#46039f"
             ],
             [
              0.2222222222222222,
              "#7201a8"
             ],
             [
              0.3333333333333333,
              "#9c179e"
             ],
             [
              0.4444444444444444,
              "#bd3786"
             ],
             [
              0.5555555555555556,
              "#d8576b"
             ],
             [
              0.6666666666666666,
              "#ed7953"
             ],
             [
              0.7777777777777778,
              "#fb9f3a"
             ],
             [
              0.8888888888888888,
              "#fdca26"
             ],
             [
              1,
              "#f0f921"
             ]
            ],
            "type": "heatmap"
           }
          ],
          "heatmapgl": [
           {
            "colorbar": {
             "outlinewidth": 0,
             "ticks": ""
            },
            "colorscale": [
             [
              0,
              "#0d0887"
             ],
             [
              0.1111111111111111,
              "#46039f"
             ],
             [
              0.2222222222222222,
              "#7201a8"
             ],
             [
              0.3333333333333333,
              "#9c179e"
             ],
             [
              0.4444444444444444,
              "#bd3786"
             ],
             [
              0.5555555555555556,
              "#d8576b"
             ],
             [
              0.6666666666666666,
              "#ed7953"
             ],
             [
              0.7777777777777778,
              "#fb9f3a"
             ],
             [
              0.8888888888888888,
              "#fdca26"
             ],
             [
              1,
              "#f0f921"
             ]
            ],
            "type": "heatmapgl"
           }
          ],
          "histogram": [
           {
            "marker": {
             "pattern": {
              "fillmode": "overlay",
              "size": 10,
              "solidity": 0.2
             }
            },
            "type": "histogram"
           }
          ],
          "histogram2d": [
           {
            "colorbar": {
             "outlinewidth": 0,
             "ticks": ""
            },
            "colorscale": [
             [
              0,
              "#0d0887"
             ],
             [
              0.1111111111111111,
              "#46039f"
             ],
             [
              0.2222222222222222,
              "#7201a8"
             ],
             [
              0.3333333333333333,
              "#9c179e"
             ],
             [
              0.4444444444444444,
              "#bd3786"
             ],
             [
              0.5555555555555556,
              "#d8576b"
             ],
             [
              0.6666666666666666,
              "#ed7953"
             ],
             [
              0.7777777777777778,
              "#fb9f3a"
             ],
             [
              0.8888888888888888,
              "#fdca26"
             ],
             [
              1,
              "#f0f921"
             ]
            ],
            "type": "histogram2d"
           }
          ],
          "histogram2dcontour": [
           {
            "colorbar": {
             "outlinewidth": 0,
             "ticks": ""
            },
            "colorscale": [
             [
              0,
              "#0d0887"
             ],
             [
              0.1111111111111111,
              "#46039f"
             ],
             [
              0.2222222222222222,
              "#7201a8"
             ],
             [
              0.3333333333333333,
              "#9c179e"
             ],
             [
              0.4444444444444444,
              "#bd3786"
             ],
             [
              0.5555555555555556,
              "#d8576b"
             ],
             [
              0.6666666666666666,
              "#ed7953"
             ],
             [
              0.7777777777777778,
              "#fb9f3a"
             ],
             [
              0.8888888888888888,
              "#fdca26"
             ],
             [
              1,
              "#f0f921"
             ]
            ],
            "type": "histogram2dcontour"
           }
          ],
          "mesh3d": [
           {
            "colorbar": {
             "outlinewidth": 0,
             "ticks": ""
            },
            "type": "mesh3d"
           }
          ],
          "parcoords": [
           {
            "line": {
             "colorbar": {
              "outlinewidth": 0,
              "ticks": ""
             }
            },
            "type": "parcoords"
           }
          ],
          "pie": [
           {
            "automargin": true,
            "type": "pie"
           }
          ],
          "scatter": [
           {
            "fillpattern": {
             "fillmode": "overlay",
             "size": 10,
             "solidity": 0.2
            },
            "type": "scatter"
           }
          ],
          "scatter3d": [
           {
            "line": {
             "colorbar": {
              "outlinewidth": 0,
              "ticks": ""
             }
            },
            "marker": {
             "colorbar": {
              "outlinewidth": 0,
              "ticks": ""
             }
            },
            "type": "scatter3d"
           }
          ],
          "scattercarpet": [
           {
            "marker": {
             "colorbar": {
              "outlinewidth": 0,
              "ticks": ""
             }
            },
            "type": "scattercarpet"
           }
          ],
          "scattergeo": [
           {
            "marker": {
             "colorbar": {
              "outlinewidth": 0,
              "ticks": ""
             }
            },
            "type": "scattergeo"
           }
          ],
          "scattergl": [
           {
            "marker": {
             "colorbar": {
              "outlinewidth": 0,
              "ticks": ""
             }
            },
            "type": "scattergl"
           }
          ],
          "scattermapbox": [
           {
            "marker": {
             "colorbar": {
              "outlinewidth": 0,
              "ticks": ""
             }
            },
            "type": "scattermapbox"
           }
          ],
          "scatterpolar": [
           {
            "marker": {
             "colorbar": {
              "outlinewidth": 0,
              "ticks": ""
             }
            },
            "type": "scatterpolar"
           }
          ],
          "scatterpolargl": [
           {
            "marker": {
             "colorbar": {
              "outlinewidth": 0,
              "ticks": ""
             }
            },
            "type": "scatterpolargl"
           }
          ],
          "scatterternary": [
           {
            "marker": {
             "colorbar": {
              "outlinewidth": 0,
              "ticks": ""
             }
            },
            "type": "scatterternary"
           }
          ],
          "surface": [
           {
            "colorbar": {
             "outlinewidth": 0,
             "ticks": ""
            },
            "colorscale": [
             [
              0,
              "#0d0887"
             ],
             [
              0.1111111111111111,
              "#46039f"
             ],
             [
              0.2222222222222222,
              "#7201a8"
             ],
             [
              0.3333333333333333,
              "#9c179e"
             ],
             [
              0.4444444444444444,
              "#bd3786"
             ],
             [
              0.5555555555555556,
              "#d8576b"
             ],
             [
              0.6666666666666666,
              "#ed7953"
             ],
             [
              0.7777777777777778,
              "#fb9f3a"
             ],
             [
              0.8888888888888888,
              "#fdca26"
             ],
             [
              1,
              "#f0f921"
             ]
            ],
            "type": "surface"
           }
          ],
          "table": [
           {
            "cells": {
             "fill": {
              "color": "#EBF0F8"
             },
             "line": {
              "color": "white"
             }
            },
            "header": {
             "fill": {
              "color": "#C8D4E3"
             },
             "line": {
              "color": "white"
             }
            },
            "type": "table"
           }
          ]
         },
         "layout": {
          "annotationdefaults": {
           "arrowcolor": "#2a3f5f",
           "arrowhead": 0,
           "arrowwidth": 1
          },
          "autotypenumbers": "strict",
          "coloraxis": {
           "colorbar": {
            "outlinewidth": 0,
            "ticks": ""
           }
          },
          "colorscale": {
           "diverging": [
            [
             0,
             "#8e0152"
            ],
            [
             0.1,
             "#c51b7d"
            ],
            [
             0.2,
             "#de77ae"
            ],
            [
             0.3,
             "#f1b6da"
            ],
            [
             0.4,
             "#fde0ef"
            ],
            [
             0.5,
             "#f7f7f7"
            ],
            [
             0.6,
             "#e6f5d0"
            ],
            [
             0.7,
             "#b8e186"
            ],
            [
             0.8,
             "#7fbc41"
            ],
            [
             0.9,
             "#4d9221"
            ],
            [
             1,
             "#276419"
            ]
           ],
           "sequential": [
            [
             0,
             "#0d0887"
            ],
            [
             0.1111111111111111,
             "#46039f"
            ],
            [
             0.2222222222222222,
             "#7201a8"
            ],
            [
             0.3333333333333333,
             "#9c179e"
            ],
            [
             0.4444444444444444,
             "#bd3786"
            ],
            [
             0.5555555555555556,
             "#d8576b"
            ],
            [
             0.6666666666666666,
             "#ed7953"
            ],
            [
             0.7777777777777778,
             "#fb9f3a"
            ],
            [
             0.8888888888888888,
             "#fdca26"
            ],
            [
             1,
             "#f0f921"
            ]
           ],
           "sequentialminus": [
            [
             0,
             "#0d0887"
            ],
            [
             0.1111111111111111,
             "#46039f"
            ],
            [
             0.2222222222222222,
             "#7201a8"
            ],
            [
             0.3333333333333333,
             "#9c179e"
            ],
            [
             0.4444444444444444,
             "#bd3786"
            ],
            [
             0.5555555555555556,
             "#d8576b"
            ],
            [
             0.6666666666666666,
             "#ed7953"
            ],
            [
             0.7777777777777778,
             "#fb9f3a"
            ],
            [
             0.8888888888888888,
             "#fdca26"
            ],
            [
             1,
             "#f0f921"
            ]
           ]
          },
          "colorway": [
           "#636efa",
           "#EF553B",
           "#00cc96",
           "#ab63fa",
           "#FFA15A",
           "#19d3f3",
           "#FF6692",
           "#B6E880",
           "#FF97FF",
           "#FECB52"
          ],
          "font": {
           "color": "#2a3f5f"
          },
          "geo": {
           "bgcolor": "white",
           "lakecolor": "white",
           "landcolor": "#E5ECF6",
           "showlakes": true,
           "showland": true,
           "subunitcolor": "white"
          },
          "hoverlabel": {
           "align": "left"
          },
          "hovermode": "closest",
          "mapbox": {
           "style": "light"
          },
          "paper_bgcolor": "white",
          "plot_bgcolor": "#E5ECF6",
          "polar": {
           "angularaxis": {
            "gridcolor": "white",
            "linecolor": "white",
            "ticks": ""
           },
           "bgcolor": "#E5ECF6",
           "radialaxis": {
            "gridcolor": "white",
            "linecolor": "white",
            "ticks": ""
           }
          },
          "scene": {
           "xaxis": {
            "backgroundcolor": "#E5ECF6",
            "gridcolor": "white",
            "gridwidth": 2,
            "linecolor": "white",
            "showbackground": true,
            "ticks": "",
            "zerolinecolor": "white"
           },
           "yaxis": {
            "backgroundcolor": "#E5ECF6",
            "gridcolor": "white",
            "gridwidth": 2,
            "linecolor": "white",
            "showbackground": true,
            "ticks": "",
            "zerolinecolor": "white"
           },
           "zaxis": {
            "backgroundcolor": "#E5ECF6",
            "gridcolor": "white",
            "gridwidth": 2,
            "linecolor": "white",
            "showbackground": true,
            "ticks": "",
            "zerolinecolor": "white"
           }
          },
          "shapedefaults": {
           "line": {
            "color": "#2a3f5f"
           }
          },
          "ternary": {
           "aaxis": {
            "gridcolor": "white",
            "linecolor": "white",
            "ticks": ""
           },
           "baxis": {
            "gridcolor": "white",
            "linecolor": "white",
            "ticks": ""
           },
           "bgcolor": "#E5ECF6",
           "caxis": {
            "gridcolor": "white",
            "linecolor": "white",
            "ticks": ""
           }
          },
          "title": {
           "x": 0.05
          },
          "xaxis": {
           "automargin": true,
           "gridcolor": "white",
           "linecolor": "white",
           "ticks": "",
           "title": {
            "standoff": 15
           },
           "zerolinecolor": "white",
           "zerolinewidth": 2
          },
          "yaxis": {
           "automargin": true,
           "gridcolor": "white",
           "linecolor": "white",
           "ticks": "",
           "title": {
            "standoff": 15
           },
           "zerolinecolor": "white",
           "zerolinewidth": 2
          }
         }
        },
        "title": {
         "font": {
          "color": "white"
         },
         "text": "RandomForestClassifier Confusion Matrix"
        },
        "xaxis": {
         "anchor": "y",
         "color": "black",
         "constrain": "domain",
         "domain": [
          0,
          1
         ],
         "dtick": 20,
         "scaleanchor": "y",
         "showticklabels": true,
         "tickmode": "array",
         "ticktext": [
          "Survived",
          "Not Survived"
         ],
         "tickvals": [
          0,
          1
         ],
         "title": {
          "font": {
           "size": 18
          },
          "text": "Actual Values"
         }
        },
        "yaxis": {
         "anchor": "x",
         "autorange": "reversed",
         "color": "black",
         "constrain": "domain",
         "domain": [
          0,
          1
         ],
         "dtick": 20,
         "showticklabels": true,
         "tickmode": "array",
         "ticktext": [
          "Survived",
          "Not Survived"
         ],
         "tickvals": [
          0,
          1
         ],
         "title": {
          "font": {
           "size": 18
          },
          "text": "Predicted Values"
         }
        }
       }
      },
      "text/html": [
       "<div>                            <div id=\"0db0bfae-e673-4470-9675-a1f8bfc4c20e\" class=\"plotly-graph-div\" style=\"height:525px; width:100%;\"></div>            <script type=\"text/javascript\">                require([\"plotly\"], function(Plotly) {                    window.PLOTLYENV=window.PLOTLYENV || {};                                    if (document.getElementById(\"0db0bfae-e673-4470-9675-a1f8bfc4c20e\")) {                    Plotly.newPlot(                        \"0db0bfae-e673-4470-9675-a1f8bfc4c20e\",                        [{\"coloraxis\":\"coloraxis\",\"hovertemplate\":\"Actual Values: %{x}\\u003cbr\\u003ePredicted Values: %{y}\\u003cbr\\u003emetric scale: %{z}\\u003cextra\\u003e\\u003c\\u002fextra\\u003e\",\"name\":\"0\",\"texttemplate\":\"%{z}\",\"x\":[0,1],\"xaxis\":\"x\",\"y\":[\"Survived\",\"Not Survived\"],\"yaxis\":\"y\",\"z\":[[1.0,0.032],[0.0,0.968]],\"type\":\"heatmap\"}],                        {\"autosize\":false,\"coloraxis\":{\"colorbar\":{\"title\":{\"text\":\"metric scale\"}},\"colorscale\":[[0.0,\"rgb(255,255,229)\"],[0.125,\"rgb(247,252,185)\"],[0.25,\"rgb(217,240,163)\"],[0.375,\"rgb(173,221,142)\"],[0.5,\"rgb(120,198,121)\"],[0.625,\"rgb(65,171,93)\"],[0.75,\"rgb(35,132,67)\"],[0.875,\"rgb(0,104,55)\"],[1.0,\"rgb(0,69,41)\"]]},\"margin\":{\"t\":60},\"template\":{\"data\":{\"barpolar\":[{\"marker\":{\"line\":{\"color\":\"#E5ECF6\",\"width\":0.5},\"pattern\":{\"fillmode\":\"overlay\",\"size\":10,\"solidity\":0.2}},\"type\":\"barpolar\"}],\"bar\":[{\"error_x\":{\"color\":\"#2a3f5f\"},\"error_y\":{\"color\":\"#2a3f5f\"},\"marker\":{\"line\":{\"color\":\"#E5ECF6\",\"width\":0.5},\"pattern\":{\"fillmode\":\"overlay\",\"size\":10,\"solidity\":0.2}},\"type\":\"bar\"}],\"carpet\":[{\"aaxis\":{\"endlinecolor\":\"#2a3f5f\",\"gridcolor\":\"white\",\"linecolor\":\"white\",\"minorgridcolor\":\"white\",\"startlinecolor\":\"#2a3f5f\"},\"baxis\":{\"endlinecolor\":\"#2a3f5f\",\"gridcolor\":\"white\",\"linecolor\":\"white\",\"minorgridcolor\":\"white\",\"startlinecolor\":\"#2a3f5f\"},\"type\":\"carpet\"}],\"choropleth\":[{\"colorbar\":{\"outlinewidth\":0,\"ticks\":\"\"},\"type\":\"choropleth\"}],\"contourcarpet\":[{\"colorbar\":{\"outlinewidth\":0,\"ticks\":\"\"},\"type\":\"contourcarpet\"}],\"contour\":[{\"colorbar\":{\"outlinewidth\":0,\"ticks\":\"\"},\"colorscale\":[[0.0,\"#0d0887\"],[0.1111111111111111,\"#46039f\"],[0.2222222222222222,\"#7201a8\"],[0.3333333333333333,\"#9c179e\"],[0.4444444444444444,\"#bd3786\"],[0.5555555555555556,\"#d8576b\"],[0.6666666666666666,\"#ed7953\"],[0.7777777777777778,\"#fb9f3a\"],[0.8888888888888888,\"#fdca26\"],[1.0,\"#f0f921\"]],\"type\":\"contour\"}],\"heatmapgl\":[{\"colorbar\":{\"outlinewidth\":0,\"ticks\":\"\"},\"colorscale\":[[0.0,\"#0d0887\"],[0.1111111111111111,\"#46039f\"],[0.2222222222222222,\"#7201a8\"],[0.3333333333333333,\"#9c179e\"],[0.4444444444444444,\"#bd3786\"],[0.5555555555555556,\"#d8576b\"],[0.6666666666666666,\"#ed7953\"],[0.7777777777777778,\"#fb9f3a\"],[0.8888888888888888,\"#fdca26\"],[1.0,\"#f0f921\"]],\"type\":\"heatmapgl\"}],\"heatmap\":[{\"colorbar\":{\"outlinewidth\":0,\"ticks\":\"\"},\"colorscale\":[[0.0,\"#0d0887\"],[0.1111111111111111,\"#46039f\"],[0.2222222222222222,\"#7201a8\"],[0.3333333333333333,\"#9c179e\"],[0.4444444444444444,\"#bd3786\"],[0.5555555555555556,\"#d8576b\"],[0.6666666666666666,\"#ed7953\"],[0.7777777777777778,\"#fb9f3a\"],[0.8888888888888888,\"#fdca26\"],[1.0,\"#f0f921\"]],\"type\":\"heatmap\"}],\"histogram2dcontour\":[{\"colorbar\":{\"outlinewidth\":0,\"ticks\":\"\"},\"colorscale\":[[0.0,\"#0d0887\"],[0.1111111111111111,\"#46039f\"],[0.2222222222222222,\"#7201a8\"],[0.3333333333333333,\"#9c179e\"],[0.4444444444444444,\"#bd3786\"],[0.5555555555555556,\"#d8576b\"],[0.6666666666666666,\"#ed7953\"],[0.7777777777777778,\"#fb9f3a\"],[0.8888888888888888,\"#fdca26\"],[1.0,\"#f0f921\"]],\"type\":\"histogram2dcontour\"}],\"histogram2d\":[{\"colorbar\":{\"outlinewidth\":0,\"ticks\":\"\"},\"colorscale\":[[0.0,\"#0d0887\"],[0.1111111111111111,\"#46039f\"],[0.2222222222222222,\"#7201a8\"],[0.3333333333333333,\"#9c179e\"],[0.4444444444444444,\"#bd3786\"],[0.5555555555555556,\"#d8576b\"],[0.6666666666666666,\"#ed7953\"],[0.7777777777777778,\"#fb9f3a\"],[0.8888888888888888,\"#fdca26\"],[1.0,\"#f0f921\"]],\"type\":\"histogram2d\"}],\"histogram\":[{\"marker\":{\"pattern\":{\"fillmode\":\"overlay\",\"size\":10,\"solidity\":0.2}},\"type\":\"histogram\"}],\"mesh3d\":[{\"colorbar\":{\"outlinewidth\":0,\"ticks\":\"\"},\"type\":\"mesh3d\"}],\"parcoords\":[{\"line\":{\"colorbar\":{\"outlinewidth\":0,\"ticks\":\"\"}},\"type\":\"parcoords\"}],\"pie\":[{\"automargin\":true,\"type\":\"pie\"}],\"scatter3d\":[{\"line\":{\"colorbar\":{\"outlinewidth\":0,\"ticks\":\"\"}},\"marker\":{\"colorbar\":{\"outlinewidth\":0,\"ticks\":\"\"}},\"type\":\"scatter3d\"}],\"scattercarpet\":[{\"marker\":{\"colorbar\":{\"outlinewidth\":0,\"ticks\":\"\"}},\"type\":\"scattercarpet\"}],\"scattergeo\":[{\"marker\":{\"colorbar\":{\"outlinewidth\":0,\"ticks\":\"\"}},\"type\":\"scattergeo\"}],\"scattergl\":[{\"marker\":{\"colorbar\":{\"outlinewidth\":0,\"ticks\":\"\"}},\"type\":\"scattergl\"}],\"scattermapbox\":[{\"marker\":{\"colorbar\":{\"outlinewidth\":0,\"ticks\":\"\"}},\"type\":\"scattermapbox\"}],\"scatterpolargl\":[{\"marker\":{\"colorbar\":{\"outlinewidth\":0,\"ticks\":\"\"}},\"type\":\"scatterpolargl\"}],\"scatterpolar\":[{\"marker\":{\"colorbar\":{\"outlinewidth\":0,\"ticks\":\"\"}},\"type\":\"scatterpolar\"}],\"scatter\":[{\"fillpattern\":{\"fillmode\":\"overlay\",\"size\":10,\"solidity\":0.2},\"type\":\"scatter\"}],\"scatterternary\":[{\"marker\":{\"colorbar\":{\"outlinewidth\":0,\"ticks\":\"\"}},\"type\":\"scatterternary\"}],\"surface\":[{\"colorbar\":{\"outlinewidth\":0,\"ticks\":\"\"},\"colorscale\":[[0.0,\"#0d0887\"],[0.1111111111111111,\"#46039f\"],[0.2222222222222222,\"#7201a8\"],[0.3333333333333333,\"#9c179e\"],[0.4444444444444444,\"#bd3786\"],[0.5555555555555556,\"#d8576b\"],[0.6666666666666666,\"#ed7953\"],[0.7777777777777778,\"#fb9f3a\"],[0.8888888888888888,\"#fdca26\"],[1.0,\"#f0f921\"]],\"type\":\"surface\"}],\"table\":[{\"cells\":{\"fill\":{\"color\":\"#EBF0F8\"},\"line\":{\"color\":\"white\"}},\"header\":{\"fill\":{\"color\":\"#C8D4E3\"},\"line\":{\"color\":\"white\"}},\"type\":\"table\"}]},\"layout\":{\"annotationdefaults\":{\"arrowcolor\":\"#2a3f5f\",\"arrowhead\":0,\"arrowwidth\":1},\"autotypenumbers\":\"strict\",\"coloraxis\":{\"colorbar\":{\"outlinewidth\":0,\"ticks\":\"\"}},\"colorscale\":{\"diverging\":[[0,\"#8e0152\"],[0.1,\"#c51b7d\"],[0.2,\"#de77ae\"],[0.3,\"#f1b6da\"],[0.4,\"#fde0ef\"],[0.5,\"#f7f7f7\"],[0.6,\"#e6f5d0\"],[0.7,\"#b8e186\"],[0.8,\"#7fbc41\"],[0.9,\"#4d9221\"],[1,\"#276419\"]],\"sequential\":[[0.0,\"#0d0887\"],[0.1111111111111111,\"#46039f\"],[0.2222222222222222,\"#7201a8\"],[0.3333333333333333,\"#9c179e\"],[0.4444444444444444,\"#bd3786\"],[0.5555555555555556,\"#d8576b\"],[0.6666666666666666,\"#ed7953\"],[0.7777777777777778,\"#fb9f3a\"],[0.8888888888888888,\"#fdca26\"],[1.0,\"#f0f921\"]],\"sequentialminus\":[[0.0,\"#0d0887\"],[0.1111111111111111,\"#46039f\"],[0.2222222222222222,\"#7201a8\"],[0.3333333333333333,\"#9c179e\"],[0.4444444444444444,\"#bd3786\"],[0.5555555555555556,\"#d8576b\"],[0.6666666666666666,\"#ed7953\"],[0.7777777777777778,\"#fb9f3a\"],[0.8888888888888888,\"#fdca26\"],[1.0,\"#f0f921\"]]},\"colorway\":[\"#636efa\",\"#EF553B\",\"#00cc96\",\"#ab63fa\",\"#FFA15A\",\"#19d3f3\",\"#FF6692\",\"#B6E880\",\"#FF97FF\",\"#FECB52\"],\"font\":{\"color\":\"#2a3f5f\"},\"geo\":{\"bgcolor\":\"white\",\"lakecolor\":\"white\",\"landcolor\":\"#E5ECF6\",\"showlakes\":true,\"showland\":true,\"subunitcolor\":\"white\"},\"hoverlabel\":{\"align\":\"left\"},\"hovermode\":\"closest\",\"mapbox\":{\"style\":\"light\"},\"paper_bgcolor\":\"white\",\"plot_bgcolor\":\"#E5ECF6\",\"polar\":{\"angularaxis\":{\"gridcolor\":\"white\",\"linecolor\":\"white\",\"ticks\":\"\"},\"bgcolor\":\"#E5ECF6\",\"radialaxis\":{\"gridcolor\":\"white\",\"linecolor\":\"white\",\"ticks\":\"\"}},\"scene\":{\"xaxis\":{\"backgroundcolor\":\"#E5ECF6\",\"gridcolor\":\"white\",\"gridwidth\":2,\"linecolor\":\"white\",\"showbackground\":true,\"ticks\":\"\",\"zerolinecolor\":\"white\"},\"yaxis\":{\"backgroundcolor\":\"#E5ECF6\",\"gridcolor\":\"white\",\"gridwidth\":2,\"linecolor\":\"white\",\"showbackground\":true,\"ticks\":\"\",\"zerolinecolor\":\"white\"},\"zaxis\":{\"backgroundcolor\":\"#E5ECF6\",\"gridcolor\":\"white\",\"gridwidth\":2,\"linecolor\":\"white\",\"showbackground\":true,\"ticks\":\"\",\"zerolinecolor\":\"white\"}},\"shapedefaults\":{\"line\":{\"color\":\"#2a3f5f\"}},\"ternary\":{\"aaxis\":{\"gridcolor\":\"white\",\"linecolor\":\"white\",\"ticks\":\"\"},\"baxis\":{\"gridcolor\":\"white\",\"linecolor\":\"white\",\"ticks\":\"\"},\"bgcolor\":\"#E5ECF6\",\"caxis\":{\"gridcolor\":\"white\",\"linecolor\":\"white\",\"ticks\":\"\"}},\"title\":{\"x\":0.05},\"xaxis\":{\"automargin\":true,\"gridcolor\":\"white\",\"linecolor\":\"white\",\"ticks\":\"\",\"title\":{\"standoff\":15},\"zerolinecolor\":\"white\",\"zerolinewidth\":2},\"yaxis\":{\"automargin\":true,\"gridcolor\":\"white\",\"linecolor\":\"white\",\"ticks\":\"\",\"title\":{\"standoff\":15},\"zerolinecolor\":\"white\",\"zerolinewidth\":2}}},\"title\":{\"font\":{\"color\":\"white\"},\"text\":\"RandomForestClassifier Confusion Matrix\"},\"xaxis\":{\"anchor\":\"y\",\"color\":\"black\",\"constrain\":\"domain\",\"domain\":[0.0,1.0],\"dtick\":20,\"scaleanchor\":\"y\",\"showticklabels\":true,\"tickmode\":\"array\",\"ticktext\":[\"Survived\",\"Not Survived\"],\"tickvals\":[0,1],\"title\":{\"font\":{\"size\":18},\"text\":\"Actual Values\"}},\"yaxis\":{\"anchor\":\"x\",\"autorange\":\"reversed\",\"color\":\"black\",\"constrain\":\"domain\",\"domain\":[0.0,1.0],\"dtick\":20,\"showticklabels\":true,\"tickmode\":\"array\",\"ticktext\":[\"Survived\",\"Not Survived\"],\"tickvals\":[0,1],\"title\":{\"font\":{\"size\":18},\"text\":\"Predicted Values\"}}},                        {\"responsive\": true}                    ).then(function(){\n",
       "                            \n",
       "var gd = document.getElementById('0db0bfae-e673-4470-9675-a1f8bfc4c20e');\n",
       "var x = new MutationObserver(function (mutations, observer) {{\n",
       "        var display = window.getComputedStyle(gd).display;\n",
       "        if (!display || display === 'none') {{\n",
       "            console.log([gd, 'removed!']);\n",
       "            Plotly.purge(gd);\n",
       "            observer.disconnect();\n",
       "        }}\n",
       "}});\n",
       "\n",
       "// Listen for the removal of the full notebook cells\n",
       "var notebookContainer = gd.closest('#notebook-container');\n",
       "if (notebookContainer) {{\n",
       "    x.observe(notebookContainer, {childList: true});\n",
       "}}\n",
       "\n",
       "// Listen for the clearing of the current output cell\n",
       "var outputEl = gd.closest('.output');\n",
       "if (outputEl) {{\n",
       "    x.observe(outputEl, {childList: true});\n",
       "}}\n",
       "\n",
       "                        })                };                });            </script>        </div>"
      ]
     },
     "metadata": {},
     "output_type": "display_data"
    }
   ],
   "source": [
    "read_from_json(\"model/RandomForest_CM.json\")"
   ]
  },
  {
   "cell_type": "code",
   "execution_count": null,
   "id": "29ab61cc",
   "metadata": {},
   "outputs": [],
   "source": []
  }
 ],
 "metadata": {
  "kernelspec": {
   "display_name": "Python 3 (ipykernel)",
   "language": "python",
   "name": "python3"
  },
  "language_info": {
   "codemirror_mode": {
    "name": "ipython",
    "version": 3
   },
   "file_extension": ".py",
   "mimetype": "text/x-python",
   "name": "python",
   "nbconvert_exporter": "python",
   "pygments_lexer": "ipython3",
   "version": "3.10.14"
  }
 },
 "nbformat": 4,
 "nbformat_minor": 5
}
